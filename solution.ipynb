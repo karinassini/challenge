{
 "cells": [
  {
   "cell_type": "markdown",
   "metadata": {
    "application/vnd.databricks.v1+cell": {
     "cellMetadata": {
      "byteLimit": 2048000,
      "rowLimit": 10000
     },
     "inputWidgets": {},
     "nuid": "4811df3e-83e4-4020-8b6d-28d25b8e15f2",
     "showTitle": false,
     "title": ""
    }
   },
   "source": [
    "# Import libs"
   ]
  },
  {
   "cell_type": "code",
   "execution_count": 0,
   "metadata": {
    "application/vnd.databricks.v1+cell": {
     "cellMetadata": {
      "byteLimit": 2048000,
      "rowLimit": 10000
     },
     "inputWidgets": {},
     "nuid": "42de9208-eab7-4ac1-8311-324cc20b65c5",
     "showTitle": false,
     "title": ""
    }
   },
   "outputs": [],
   "source": [
    "!pip install --upgrade pip && pip install --no-cache-dir -r requirements/requirements.txt"
   ]
  },
  {
   "cell_type": "code",
   "execution_count": 0,
   "metadata": {
    "application/vnd.databricks.v1+cell": {
     "cellMetadata": {
      "byteLimit": 2048000,
      "rowLimit": 10000
     },
     "inputWidgets": {},
     "nuid": "3a341d2e-45b1-48b2-ac89-03274a6cf965",
     "showTitle": false,
     "title": ""
    }
   },
   "outputs": [],
   "source": [
    "import sys\n",
    "import warnings\n",
    "import pandas as pd\n",
    "import numpy as np\n",
    "import datetime\n",
    "\n",
    "import matplotlib.pyplot as plt\n",
    "from matplotlib.ticker import PercentFormatter\n",
    "import seaborn as sns\n",
    "\n",
    "%matplotlib inline\n",
    "\n",
    "from scipy import stats\n",
    "import association_metrics as am\n",
    "import pingouin as pg\n",
    "\n",
    "from sklearn.model_selection import train_test_split, StratifiedKFold\n",
    "from sklearn.metrics import (\n",
    "    f1_score,\n",
    "    precision_score,\n",
    "    recall_score,\n",
    "    classification_report,\n",
    "    confusion_matrix,\n",
    ")\n",
    "import lightgbm as lgbm\n",
    "from catboost import CatBoostClassifier, Pool\n",
    "from sklearn.preprocessing import OneHotEncoder\n",
    "import category_encoders as ce\n",
    "\n",
    "from core.functions import (\n",
    "    continuous_to_binary,\n",
    "    lgbm_class_hyperparameter_tuning_pipeline,\n",
    ")\n",
    "\n",
    "import optuna\n",
    "import shap\n",
    "\n",
    "warnings.filterwarnings(\"ignore\")"
   ]
  },
  {
   "cell_type": "code",
   "execution_count": 0,
   "metadata": {
    "application/vnd.databricks.v1+cell": {
     "cellMetadata": {
      "byteLimit": 2048000,
      "rowLimit": 10000
     },
     "inputWidgets": {},
     "nuid": "d1866764-3619-410a-b7c2-b4385106264b",
     "showTitle": false,
     "title": ""
    }
   },
   "outputs": [],
   "source": [
    "import mlflow\n",
    "\n",
    "mlflow.autolog(disable=True)"
   ]
  },
  {
   "cell_type": "code",
   "execution_count": 0,
   "metadata": {
    "application/vnd.databricks.v1+cell": {
     "cellMetadata": {
      "byteLimit": 2048000,
      "rowLimit": 10000
     },
     "inputWidgets": {},
     "nuid": "865df3fb-ccb8-4257-8aef-7089683e10fb",
     "showTitle": false,
     "title": ""
    }
   },
   "outputs": [],
   "source": [
    "path = \"data/dataset_SCL.csv\""
   ]
  },
  {
   "cell_type": "markdown",
   "metadata": {
    "application/vnd.databricks.v1+cell": {
     "cellMetadata": {
      "byteLimit": 2048000,
      "rowLimit": 10000
     },
     "inputWidgets": {},
     "nuid": "fbb91ee1-eb55-4f29-9788-e85b08c9f4a8",
     "showTitle": false,
     "title": ""
    }
   },
   "source": [
    "# Challenges\n",
    "\n",
    "- Below are the analyzes and answers to questions one through five."
   ]
  },
  {
   "cell_type": "markdown",
   "metadata": {
    "application/vnd.databricks.v1+cell": {
     "cellMetadata": {
      "byteLimit": 2048000,
      "rowLimit": 10000
     },
     "inputWidgets": {},
     "nuid": "b2ea4cee-e83f-4902-8332-72579a37974e",
     "showTitle": false,
     "title": ""
    }
   },
   "source": [
    "## 1 and 2"
   ]
  },
  {
   "cell_type": "code",
   "execution_count": 0,
   "metadata": {
    "application/vnd.databricks.v1+cell": {
     "cellMetadata": {
      "byteLimit": 2048000,
      "rowLimit": 10000
     },
     "inputWidgets": {},
     "nuid": "b8ac0b6d-7900-43e3-80b5-7f48f63fbe54",
     "showTitle": false,
     "title": ""
    }
   },
   "outputs": [],
   "source": [
    "df = pd.read_csv(path)"
   ]
  },
  {
   "cell_type": "code",
   "execution_count": 0,
   "metadata": {
    "application/vnd.databricks.v1+cell": {
     "cellMetadata": {
      "byteLimit": 2048000,
      "rowLimit": 10000
     },
     "inputWidgets": {},
     "nuid": "39cd8b3c-c6e7-4978-8c20-9baedbf8ee30",
     "showTitle": false,
     "title": ""
    }
   },
   "outputs": [],
   "source": [
    "dict_columns = {\n",
    "    \"Fecha-I\": \"scheduled_date_and_time\",\n",
    "    \"Vlo-I\": \"scheduled_flight_number\",\n",
    "    \"Ori-I\": \"scheduled_origin_city_code\",\n",
    "    \"Des-I\": \"scheduled_destination_city_code\",\n",
    "    \"Emp-I\": \"scheduled_airline_code\",\n",
    "    \"Fecha-O\": \"operation_date_and_time\",\n",
    "    \"Vlo-O\": \"operation_number\",\n",
    "    \"Ori-O\": \"operation_origin_city_code\",\n",
    "    \"Des-O\": \"operation_destination_city_code\",\n",
    "    \"Emp-O\": \"operated_airline_code\",\n",
    "    \"DIA\": \"day_operation\",\n",
    "    \"MES\": \"month_operation\",\n",
    "    \"AÑO\": \"year_operation\",\n",
    "    \"DIANOM\": \"day_of_the_week_operation\",\n",
    "    \"TIPOVUELO\": \"type_of_flight\",\n",
    "    \"OPERA\": \"airline_that_operates\",\n",
    "    \"SIGLAORI\": \"origin_city_name\",\n",
    "    \"SIGLADES\": \"destination_city_name\",\n",
    "}"
   ]
  },
  {
   "cell_type": "code",
   "execution_count": 0,
   "metadata": {
    "application/vnd.databricks.v1+cell": {
     "cellMetadata": {
      "byteLimit": 2048000,
      "rowLimit": 10000
     },
     "inputWidgets": {},
     "nuid": "27992198-5a92-4da7-b4fc-560a103e7afc",
     "showTitle": false,
     "title": ""
    }
   },
   "outputs": [],
   "source": [
    "df = df.rename(columns=dict_columns).reset_index(drop=True)"
   ]
  },
  {
   "cell_type": "code",
   "execution_count": 0,
   "metadata": {
    "application/vnd.databricks.v1+cell": {
     "cellMetadata": {
      "byteLimit": 2048000,
      "rowLimit": 10000
     },
     "inputWidgets": {},
     "nuid": "2e11b736-c221-47b5-839b-1683dfb2cea4",
     "showTitle": false,
     "title": ""
    }
   },
   "outputs": [],
   "source": [
    "df.head()"
   ]
  },
  {
   "cell_type": "code",
   "execution_count": 0,
   "metadata": {
    "application/vnd.databricks.v1+cell": {
     "cellMetadata": {
      "byteLimit": 2048000,
      "rowLimit": 10000
     },
     "inputWidgets": {},
     "nuid": "9fa39ff7-50a6-4217-98e7-3601974a2486",
     "showTitle": false,
     "title": ""
    }
   },
   "outputs": [],
   "source": [
    "# Understanding unique values to aid in feature engineering analysis\n",
    "for column in df.columns:\n",
    "    print(f\"Column {column} has {df[column].nunique()} unique values.\")"
   ]
  },
  {
   "cell_type": "markdown",
   "metadata": {
    "application/vnd.databricks.v1+cell": {
     "cellMetadata": {
      "byteLimit": 2048000,
      "rowLimit": 10000
     },
     "inputWidgets": {},
     "nuid": "466e01b9-1bb8-410f-9cea-244d7ad9a04d",
     "showTitle": false,
     "title": ""
    }
   },
   "source": [
    "### Null data"
   ]
  },
  {
   "cell_type": "code",
   "execution_count": 0,
   "metadata": {
    "application/vnd.databricks.v1+cell": {
     "cellMetadata": {
      "byteLimit": 2048000,
      "rowLimit": 10000
     },
     "inputWidgets": {},
     "nuid": "e8878049-49e7-4b70-b7b9-4f8730109be7",
     "showTitle": false,
     "title": ""
    }
   },
   "outputs": [],
   "source": [
    "# Just one value missing\n",
    "df.info()"
   ]
  },
  {
   "cell_type": "code",
   "execution_count": 0,
   "metadata": {
    "application/vnd.databricks.v1+cell": {
     "cellMetadata": {
      "byteLimit": 2048000,
      "rowLimit": 10000
     },
     "inputWidgets": {},
     "nuid": "36e3b1be-07c4-4292-b78b-df6c04e47ad0",
     "showTitle": false,
     "title": ""
    }
   },
   "outputs": [],
   "source": [
    "df.query(\"operation_number.isna()\", engine=\"python\")"
   ]
  },
  {
   "cell_type": "markdown",
   "metadata": {
    "application/vnd.databricks.v1+cell": {
     "cellMetadata": {
      "byteLimit": 2048000,
      "rowLimit": 10000
     },
     "inputWidgets": {},
     "nuid": "9d0713c5-ef77-4e99-afd5-6c6554a15bbd",
     "showTitle": false,
     "title": ""
    }
   },
   "source": [
    "#### Understanding correlation between flight operation data for filling null data in operation_number\n",
    "\n",
    "- Note: It is important to review and validate these methods for filling in the missing values with experts from the business."
   ]
  },
  {
   "cell_type": "code",
   "execution_count": 0,
   "metadata": {
    "application/vnd.databricks.v1+cell": {
     "cellMetadata": {
      "byteLimit": 2048000,
      "rowLimit": 10000
     },
     "inputWidgets": {},
     "nuid": "c24b9f75-ed53-4683-a128-9e4efb5e3ed0",
     "showTitle": false,
     "title": ""
    }
   },
   "outputs": [],
   "source": [
    "operational_columns = [\n",
    "    \"operation_number\",\n",
    "    \"operation_destination_city_code\",\n",
    "    \"operated_airline_code\",\n",
    "    \"month_operation\",\n",
    "    \"day_operation\",\n",
    "    \"day_of_the_week_operation\",\n",
    "    \"destination_city_name\",\n",
    "    \"airline_that_operates\",\n",
    "]"
   ]
  },
  {
   "cell_type": "code",
   "execution_count": 0,
   "metadata": {
    "application/vnd.databricks.v1+cell": {
     "cellMetadata": {
      "byteLimit": 2048000,
      "rowLimit": 10000
     },
     "inputWidgets": {},
     "nuid": "28be1607-3ff4-4e08-b094-c84ed2a766e8",
     "showTitle": false,
     "title": ""
    }
   },
   "outputs": [],
   "source": [
    "# Initialize a CramersV object: understanding categorical x categorial correlation\n",
    "\n",
    "df_aux = df[operational_columns].dropna()\n",
    "\n",
    "df_aux = df_aux.apply(lambda x: x.astype(\"category\") if x.dtype == \"O\" else x)\n",
    "\n",
    "cramers_v = am.CramersV(df_aux)\n",
    "cfit = cramers_v.fit().round(2)"
   ]
  },
  {
   "cell_type": "code",
   "execution_count": 0,
   "metadata": {
    "application/vnd.databricks.v1+cell": {
     "cellMetadata": {
      "byteLimit": 2048000,
      "rowLimit": 10000
     },
     "inputWidgets": {},
     "nuid": "78742f84-9e49-4bd3-a25f-91d4ba5697b5",
     "showTitle": false,
     "title": ""
    }
   },
   "outputs": [],
   "source": [
    "# Plotting heatmap results\n",
    "fig, ax = plt.subplots(figsize=(10, 6))\n",
    "cax = ax.imshow(cfit.values, interpolation=\"nearest\", cmap=\"Blues\", vmin=0, vmax=1)\n",
    "ax.set_xticks(ticks=range(len(cfit.columns)))\n",
    "ax.set_xticklabels(labels=cfit.columns)\n",
    "ax.set_label(cfit.columns)\n",
    "ax.set_yticks(ticks=range(len(cfit.columns)))\n",
    "ax.set_yticklabels(cfit.columns)\n",
    "ax.tick_params(axis=\"x\", labelsize=10, labelrotation=90)\n",
    "ax.tick_params(axis=\"y\", labelsize=12, labelrotation=0)\n",
    "fig.colorbar(cax).ax.tick_params(labelsize=12)\n",
    "for (x, y), t in np.ndenumerate(cfit):\n",
    "    ax.annotate(\"{:.2f}\".format(t), xy=(x, y), va=\"center\", ha=\"center\").set(\n",
    "        color=\"black\", size=12\n",
    "    )"
   ]
  },
  {
   "cell_type": "code",
   "execution_count": 0,
   "metadata": {
    "application/vnd.databricks.v1+cell": {
     "cellMetadata": {
      "byteLimit": 2048000,
      "rowLimit": 10000
     },
     "inputWidgets": {},
     "nuid": "36856117-c817-4829-9da0-3ed37bf9c422",
     "showTitle": false,
     "title": ""
    }
   },
   "outputs": [],
   "source": [
    "[\n",
    "    \"scheduled_date_and_time\",\n",
    "    \"scheduled_flight_number\",\n",
    "    \"scheduled_destination_city_code\",\n",
    "    \"scheduled_airline_code\",\n",
    "    \"operation_date_and_time\",\n",
    "    \"operation_number\",\n",
    "    \"operation_destination_city_code\",\n",
    "    \"operated_airline_code\",\n",
    "    \"day_operation\",\n",
    "    \"month_operation\",\n",
    "    \"year_operation\",\n",
    "    \"day_of_the_week_operation\",\n",
    "    \"type_of_flight\",\n",
    "    \"airline_that_operates\",\n",
    "    \"high_season\",\n",
    "    \"min_diff\",\n",
    "    \"delay_15\",\n",
    "    \"period_day\",\n",
    "    \"count_flights_same_datetime\",\n",
    "    \"scheduled_destination_city_airline\",\n",
    "]"
   ]
  },
  {
   "cell_type": "code",
   "execution_count": 0,
   "metadata": {
    "application/vnd.databricks.v1+cell": {
     "cellMetadata": {
      "byteLimit": 2048000,
      "rowLimit": 10000
     },
     "inputWidgets": {},
     "nuid": "846bc291-106d-41a6-8a60-0c7818ac81ea",
     "showTitle": false,
     "title": ""
    }
   },
   "outputs": [],
   "source": [
    "# Destination_city_name represents the same information as operation_destination_city_code because they identify the destination city (operation)\n",
    "df = df.drop(\"destination_city_name\", axis=1)"
   ]
  },
  {
   "cell_type": "code",
   "execution_count": 0,
   "metadata": {
    "application/vnd.databricks.v1+cell": {
     "cellMetadata": {
      "byteLimit": 2048000,
      "rowLimit": 10000
     },
     "inputWidgets": {},
     "nuid": "e58574c0-e0a0-443e-a4de-83d3db4389a7",
     "showTitle": false,
     "title": ""
    }
   },
   "outputs": [],
   "source": [
    "f = lambda x: x.median() if np.issubdtype(x.dtype, np.number) else x.mode().iloc[0]\n",
    "\n",
    "# Filling in only the nulls from the above data by grouping the columns correlated with operation_number.\n",
    "df = df.fillna(\n",
    "    df.groupby(\n",
    "        [\n",
    "            \"operation_destination_city_code\",\n",
    "            \"airline_that_operates\",\n",
    "            \"operated_airline_code\",\n",
    "        ]\n",
    "    ).transform(f)\n",
    ")"
   ]
  },
  {
   "cell_type": "code",
   "execution_count": 0,
   "metadata": {
    "application/vnd.databricks.v1+cell": {
     "cellMetadata": {
      "byteLimit": 2048000,
      "rowLimit": 10000
     },
     "inputWidgets": {},
     "nuid": "c8e02a9f-73bd-4593-90fa-4069aba842da",
     "showTitle": false,
     "title": ""
    }
   },
   "outputs": [],
   "source": [
    "df.iloc[6068]"
   ]
  },
  {
   "cell_type": "markdown",
   "metadata": {
    "application/vnd.databricks.v1+cell": {
     "cellMetadata": {
      "byteLimit": 2048000,
      "rowLimit": 10000
     },
     "inputWidgets": {},
     "nuid": "e3054cde-6a57-4671-9554-4b98fa17143f",
     "showTitle": false,
     "title": ""
    }
   },
   "source": [
    "### Data Visualization and Outliers Understanding"
   ]
  },
  {
   "cell_type": "markdown",
   "metadata": {
    "application/vnd.databricks.v1+cell": {
     "cellMetadata": {
      "byteLimit": 2048000,
      "rowLimit": 10000
     },
     "inputWidgets": {},
     "nuid": "9e10bc59-f031-4791-a951-7691fc89549e",
     "showTitle": false,
     "title": ""
    }
   },
   "source": [
    "#### Understanding the months and days of the week when the scheduled target city was reached"
   ]
  },
  {
   "cell_type": "code",
   "execution_count": 0,
   "metadata": {
    "application/vnd.databricks.v1+cell": {
     "cellMetadata": {
      "byteLimit": 2048000,
      "rowLimit": 10000
     },
     "inputWidgets": {},
     "nuid": "a93eb74f-4cad-4db9-96b1-6280da7b8f3d",
     "showTitle": false,
     "title": ""
    }
   },
   "outputs": [],
   "source": [
    "# Almost all schedules were attended to\n",
    "df.query(\"scheduled_destination_city_code == operation_destination_city_code\").shape[\n",
    "    0\n",
    "] / df.shape[0]"
   ]
  },
  {
   "cell_type": "code",
   "execution_count": 0,
   "metadata": {
    "application/vnd.databricks.v1+cell": {
     "cellMetadata": {
      "byteLimit": 2048000,
      "rowLimit": 10000
     },
     "inputWidgets": {},
     "nuid": "cb342e38-cb60-4279-8c56-a121112d8548",
     "showTitle": false,
     "title": ""
    }
   },
   "outputs": [],
   "source": [
    "# Closes to uniform data\n",
    "sns.catplot(\n",
    "    y=\"month_operation\",\n",
    "    x=\"scheduled_destination_city_code\",\n",
    "    data=df.query(\"scheduled_destination_city_code == operation_destination_city_code\"),\n",
    "    order=df.query(\n",
    "        \"scheduled_destination_city_code == operation_destination_city_code\"\n",
    "    )[\"scheduled_destination_city_code\"]\n",
    "    .value_counts()\n",
    "    .iloc[:7]\n",
    "    .index,\n",
    "    height=5,\n",
    "    aspect=3,\n",
    "    legend=True,\n",
    "    jitter=\"0.25\",\n",
    "    kind=\"violin\",\n",
    ")"
   ]
  },
  {
   "cell_type": "code",
   "execution_count": 0,
   "metadata": {
    "application/vnd.databricks.v1+cell": {
     "cellMetadata": {
      "byteLimit": 2048000,
      "rowLimit": 10000
     },
     "inputWidgets": {},
     "nuid": "5ce3359d-ead5-4be6-b97a-9c79b327f5bf",
     "showTitle": false,
     "title": ""
    }
   },
   "outputs": [],
   "source": [
    "# Closes to uniform data\n",
    "sns.catplot(\n",
    "    y=\"day_operation\",\n",
    "    x=\"scheduled_destination_city_code\",\n",
    "    data=df.query(\"scheduled_destination_city_code == operation_destination_city_code\"),\n",
    "    order=df.query(\n",
    "        \"scheduled_destination_city_code == operation_destination_city_code\"\n",
    "    )[\"scheduled_destination_city_code\"]\n",
    "    .value_counts()\n",
    "    .iloc[:6]\n",
    "    .index,\n",
    "    height=5,\n",
    "    aspect=3,\n",
    "    legend=True,\n",
    "    jitter=\"0.25\",\n",
    "    kind=\"violin\",\n",
    ")"
   ]
  },
  {
   "cell_type": "markdown",
   "metadata": {
    "application/vnd.databricks.v1+cell": {
     "cellMetadata": {
      "byteLimit": 2048000,
      "rowLimit": 10000
     },
     "inputWidgets": {},
     "nuid": "f6cae8b5-26c6-43eb-93a9-462b6b4fe50b",
     "showTitle": false,
     "title": ""
    }
   },
   "source": [
    "#### Distribution: most frequent destinations\n",
    "\n",
    "- There seems to be a bimodal distribution when scheduled destinations are equal to operated ones (for the most operated city destinations)\n",
    "\n",
    "- Peaks in January and December"
   ]
  },
  {
   "cell_type": "code",
   "execution_count": 0,
   "metadata": {
    "application/vnd.databricks.v1+cell": {
     "cellMetadata": {
      "byteLimit": 2048000,
      "rowLimit": 10000
     },
     "inputWidgets": {},
     "nuid": "4aae3942-d9ac-4512-b06d-dab7f9c7f35f",
     "showTitle": false,
     "title": ""
    }
   },
   "outputs": [],
   "source": [
    "x = df.query(\n",
    "    \"scheduled_destination_city_code == operation_destination_city_code and scheduled_destination_city_code=='SPJC'\"\n",
    ")[\"month_operation\"]\n",
    "y = df.query(\n",
    "    \"scheduled_destination_city_code == operation_destination_city_code and scheduled_destination_city_code=='SCFA'\"\n",
    ")[\"month_operation\"]\n",
    "z = df.query(\n",
    "    \"scheduled_destination_city_code == operation_destination_city_code and scheduled_destination_city_code=='SCTE'\"\n",
    ")[\"month_operation\"]\n",
    "w = df.query(\n",
    "    \"scheduled_destination_city_code == operation_destination_city_code and scheduled_destination_city_code=='SCIE'\"\n",
    ")[\"month_operation\"]"
   ]
  },
  {
   "cell_type": "code",
   "execution_count": 0,
   "metadata": {
    "application/vnd.databricks.v1+cell": {
     "cellMetadata": {
      "byteLimit": 2048000,
      "rowLimit": 10000
     },
     "inputWidgets": {},
     "nuid": "286d2b53-e28e-45f1-a24f-e0f63c16736b",
     "showTitle": false,
     "title": ""
    }
   },
   "outputs": [],
   "source": [
    "plt.hist(x, alpha=0.5, label=\"SPJC\")\n",
    "plt.hist(y, alpha=0.5, label=\"SCFA\")\n",
    "plt.hist(z, alpha=0.5, label=\"SCTE\")\n",
    "plt.hist(w, alpha=0.5, label=\"SCIE\")\n",
    "plt.legend(loc=\"upper right\")\n",
    "plt.show()"
   ]
  },
  {
   "cell_type": "markdown",
   "metadata": {
    "application/vnd.databricks.v1+cell": {
     "cellMetadata": {
      "byteLimit": 2048000,
      "rowLimit": 10000
     },
     "inputWidgets": {},
     "nuid": "6442b68a-896c-4cbf-83e6-16b55bd1fd5c",
     "showTitle": false,
     "title": ""
    }
   },
   "source": [
    "#### Pareto: most operated days of the week"
   ]
  },
  {
   "cell_type": "code",
   "execution_count": 0,
   "metadata": {
    "application/vnd.databricks.v1+cell": {
     "cellMetadata": {
      "byteLimit": 2048000,
      "rowLimit": 10000
     },
     "inputWidgets": {},
     "nuid": "c7ca65eb-206a-455c-9aa1-5a62b2acafe5",
     "showTitle": false,
     "title": ""
    }
   },
   "outputs": [],
   "source": [
    "pareto_df = pd.DataFrame(\n",
    "    df[\"day_of_the_week_operation\"].value_counts().sort_values(ascending=False)\n",
    ")\n",
    "\n",
    "pareto_df[\"cum_perc\"] = (\n",
    "    pareto_df[\"day_of_the_week_operation\"].cumsum()\n",
    "    / pareto_df[\"day_of_the_week_operation\"].sum()\n",
    "    * 100\n",
    ")"
   ]
  },
  {
   "cell_type": "code",
   "execution_count": 0,
   "metadata": {
    "application/vnd.databricks.v1+cell": {
     "cellMetadata": {
      "byteLimit": 2048000,
      "rowLimit": 10000
     },
     "inputWidgets": {},
     "nuid": "f3c35ded-df19-4bb1-a681-47d561f80347",
     "showTitle": false,
     "title": ""
    }
   },
   "outputs": [],
   "source": [
    "fig, ax = plt.subplots()\n",
    "ax.bar(pareto_df.index, pareto_df[\"day_of_the_week_operation\"], color=\"pink\")\n",
    "\n",
    "ax2 = ax.twinx()\n",
    "ax2.plot(pareto_df.index, pareto_df[\"cum_perc\"], color=\"purple\", marker=\"D\", ms=4)\n",
    "ax2.yaxis.set_major_formatter(PercentFormatter())\n",
    "\n",
    "ax.tick_params(axis=\"y\", colors=\"purple\")\n",
    "ax.tick_params(axis=\"x\", colors=\"purple\", rotation=45)\n",
    "ax2.tick_params(axis=\"y\", colors=\"purple\")\n",
    "plt.show()"
   ]
  },
  {
   "cell_type": "markdown",
   "metadata": {
    "application/vnd.databricks.v1+cell": {
     "cellMetadata": {
      "byteLimit": 2048000,
      "rowLimit": 10000
     },
     "inputWidgets": {},
     "nuid": "a04f2d66-7559-4a36-8c8d-28d2a15a1bdf",
     "showTitle": false,
     "title": ""
    }
   },
   "source": [
    "#### Understanding the months of operation when the scheduled destination city was not reached\n",
    "\n",
    "Operation different from scheduled city"
   ]
  },
  {
   "cell_type": "code",
   "execution_count": 0,
   "metadata": {
    "application/vnd.databricks.v1+cell": {
     "cellMetadata": {
      "byteLimit": 2048000,
      "rowLimit": 10000
     },
     "inputWidgets": {},
     "nuid": "368d21b1-3509-467b-b164-6f89b9baf810",
     "showTitle": false,
     "title": ""
    }
   },
   "outputs": [],
   "source": [
    "df.query(\"scheduled_destination_city_code != operation_destination_city_code\").shape[\n",
    "    0\n",
    "] / df.shape[0]"
   ]
  },
  {
   "cell_type": "code",
   "execution_count": 0,
   "metadata": {
    "application/vnd.databricks.v1+cell": {
     "cellMetadata": {
      "byteLimit": 2048000,
      "rowLimit": 10000
     },
     "inputWidgets": {},
     "nuid": "d7d61e4c-289e-47c9-b9c2-5571ec457206",
     "showTitle": false,
     "title": ""
    }
   },
   "outputs": [],
   "source": [
    "# SCIE close to normal\n",
    "# More problems with international flights\n",
    "# Only the 14 cities were not reached in the flight schedule\n",
    "# 50% domestic and 50% international destinations\n",
    "sns.catplot(\n",
    "    y=\"month_operation\",\n",
    "    x=\"scheduled_destination_city_code\",\n",
    "    data=df.query(\"scheduled_destination_city_code != operation_destination_city_code\"),\n",
    "    order=df.query(\n",
    "        \"scheduled_destination_city_code != operation_destination_city_code\"\n",
    "    )[\"scheduled_destination_city_code\"]\n",
    "    .value_counts()\n",
    "    .index,\n",
    "    height=5,\n",
    "    aspect=3,\n",
    "    legend=True,\n",
    "    jitter=\"0.25\",\n",
    "    kind=\"violin\",\n",
    ").ax.set_ylim(0, 13)"
   ]
  },
  {
   "cell_type": "markdown",
   "metadata": {
    "application/vnd.databricks.v1+cell": {
     "cellMetadata": {
      "byteLimit": 2048000,
      "rowLimit": 10000
     },
     "inputWidgets": {},
     "nuid": "b891a829-e6ed-4b65-ae91-6cbb8028280e",
     "showTitle": false,
     "title": ""
    }
   },
   "source": [
    "#### Pareto: days of the week that occur most change of destination"
   ]
  },
  {
   "cell_type": "code",
   "execution_count": 0,
   "metadata": {
    "application/vnd.databricks.v1+cell": {
     "cellMetadata": {
      "byteLimit": 2048000,
      "rowLimit": 10000
     },
     "inputWidgets": {},
     "nuid": "a8723a0d-1f24-48ad-9b02-517169af579b",
     "showTitle": false,
     "title": ""
    }
   },
   "outputs": [],
   "source": [
    "pareto_df = pd.DataFrame(\n",
    "    df.query(\"scheduled_destination_city_code != operation_destination_city_code\")[\n",
    "        \"day_of_the_week_operation\"\n",
    "    ]\n",
    "    .value_counts()\n",
    "    .sort_values(ascending=False)\n",
    ")\n",
    "\n",
    "pareto_df[\"cum_perc\"] = (\n",
    "    pareto_df[\"day_of_the_week_operation\"].cumsum()\n",
    "    / pareto_df[\"day_of_the_week_operation\"].sum()\n",
    "    * 100\n",
    ")"
   ]
  },
  {
   "cell_type": "code",
   "execution_count": 0,
   "metadata": {
    "application/vnd.databricks.v1+cell": {
     "cellMetadata": {
      "byteLimit": 2048000,
      "rowLimit": 10000
     },
     "inputWidgets": {},
     "nuid": "72b79caa-9642-4f17-adb3-8dc503d0803d",
     "showTitle": false,
     "title": ""
    }
   },
   "outputs": [],
   "source": [
    "# display Pareto chart\n",
    "fig, ax = plt.subplots()\n",
    "ax.bar(pareto_df.index, pareto_df[\"day_of_the_week_operation\"], color=\"pink\")\n",
    "\n",
    "ax2 = ax.twinx()\n",
    "ax2.plot(pareto_df.index, pareto_df[\"cum_perc\"], color=\"purple\", marker=\"D\", ms=4)\n",
    "ax2.yaxis.set_major_formatter(PercentFormatter())\n",
    "\n",
    "ax.tick_params(axis=\"y\", colors=\"pink\")\n",
    "ax2.tick_params(axis=\"y\", colors=\"purple\")\n",
    "plt.show()"
   ]
  },
  {
   "cell_type": "markdown",
   "metadata": {
    "application/vnd.databricks.v1+cell": {
     "cellMetadata": {
      "byteLimit": 2048000,
      "rowLimit": 10000
     },
     "inputWidgets": {},
     "nuid": "36c2a3ee-d276-4784-8efb-b7e83510ab3a",
     "showTitle": false,
     "title": ""
    }
   },
   "source": [
    "#### Pareto: months that occur most change of destination\n",
    "\n",
    "- Not all destination changes occur in months with more flights (see distribution: most frequent destinations). For example, there are few such events in January\n",
    "- It seems that it is concentrated in the months of high season (Dec, Jul and March)"
   ]
  },
  {
   "cell_type": "code",
   "execution_count": 0,
   "metadata": {
    "application/vnd.databricks.v1+cell": {
     "cellMetadata": {
      "byteLimit": 2048000,
      "rowLimit": 10000
     },
     "inputWidgets": {},
     "nuid": "acefbb3e-9a71-4bdf-80e6-c27103a7808e",
     "showTitle": false,
     "title": ""
    }
   },
   "outputs": [],
   "source": [
    "pareto_df = pd.DataFrame(\n",
    "    df.query(\"scheduled_destination_city_code != operation_destination_city_code\")[\n",
    "        \"month_operation\"\n",
    "    ]\n",
    "    .map(\n",
    "        {\n",
    "            1: \"Jan\",\n",
    "            2: \"Fev\",\n",
    "            3: \"Mar\",\n",
    "            4: \"Abr\",\n",
    "            5: \"Mai\",\n",
    "            6: \"Jun\",\n",
    "            7: \"Jul\",\n",
    "            8: \"Ago\",\n",
    "            9: \"Set\",\n",
    "            10: \"Out\",\n",
    "            11: \"Nov\",\n",
    "            12: \"Dez\",\n",
    "        }\n",
    "    )\n",
    "    .value_counts()\n",
    "    .sort_values(ascending=False)\n",
    ")\n",
    "\n",
    "pareto_df[\"cum_perc\"] = (\n",
    "    pareto_df[\"month_operation\"].cumsum() / pareto_df[\"month_operation\"].sum() * 100\n",
    ")"
   ]
  },
  {
   "cell_type": "code",
   "execution_count": 0,
   "metadata": {
    "application/vnd.databricks.v1+cell": {
     "cellMetadata": {
      "byteLimit": 2048000,
      "rowLimit": 10000
     },
     "inputWidgets": {},
     "nuid": "633da197-3f5a-46c4-9112-c3168dbc495c",
     "showTitle": false,
     "title": ""
    }
   },
   "outputs": [],
   "source": [
    "# display Pareto chart\n",
    "fig, ax = plt.subplots()\n",
    "ax.bar(pareto_df.index, pareto_df[\"month_operation\"], color=\"pink\")\n",
    "\n",
    "ax2 = ax.twinx()\n",
    "ax2.plot(pareto_df.index, pareto_df[\"cum_perc\"], color=\"purple\", marker=\"D\", ms=4)\n",
    "ax2.yaxis.set_major_formatter(PercentFormatter())\n",
    "\n",
    "ax.tick_params(axis=\"y\", colors=\"pink\")\n",
    "ax2.tick_params(axis=\"y\", colors=\"purple\")\n",
    "plt.show()"
   ]
  },
  {
   "cell_type": "markdown",
   "metadata": {
    "application/vnd.databricks.v1+cell": {
     "cellMetadata": {
      "byteLimit": 2048000,
      "rowLimit": 10000
     },
     "inputWidgets": {},
     "nuid": "2bb01179-03eb-412a-95b4-af40d04973fa",
     "showTitle": false,
     "title": ""
    }
   },
   "source": [
    "#### Understanding days of the week when the scheduled airline company was and was not reached"
   ]
  },
  {
   "cell_type": "code",
   "execution_count": 0,
   "metadata": {
    "application/vnd.databricks.v1+cell": {
     "cellMetadata": {
      "byteLimit": 2048000,
      "rowLimit": 10000
     },
     "inputWidgets": {},
     "nuid": "9b48c8d8-e464-405b-8e98-75e0760df598",
     "showTitle": false,
     "title": ""
    }
   },
   "outputs": [],
   "source": [
    "# Changing airlines happens much more than the destination city.\n",
    "df.query(\"scheduled_airline_code != operated_airline_code\").shape[0] / df.shape[0]"
   ]
  },
  {
   "cell_type": "code",
   "execution_count": 0,
   "metadata": {
    "application/vnd.databricks.v1+cell": {
     "cellMetadata": {
      "byteLimit": 2048000,
      "rowLimit": 10000
     },
     "inputWidgets": {},
     "nuid": "8929b732-382e-403d-ac8e-7eb3b47fa646",
     "showTitle": false,
     "title": ""
    }
   },
   "outputs": [],
   "source": [
    "sns.catplot(\n",
    "    y=\"day_operation\",\n",
    "    x=\"scheduled_airline_code\",\n",
    "    data=df.query(\"scheduled_airline_code == operated_airline_code\"),\n",
    "    order=df.query(\"scheduled_airline_code == operated_airline_code\")[\n",
    "        \"scheduled_airline_code\"\n",
    "    ]\n",
    "    .value_counts()\n",
    "    .iloc[:5]\n",
    "    .index,\n",
    "    height=5,\n",
    "    aspect=3,\n",
    "    legend=True,\n",
    "    jitter=\"0.25\",\n",
    "    hue=\"type_of_flight\",\n",
    "    kind=\"violin\",\n",
    ")"
   ]
  },
  {
   "cell_type": "code",
   "execution_count": 0,
   "metadata": {
    "application/vnd.databricks.v1+cell": {
     "cellMetadata": {
      "byteLimit": 2048000,
      "rowLimit": 10000
     },
     "inputWidgets": {},
     "nuid": "143541b0-f59d-4f61-a899-47b47d813bb4",
     "showTitle": false,
     "title": ""
    }
   },
   "outputs": [],
   "source": [
    "# Companies that changed programming the most\n",
    "# For some companies, the last days of the month can be more critical\n",
    "sns.catplot(\n",
    "    y=\"day_operation\",\n",
    "    x=\"scheduled_airline_code\",\n",
    "    data=df.query(\"scheduled_airline_code != operated_airline_code\"),\n",
    "    order=df.query(\"scheduled_airline_code != operated_airline_code\")[\n",
    "        \"scheduled_airline_code\"\n",
    "    ]\n",
    "    .value_counts()\n",
    "    .iloc[:5]\n",
    "    .index,\n",
    "    height=5,\n",
    "    aspect=3,\n",
    "    legend=True,\n",
    "    jitter=\"0.25\",\n",
    "    hue=\"type_of_flight\",\n",
    "    kind=\"violin\",\n",
    ")"
   ]
  },
  {
   "cell_type": "code",
   "execution_count": 0,
   "metadata": {
    "application/vnd.databricks.v1+cell": {
     "cellMetadata": {
      "byteLimit": 2048000,
      "rowLimit": 10000
     },
     "inputWidgets": {},
     "nuid": "ed9ab988-bc4e-4285-bbd0-8d7364f2855b",
     "showTitle": false,
     "title": ""
    }
   },
   "outputs": [],
   "source": [
    "# Companies that changed programming the most\n",
    "# This appears to be a bimodal distribution, with peaks at the beginning and end of the year.\n",
    "sns.catplot(\n",
    "    y=\"month_operation\",\n",
    "    x=\"scheduled_airline_code\",\n",
    "    data=df.query(\"scheduled_airline_code != operated_airline_code\"),\n",
    "    order=df.query(\"scheduled_airline_code != operated_airline_code\")[\n",
    "        \"scheduled_airline_code\"\n",
    "    ]\n",
    "    .value_counts()\n",
    "    .index,\n",
    "    height=5,\n",
    "    aspect=3,\n",
    "    legend=True,\n",
    "    jitter=\"0.25\",\n",
    "    kind=\"violin\",\n",
    "    split=True,\n",
    "    hue=\"type_of_flight\",\n",
    ").ax.set_ylim(0, 13)"
   ]
  },
  {
   "cell_type": "markdown",
   "metadata": {
    "application/vnd.databricks.v1+cell": {
     "cellMetadata": {
      "byteLimit": 2048000,
      "rowLimit": 10000
     },
     "inputWidgets": {},
     "nuid": "06972d45-5326-47c7-8082-8947288f8aa6",
     "showTitle": false,
     "title": ""
    }
   },
   "source": [
    "### Patterns understanding"
   ]
  },
  {
   "cell_type": "code",
   "execution_count": 0,
   "metadata": {
    "application/vnd.databricks.v1+cell": {
     "cellMetadata": {
      "byteLimit": 2048000,
      "rowLimit": 10000
     },
     "inputWidgets": {},
     "nuid": "ad407c55-a3d4-46b1-a2be-84f165fe0f64",
     "showTitle": false,
     "title": ""
    }
   },
   "outputs": [],
   "source": [
    "df[\"operation_date_and_time\"] = pd.to_datetime(df[\"operation_date_and_time\"])\n",
    "df[\"scheduled_date_and_time\"] = pd.to_datetime(df[\"scheduled_date_and_time\"])"
   ]
  },
  {
   "cell_type": "code",
   "execution_count": 0,
   "metadata": {
    "application/vnd.databricks.v1+cell": {
     "cellMetadata": {
      "byteLimit": 2048000,
      "rowLimit": 10000
     },
     "inputWidgets": {},
     "nuid": "9fd92b23-f0f0-40b2-9f43-69f5d89066fa",
     "showTitle": false,
     "title": ""
    }
   },
   "outputs": [],
   "source": [
    "# Everything seems right in these date columns\n",
    "sum(df[\"operation_date_and_time\"].dt.day.eq(df[\"day_operation\"])), sum(\n",
    "    df[\"operation_date_and_time\"].dt.month.eq(df[\"month_operation\"])\n",
    "), sum(df[\"operation_date_and_time\"].dt.year.eq(df[\"year_operation\"]))"
   ]
  },
  {
   "cell_type": "code",
   "execution_count": 0,
   "metadata": {
    "application/vnd.databricks.v1+cell": {
     "cellMetadata": {
      "byteLimit": 2048000,
      "rowLimit": 10000
     },
     "inputWidgets": {},
     "nuid": "13ed3cb1-dbae-4ac4-87c5-f0ea77999e26",
     "showTitle": false,
     "title": ""
    }
   },
   "outputs": [],
   "source": [
    "compare_values = np.all(\n",
    "    pd.factorize(df[\"scheduled_airline_code\"])[0]\n",
    "    == pd.factorize(df[\"operated_airline_code\"])[0]\n",
    ")\n",
    "compare_values"
   ]
  },
  {
   "cell_type": "code",
   "execution_count": 0,
   "metadata": {
    "application/vnd.databricks.v1+cell": {
     "cellMetadata": {
      "byteLimit": 2048000,
      "rowLimit": 10000
     },
     "inputWidgets": {},
     "nuid": "a90c2cec-2b28-4210-b432-29c9a2320573",
     "showTitle": false,
     "title": ""
    }
   },
   "outputs": [],
   "source": [
    "compare_values = np.all(\n",
    "    pd.factorize(df[\"scheduled_destination_city_code\"])[0]\n",
    "    == pd.factorize(df[\"operation_destination_city_code\"])[0]\n",
    ")\n",
    "compare_values"
   ]
  },
  {
   "cell_type": "code",
   "execution_count": 0,
   "metadata": {
    "application/vnd.databricks.v1+cell": {
     "cellMetadata": {
      "byteLimit": 2048000,
      "rowLimit": 10000
     },
     "inputWidgets": {},
     "nuid": "3a2280a2-cf7d-446f-8bc8-8fd6ea5db630",
     "showTitle": false,
     "title": ""
    }
   },
   "outputs": [],
   "source": [
    "compare_values = np.all(\n",
    "    pd.factorize(df[\"scheduled_flight_number\"])[0]\n",
    "    == pd.factorize(df[\"operation_number\"])[0]\n",
    ")\n",
    "compare_values"
   ]
  },
  {
   "cell_type": "code",
   "execution_count": 0,
   "metadata": {
    "application/vnd.databricks.v1+cell": {
     "cellMetadata": {
      "byteLimit": 2048000,
      "rowLimit": 10000
     },
     "inputWidgets": {},
     "nuid": "acc6f889-4367-4f2b-8059-cbf84d09c93c",
     "showTitle": false,
     "title": ""
    }
   },
   "outputs": [],
   "source": [
    "df = df.drop(\n",
    "    [\n",
    "        \"scheduled_origin_city_code\",\n",
    "        \"operation_origin_city_code\",\n",
    "        \"origin_city_name\",\n",
    "    ],\n",
    "    axis=1,\n",
    ")"
   ]
  },
  {
   "cell_type": "markdown",
   "metadata": {
    "application/vnd.databricks.v1+cell": {
     "cellMetadata": {
      "byteLimit": 2048000,
      "rowLimit": 10000
     },
     "inputWidgets": {},
     "nuid": "75f854e3-e7b8-42cb-8a96-8957b237a51a",
     "showTitle": false,
     "title": ""
    }
   },
   "source": [
    "Comments:\n",
    "\n",
    "- Comparing scheduled x operated\n",
    "\n",
    "- Not all flights planned for a certain city were destined for it\n",
    "\n",
    "- scheduled_destination_city_code and operation_destination_city_code different can mean outliers or just routing change\n",
    "\n",
    "- scheduled_origin_city_code, operation_origin_city_code, name_city_of_origin are the same, becauses consists in origin city name: SCL\n",
    "\n",
    "- Need to deeply explore the data in future work"
   ]
  },
  {
   "cell_type": "markdown",
   "metadata": {
    "application/vnd.databricks.v1+cell": {
     "cellMetadata": {
      "byteLimit": 2048000,
      "rowLimit": 10000
     },
     "inputWidgets": {},
     "nuid": "3fc19294-812d-42f1-8b62-511944857172",
     "showTitle": false,
     "title": ""
    }
   },
   "source": [
    "### Generate the following additional columns\n",
    "\n",
    "- high_season : 1 if Date-I is between Dec-15 and Mar-3, or Jul-15 and Jul-31, or Sep-11 and Sep-30, 0 otherwise.\n",
    "\n",
    "- min_diff : difference in minutes between Date-O and Date-I .\n",
    "\n",
    "- delay_15 : 1 if min_diff > 15, 0 if not.\n",
    "\n",
    "- period_day : morning (between 5:00 and 11:59), afternoon (between 12:00 and 18:59) and night (between 19:00 and 4:59), basedonDate-I ."
   ]
  },
  {
   "cell_type": "markdown",
   "metadata": {
    "application/vnd.databricks.v1+cell": {
     "cellMetadata": {
      "byteLimit": 2048000,
      "rowLimit": 10000
     },
     "inputWidgets": {},
     "nuid": "1008439d-edf5-4a13-9788-b346a3cb0d5d",
     "showTitle": false,
     "title": ""
    }
   },
   "source": [
    "#### high_season"
   ]
  },
  {
   "cell_type": "code",
   "execution_count": 0,
   "metadata": {
    "application/vnd.databricks.v1+cell": {
     "cellMetadata": {
      "byteLimit": 2048000,
      "rowLimit": 10000
     },
     "inputWidgets": {},
     "nuid": "54774888-8f6b-4433-be0a-df4447415baa",
     "showTitle": false,
     "title": ""
    }
   },
   "outputs": [],
   "source": [
    "# Assumption: Start and end days must be included in the attribute.\n",
    "\n",
    "mask = (\n",
    "    (df[\"scheduled_date_and_time\"] >= \"2017-12-15 00:00:00\")\n",
    "    | (df[\"scheduled_date_and_time\"] < \"2017-03-04 00:00:00\")\n",
    "    | (\n",
    "        (df[\"scheduled_date_and_time\"] >= \"2017-07-15 00:00:00\")\n",
    "        & (df[\"scheduled_date_and_time\"] < \"2017-08-01 00:00:00\")\n",
    "    )\n",
    "    | (\n",
    "        (df[\"scheduled_date_and_time\"] >= \"2017-09-11 00:00:00\")\n",
    "        & (df[\"scheduled_date_and_time\"] < \"2017-10-01 00:00:00\")\n",
    "    )\n",
    ")"
   ]
  },
  {
   "cell_type": "code",
   "execution_count": 0,
   "metadata": {
    "application/vnd.databricks.v1+cell": {
     "cellMetadata": {
      "byteLimit": 2048000,
      "rowLimit": 10000
     },
     "inputWidgets": {},
     "nuid": "0398e1fb-fea3-4a40-a9e1-c5f210b82785",
     "showTitle": false,
     "title": ""
    }
   },
   "outputs": [],
   "source": [
    "df[\"high_season\"] = np.where(mask, 1, 0)"
   ]
  },
  {
   "cell_type": "markdown",
   "metadata": {
    "application/vnd.databricks.v1+cell": {
     "cellMetadata": {
      "byteLimit": 2048000,
      "rowLimit": 10000
     },
     "inputWidgets": {},
     "nuid": "6548db9d-6cf5-4e37-ad71-2805e6db89de",
     "showTitle": false,
     "title": ""
    }
   },
   "source": [
    "#### min_diff"
   ]
  },
  {
   "cell_type": "code",
   "execution_count": 0,
   "metadata": {
    "application/vnd.databricks.v1+cell": {
     "cellMetadata": {
      "byteLimit": 2048000,
      "rowLimit": 10000
     },
     "inputWidgets": {},
     "nuid": "a99ddfb0-5016-438d-b4b8-544b76b0f8f5",
     "showTitle": false,
     "title": ""
    }
   },
   "outputs": [],
   "source": [
    "df[\"min_diff\"] = (\n",
    "    pd.to_datetime(df[\"operation_date_and_time\"])\n",
    "    - pd.to_datetime(df[\"scheduled_date_and_time\"])\n",
    ").dt.total_seconds() / 60"
   ]
  },
  {
   "cell_type": "markdown",
   "metadata": {
    "application/vnd.databricks.v1+cell": {
     "cellMetadata": {
      "byteLimit": 2048000,
      "rowLimit": 10000
     },
     "inputWidgets": {},
     "nuid": "2251dda2-9ada-4b18-aeb8-0a1302ed6acd",
     "showTitle": false,
     "title": ""
    }
   },
   "source": [
    "#### delay_15"
   ]
  },
  {
   "cell_type": "code",
   "execution_count": 0,
   "metadata": {
    "application/vnd.databricks.v1+cell": {
     "cellMetadata": {
      "byteLimit": 2048000,
      "rowLimit": 10000
     },
     "inputWidgets": {},
     "nuid": "49691a18-2d37-4acd-ac5d-049ce0e33ae8",
     "showTitle": false,
     "title": ""
    }
   },
   "outputs": [],
   "source": [
    "df[\"delay_15\"] = np.where(df[\"min_diff\"] > 15, 1, 0)"
   ]
  },
  {
   "cell_type": "markdown",
   "metadata": {
    "application/vnd.databricks.v1+cell": {
     "cellMetadata": {
      "byteLimit": 2048000,
      "rowLimit": 10000
     },
     "inputWidgets": {},
     "nuid": "79698900-b9e4-47c1-b32b-d1b3217c8eea",
     "showTitle": false,
     "title": ""
    }
   },
   "source": [
    "#### period_day"
   ]
  },
  {
   "cell_type": "code",
   "execution_count": 0,
   "metadata": {
    "application/vnd.databricks.v1+cell": {
     "cellMetadata": {
      "byteLimit": 2048000,
      "rowLimit": 10000
     },
     "inputWidgets": {},
     "nuid": "c5de9522-86f4-41a2-84d1-5e224dc5562f",
     "showTitle": false,
     "title": ""
    }
   },
   "outputs": [],
   "source": [
    "morning = (df[\"scheduled_date_and_time\"].dt.time >= datetime.time(5, 0)) & (\n",
    "    df[\"scheduled_date_and_time\"].dt.time <= datetime.time(11, 59)\n",
    ")\n",
    "\n",
    "afternoon = (df[\"scheduled_date_and_time\"].dt.time >= datetime.time(12, 0)) & (\n",
    "    df[\"scheduled_date_and_time\"].dt.time <= datetime.time(18, 59)\n",
    ")\n",
    "\n",
    "night = (df[\"scheduled_date_and_time\"].dt.time >= datetime.time(19, 0)) | (\n",
    "    df[\"scheduled_date_and_time\"].dt.time >= datetime.time(0, 0)\n",
    ") & (df[\"scheduled_date_and_time\"].dt.time <= datetime.time(4, 59))\n",
    "\n",
    "conditions = [morning, afternoon, night]"
   ]
  },
  {
   "cell_type": "code",
   "execution_count": 0,
   "metadata": {
    "application/vnd.databricks.v1+cell": {
     "cellMetadata": {
      "byteLimit": 2048000,
      "rowLimit": 10000
     },
     "inputWidgets": {},
     "nuid": "0c573b22-778c-4951-bb9f-f75dffff5199",
     "showTitle": false,
     "title": ""
    }
   },
   "outputs": [],
   "source": [
    "df[\"period_day\"] = np.select(\n",
    "    conditions, [\"morning\", \"afternoon\", \"night\"], default=None\n",
    ")"
   ]
  },
  {
   "cell_type": "markdown",
   "metadata": {
    "application/vnd.databricks.v1+cell": {
     "cellMetadata": {
      "byteLimit": 2048000,
      "rowLimit": 10000
     },
     "inputWidgets": {},
     "nuid": "efabed82-6822-4380-ae3d-42e2a16b82f9",
     "showTitle": false,
     "title": ""
    }
   },
   "source": [
    "#### count_flights_same_datetime\n",
    "\n",
    "Counts number of flights scheduled for the same day and time by the same airline"
   ]
  },
  {
   "cell_type": "code",
   "execution_count": 0,
   "metadata": {
    "application/vnd.databricks.v1+cell": {
     "cellMetadata": {
      "byteLimit": 2048000,
      "rowLimit": 10000
     },
     "inputWidgets": {},
     "nuid": "3838a02b-174b-4c85-abc5-c5c8c591697b",
     "showTitle": false,
     "title": ""
    }
   },
   "outputs": [],
   "source": [
    "aux = (\n",
    "    df.groupby([\"scheduled_date_and_time\", \"scheduled_airline_code\"])\n",
    "    .count()\n",
    "    .reset_index()[\n",
    "        [\"scheduled_date_and_time\", \"scheduled_airline_code\", \"scheduled_flight_number\"]\n",
    "    ]\n",
    "    .rename(columns={\"scheduled_flight_number\": \"count_flights_same_datetime\"})\n",
    ")"
   ]
  },
  {
   "cell_type": "code",
   "execution_count": 0,
   "metadata": {
    "application/vnd.databricks.v1+cell": {
     "cellMetadata": {
      "byteLimit": 2048000,
      "rowLimit": 10000
     },
     "inputWidgets": {},
     "nuid": "f0683b0b-7a6c-409e-adc3-47ef97ce6c50",
     "showTitle": false,
     "title": ""
    }
   },
   "outputs": [],
   "source": [
    "df_merged = df.merge(\n",
    "    aux,\n",
    "    on=[\"scheduled_date_and_time\", \"scheduled_airline_code\"],\n",
    "    how=\"outer\",\n",
    "    validate=\"m:1\",\n",
    ")"
   ]
  },
  {
   "cell_type": "code",
   "execution_count": 0,
   "metadata": {
    "application/vnd.databricks.v1+cell": {
     "cellMetadata": {
      "byteLimit": 2048000,
      "rowLimit": 10000
     },
     "inputWidgets": {},
     "nuid": "fbd50c0a-5fdc-4ded-944f-d5eadf7eaeeb",
     "showTitle": false,
     "title": ""
    }
   },
   "outputs": [],
   "source": [
    "assert df_merged.shape[0] == df.shape[0]"
   ]
  },
  {
   "cell_type": "code",
   "execution_count": 0,
   "metadata": {
    "application/vnd.databricks.v1+cell": {
     "cellMetadata": {
      "byteLimit": 2048000,
      "rowLimit": 10000
     },
     "inputWidgets": {},
     "nuid": "a9ed3032-964a-4abd-aa3f-0cf0379cfe94",
     "showTitle": false,
     "title": ""
    }
   },
   "outputs": [],
   "source": [
    "df[\"count_flights_same_datetime\"] = (\n",
    "    df_merged[\"count_flights_same_datetime\"].map({1: 0, 2: 1, 3: 2, 4: 3}).fillna(0)\n",
    ")"
   ]
  },
  {
   "cell_type": "markdown",
   "metadata": {
    "application/vnd.databricks.v1+cell": {
     "cellMetadata": {
      "byteLimit": 2048000,
      "rowLimit": 10000
     },
     "inputWidgets": {},
     "nuid": "a2747a05-65e4-4b8f-aea4-300fa00b2e5a",
     "showTitle": false,
     "title": ""
    }
   },
   "source": [
    "#### scheduled_destination_city_airline"
   ]
  },
  {
   "cell_type": "code",
   "execution_count": 0,
   "metadata": {
    "application/vnd.databricks.v1+cell": {
     "cellMetadata": {
      "byteLimit": 2048000,
      "rowLimit": 10000
     },
     "inputWidgets": {},
     "nuid": "75607668-e254-4e63-a351-d7765cf69f9e",
     "showTitle": false,
     "title": ""
    }
   },
   "outputs": [],
   "source": [
    "df[\"scheduled_destination_city_airline\"] = (\n",
    "    df[\"scheduled_destination_city_code\"] + \"_\" + df[\"scheduled_airline_code\"]\n",
    ")"
   ]
  },
  {
   "cell_type": "markdown",
   "metadata": {
    "application/vnd.databricks.v1+cell": {
     "cellMetadata": {
      "byteLimit": 2048000,
      "rowLimit": 10000
     },
     "inputWidgets": {},
     "nuid": "a7ab8e14-b32f-4620-81ab-d6978032dfe7",
     "showTitle": false,
     "title": ""
    }
   },
   "source": [
    "#### Save to csv"
   ]
  },
  {
   "cell_type": "code",
   "execution_count": 0,
   "metadata": {
    "application/vnd.databricks.v1+cell": {
     "cellMetadata": {
      "byteLimit": 2048000,
      "rowLimit": 10000
     },
     "inputWidgets": {},
     "nuid": "ddc40d5f-a15a-42d8-83de-dbd991180fce",
     "showTitle": false,
     "title": ""
    }
   },
   "outputs": [],
   "source": [
    "df[\n",
    "    [\"high_season\", \"min_diff\", \"delay_15\", \"period_day\"]\n",
    "].to_csv(\"data/synthetic_features.csv\")"
   ]
  },
  {
   "cell_type": "markdown",
   "metadata": {
    "application/vnd.databricks.v1+cell": {
     "cellMetadata": {
      "byteLimit": 2048000,
      "rowLimit": 10000
     },
     "inputWidgets": {},
     "nuid": "d219ec3c-a8e7-4337-8967-f4f609c0c6cb",
     "showTitle": false,
     "title": ""
    }
   },
   "source": [
    "## 3. What is the behavior of the delay rate across destination, airline, month of the year, day of the week, season, type of flight? What variables would you expect to have the most influence in predicting delays?"
   ]
  },
  {
   "cell_type": "markdown",
   "metadata": {
    "application/vnd.databricks.v1+cell": {
     "cellMetadata": {
      "byteLimit": 2048000,
      "rowLimit": 10000
     },
     "inputWidgets": {},
     "nuid": "a051b2e7-f7db-428d-ac2b-e0fc0819753a",
     "showTitle": false,
     "title": ""
    }
   },
   "source": [
    "#### Numerical features"
   ]
  },
  {
   "cell_type": "markdown",
   "metadata": {
    "application/vnd.databricks.v1+cell": {
     "cellMetadata": {
      "byteLimit": 2048000,
      "rowLimit": 10000
     },
     "inputWidgets": {},
     "nuid": "142898cd-7521-4c69-98a5-871aa1f81aeb",
     "showTitle": false,
     "title": ""
    }
   },
   "source": [
    "- Null Hypothesis (H0): True correlation is equal to zero.\n",
    "\n",
    "- Alternative Hypothesis (H1): True correlation is not equal to zero."
   ]
  },
  {
   "cell_type": "code",
   "execution_count": 0,
   "metadata": {
    "application/vnd.databricks.v1+cell": {
     "cellMetadata": {
      "byteLimit": 2048000,
      "rowLimit": 10000
     },
     "inputWidgets": {},
     "nuid": "5eaf3691-b64c-4fb3-917c-12767a3e63d4",
     "showTitle": false,
     "title": ""
    }
   },
   "outputs": [],
   "source": [
    "# Perform a hypothesis testing: non-parametric method - Spearman rank-correlation.\n",
    "subj = [\"delay_15\"]\n",
    "personality = list(set(df.columns) - set(\"delay_15\"))\n",
    "pg.pairwise_corr(df, columns=[subj, personality], method=\"spearman\").round(\n",
    "    3\n",
    ").sort_values(by=\"p-unc\")"
   ]
  },
  {
   "cell_type": "markdown",
   "metadata": {
    "application/vnd.databricks.v1+cell": {
     "cellMetadata": {
      "byteLimit": 2048000,
      "rowLimit": 10000
     },
     "inputWidgets": {},
     "nuid": "f34a31ff-82cf-44bd-9239-6660144965d6",
     "showTitle": false,
     "title": ""
    }
   },
   "source": [
    "- The results show that the probability **first 5** rows pair-wise correlation values are lower than the conventional 5% (P<0.05), **thus here the alternative hypothesis is true**.\n",
    "- The features high_season, month_operation, count_flights_same_datetime are correlated with the target (delay_15).\n",
    "- Since the variables have relatively low correlation, we cannot assume that the model will perform well. For future work, others algorithms are needed to understand the significance of the variables (independent x dependent)"
   ]
  },
  {
   "cell_type": "code",
   "execution_count": 0,
   "metadata": {
    "application/vnd.databricks.v1+cell": {
     "cellMetadata": {
      "byteLimit": 2048000,
      "rowLimit": 10000
     },
     "inputWidgets": {},
     "nuid": "5b5c4009-4b7c-4e00-960c-2606d57785a1",
     "showTitle": false,
     "title": ""
    }
   },
   "outputs": [],
   "source": [
    "fig, axs = plt.subplots(2, 2, figsize=(10, 5))\n",
    "sns.scatterplot(\n",
    "    data=df, x=\"high_season\", y=\"delay_15\", ax=axs[0, 0], hue=\"type_of_flight\"\n",
    ")\n",
    "axs[0, 0].set_title(\"high_season\")\n",
    "sns.scatterplot(\n",
    "    data=df, x=\"month_operation\", y=\"delay_15\", ax=axs[0, 1], hue=\"type_of_flight\"\n",
    ")\n",
    "axs[0, 1].set_title(\"month_operation\")\n",
    "sns.scatterplot(\n",
    "    data=df,\n",
    "    x=\"count_flights_same_datetime\",\n",
    "    y=\"delay_15\",\n",
    "    ax=axs[1, 0],\n",
    "    hue=\"type_of_flight\",\n",
    ")\n",
    "sns.scatterplot(\n",
    "    data=df, x=\"day_operation\", y=\"delay_15\", ax=axs[1, 1], hue=\"type_of_flight\"\n",
    ")\n",
    "\n",
    "for ax in axs.flat:\n",
    "    ax.set(ylabel=\"delay_15\")\n",
    "\n",
    "# Hide x labels and tick labels for top plots and y ticks for right plots.\n",
    "for ax in axs.flat:\n",
    "    ax.label_outer()"
   ]
  },
  {
   "cell_type": "code",
   "execution_count": 0,
   "metadata": {
    "application/vnd.databricks.v1+cell": {
     "cellMetadata": {
      "byteLimit": 2048000,
      "rowLimit": 10000
     },
     "inputWidgets": {},
     "nuid": "380b05d5-183e-4781-93eb-e3d769e86063",
     "showTitle": false,
     "title": ""
    }
   },
   "outputs": [],
   "source": [
    "# 18% of flights with delays of more than 15 minutes were operated by another airline\n",
    "df.query(\"scheduled_airline_code != operated_airline_code\")[\"delay_15\"].value_counts(\n",
    "    normalize=True\n",
    ")"
   ]
  },
  {
   "cell_type": "code",
   "execution_count": 0,
   "metadata": {
    "application/vnd.databricks.v1+cell": {
     "cellMetadata": {
      "byteLimit": 2048000,
      "rowLimit": 10000
     },
     "inputWidgets": {},
     "nuid": "88851669-1352-448f-90a7-de4efcf9d0e6",
     "showTitle": false,
     "title": ""
    }
   },
   "outputs": [],
   "source": [
    "# 28% of flights with delays of more than 15 minutes were rescheduled to another city\n",
    "df.query(\"scheduled_destination_city_code != operation_destination_city_code\")[\n",
    "    \"delay_15\"\n",
    "].value_counts(normalize=True)"
   ]
  },
  {
   "cell_type": "code",
   "execution_count": 0,
   "metadata": {
    "application/vnd.databricks.v1+cell": {
     "cellMetadata": {
      "byteLimit": 2048000,
      "rowLimit": 10000
     },
     "inputWidgets": {},
     "nuid": "9b2df1bd-8dc8-41f2-bd74-4f682d680f32",
     "showTitle": false,
     "title": ""
    }
   },
   "outputs": [],
   "source": [
    "# 19% of high-season flights were delayed\n",
    "df.query(\"high_season == 1\")[\n",
    "    \"delay_15\"\n",
    "].value_counts(normalize=True)"
   ]
  },
  {
   "cell_type": "code",
   "execution_count": 0,
   "metadata": {
    "application/vnd.databricks.v1+cell": {
     "cellMetadata": {
      "byteLimit": 2048000,
      "rowLimit": 10000
     },
     "inputWidgets": {},
     "nuid": "829539f9-49e8-429e-a5d1-e295e79d38d3",
     "showTitle": false,
     "title": ""
    }
   },
   "outputs": [],
   "source": [
    "# Most delays were morning flights\n",
    "df.query(\"delay_15 == 1\")[\n",
    "    \"period_day\"\n",
    "].value_counts(normalize=True)"
   ]
  },
  {
   "cell_type": "markdown",
   "metadata": {
    "application/vnd.databricks.v1+cell": {
     "cellMetadata": {
      "byteLimit": 2048000,
      "rowLimit": 10000
     },
     "inputWidgets": {},
     "nuid": "c954ea17-fd60-4adf-b0aa-a4cb12615e27",
     "showTitle": false,
     "title": ""
    }
   },
   "source": [
    "#### Destination"
   ]
  },
  {
   "cell_type": "code",
   "execution_count": 0,
   "metadata": {
    "application/vnd.databricks.v1+cell": {
     "cellMetadata": {
      "byteLimit": 2048000,
      "rowLimit": 10000
     },
     "inputWidgets": {},
     "nuid": "f151e691-3352-40e6-a647-7def999ed1a4",
     "showTitle": false,
     "title": ""
    }
   },
   "outputs": [],
   "source": [
    "# Some destinations experience more delays than others.\n",
    "sns.catplot(\n",
    "    x=\"scheduled_destination_city_code\",\n",
    "    y=\"delay_15\",\n",
    "    data=df.query(\"scheduled_destination_city_code == operation_destination_city_code\"),\n",
    "    order=df[\"scheduled_destination_city_code\"].value_counts().iloc[:10].index,\n",
    "    height=5,\n",
    "    aspect=3,\n",
    "    legend=True,\n",
    "    kind=\"violin\",\n",
    "    hue=\"high_season\",\n",
    "    split=True\n",
    ").set(title =\"Delays by scheduled destination when the operation reaches the schedule\") "
   ]
  },
  {
   "cell_type": "code",
   "execution_count": 0,
   "metadata": {
    "application/vnd.databricks.v1+cell": {
     "cellMetadata": {
      "byteLimit": 2048000,
      "rowLimit": 10000
     },
     "inputWidgets": {},
     "nuid": "1c9f9445-9419-4a28-aa54-4aa184a6f07e",
     "showTitle": false,
     "title": ""
    }
   },
   "outputs": [],
   "source": [
    "# More delays on international flights than domestic flights on some airlines, and vice versa\n",
    "sns.catplot(\n",
    "    x=\"scheduled_destination_city_code\",\n",
    "    y=\"delay_15\",\n",
    "    data=df.query(\"scheduled_destination_city_code != operation_destination_city_code\"),\n",
    "    order=df[\"scheduled_destination_city_code\"].value_counts().iloc[:10].index,\n",
    "    height=5,\n",
    "    aspect=3,\n",
    "    legend=True,\n",
    "    split=True,\n",
    "    kind=\"violin\",\n",
    "    hue=\"high_season\",\n",
    ").set(title =\"Delays by scheduled destination when the operation does not reaches the schedule\") "
   ]
  },
  {
   "cell_type": "markdown",
   "metadata": {
    "application/vnd.databricks.v1+cell": {
     "cellMetadata": {
      "byteLimit": 2048000,
      "rowLimit": 10000
     },
     "inputWidgets": {},
     "nuid": "0537ef5e-4a2c-4484-b7d8-96296f387657",
     "showTitle": false,
     "title": ""
    }
   },
   "source": [
    "#### Airline"
   ]
  },
  {
   "cell_type": "code",
   "execution_count": 0,
   "metadata": {
    "application/vnd.databricks.v1+cell": {
     "cellMetadata": {
      "byteLimit": 2048000,
      "rowLimit": 10000
     },
     "inputWidgets": {},
     "nuid": "c30bb609-05c1-4d56-b76b-6f1d6ef18a50",
     "showTitle": false,
     "title": ""
    }
   },
   "outputs": [],
   "source": [
    "sns.catplot(\n",
    "    x=\"scheduled_airline_code\",\n",
    "    y=\"delay_15\",\n",
    "    data=df.query(\"scheduled_airline_code == operated_airline_code\"),\n",
    "    order=df[\"scheduled_airline_code\"].value_counts().iloc[:10].index,\n",
    "    height=5,\n",
    "    aspect=3,\n",
    "    legend=True,\n",
    "    hue=\"high_season\",\n",
    "    split=True,\n",
    "    kind=\"violin\",\n",
    ").set(title =\"Delays by scheduled airline when the operation reaches the schedule\") "
   ]
  },
  {
   "cell_type": "code",
   "execution_count": 0,
   "metadata": {
    "application/vnd.databricks.v1+cell": {
     "cellMetadata": {
      "byteLimit": 2048000,
      "rowLimit": 10000
     },
     "inputWidgets": {},
     "nuid": "edd00d05-7af5-4c1f-a0ce-1c7508d266c2",
     "showTitle": false,
     "title": ""
    }
   },
   "outputs": [],
   "source": [
    "sns.catplot(\n",
    "    x=\"scheduled_airline_code\",\n",
    "    y=\"delay_15\",\n",
    "    data=df.query(\"scheduled_airline_code != operated_airline_code\"),\n",
    "    order=df[\"scheduled_airline_code\"].value_counts().iloc[:10].index,\n",
    "    height=5,\n",
    "    aspect=3,\n",
    "    legend=True,\n",
    "    hue=\"high_season\",\n",
    "    split=True,\n",
    "    kind=\"violin\",\n",
    ").set(title =\"Delays by scheduled airline when the operation does not reaches the schedule\") "
   ]
  },
  {
   "cell_type": "code",
   "execution_count": 0,
   "metadata": {
    "application/vnd.databricks.v1+cell": {
     "cellMetadata": {
      "byteLimit": 2048000,
      "rowLimit": 10000
     },
     "inputWidgets": {},
     "nuid": "bc44b939-ea04-4b45-a255-4aeb0282d835",
     "showTitle": false,
     "title": ""
    }
   },
   "outputs": [],
   "source": [
    "sns.catplot(\n",
    "    x=\"type_of_flight\",\n",
    "    y=\"delay_15\",\n",
    "    data=df,\n",
    "    height=5,\n",
    "    aspect=3,\n",
    "    legend=True,\n",
    "    hue=\"high_season\",\n",
    "    split=True,\n",
    "    kind=\"violin\",\n",
    ").set(title =\"Delays per type of flight\") "
   ]
  },
  {
   "cell_type": "markdown",
   "metadata": {
    "application/vnd.databricks.v1+cell": {
     "cellMetadata": {
      "byteLimit": 2048000,
      "rowLimit": 10000
     },
     "inputWidgets": {},
     "nuid": "340f87ee-2ba1-4fe2-b01c-8dab8a6a53c6",
     "showTitle": false,
     "title": ""
    }
   },
   "source": [
    "#### Day of the week"
   ]
  },
  {
   "cell_type": "code",
   "execution_count": 0,
   "metadata": {
    "application/vnd.databricks.v1+cell": {
     "cellMetadata": {
      "byteLimit": 2048000,
      "rowLimit": 10000
     },
     "inputWidgets": {},
     "nuid": "65474c79-4ff8-4544-b3b9-7caa916bdf1c",
     "showTitle": false,
     "title": ""
    }
   },
   "outputs": [],
   "source": [
    "sns.catplot(\n",
    "    x=\"day_of_the_week_operation\",\n",
    "    y=\"delay_15\",\n",
    "    data=df,\n",
    "    height=5,\n",
    "    aspect=3,\n",
    "    legend=True,\n",
    "    hue=\"type_of_flight\",\n",
    "    split=True,\n",
    "    kind=\"violin\",\n",
    ").set(title =\"Delays per day of operation\") "
   ]
  },
  {
   "cell_type": "code",
   "execution_count": 0,
   "metadata": {
    "application/vnd.databricks.v1+cell": {
     "cellMetadata": {
      "byteLimit": 2048000,
      "rowLimit": 10000
     },
     "inputWidgets": {},
     "nuid": "609bd5df-1d15-44fe-985d-cecb952a0db6",
     "showTitle": false,
     "title": ""
    }
   },
   "outputs": [],
   "source": [
    "sns.catplot(\n",
    "    x=\"period_day\",\n",
    "    y=\"delay_15\",\n",
    "    data=df,\n",
    "    height=5,\n",
    "    aspect=3,\n",
    "    legend=True,\n",
    "    hue=\"type_of_flight\",\n",
    "    split=True,\n",
    "    kind=\"violin\",\n",
    ").set(title =\"Delays per period of day\") "
   ]
  },
  {
   "cell_type": "markdown",
   "metadata": {
    "application/vnd.databricks.v1+cell": {
     "cellMetadata": {
      "byteLimit": 2048000,
      "rowLimit": 10000
     },
     "inputWidgets": {},
     "nuid": "34246d4b-e113-4587-ae19-abfa689d8a05",
     "showTitle": false,
     "title": ""
    }
   },
   "source": [
    "#### All categorical features x delay_15\n",
    "\n",
    "- ANOVA test: cannot be used because of your assumptions about the data\n",
    "- I chose the Spearman rank correlation coefficient because it is a non-parametric measure of rank correlation"
   ]
  },
  {
   "cell_type": "code",
   "execution_count": 0,
   "metadata": {
    "application/vnd.databricks.v1+cell": {
     "cellMetadata": {
      "byteLimit": 2048000,
      "rowLimit": 10000
     },
     "inputWidgets": {},
     "nuid": "1805c835-8e88-4bca-bc73-209d0ef06864",
     "showTitle": false,
     "title": ""
    }
   },
   "outputs": [],
   "source": [
    "features = [\n",
    "    \"airline_that_operates\",\n",
    "    \"day_of_the_week_operation\",\n",
    "    \"period_day\",\n",
    "    \"scheduled_destination_city_airline\",\n",
    "]"
   ]
  },
  {
   "cell_type": "code",
   "execution_count": 0,
   "metadata": {
    "application/vnd.databricks.v1+cell": {
     "cellMetadata": {
      "byteLimit": 2048000,
      "rowLimit": 10000
     },
     "inputWidgets": {},
     "nuid": "38970fc9-658e-4022-a578-7d2cf25066b3",
     "showTitle": false,
     "title": ""
    }
   },
   "outputs": [],
   "source": [
    "# It may be that the feature combined with others brings good results\n",
    "for f in features:\n",
    "    print(f\" Feature: {f}, Result: {stats.spearmanr(df['delay_15'], df[f])}\")"
   ]
  },
  {
   "cell_type": "markdown",
   "metadata": {
    "application/vnd.databricks.v1+cell": {
     "cellMetadata": {
      "byteLimit": 2048000,
      "rowLimit": 10000
     },
     "inputWidgets": {},
     "nuid": "7fa8325c-4c06-4b47-8295-39f53e1b0464",
     "showTitle": false,
     "title": ""
    }
   },
   "source": [
    "## 4. Train one or several models (using the algorithm(s) of your choice) to estimate the likelihood of a flight delay. Feel free to generate additional variables and/or supplement with external variables:"
   ]
  },
  {
   "cell_type": "markdown",
   "metadata": {
    "application/vnd.databricks.v1+cell": {
     "cellMetadata": {
      "byteLimit": 2048000,
      "rowLimit": 10000
     },
     "inputWidgets": {},
     "nuid": "5699a278-4f26-412f-ab90-19af7a68477f",
     "showTitle": false,
     "title": ""
    }
   },
   "source": [
    "### Scenario 1\n",
    "\n",
    "Assumption: Operational data cannot be used for training because it can lead to data leakege, since we do not have this information at the time of prediction."
   ]
  },
  {
   "cell_type": "markdown",
   "metadata": {
    "application/vnd.databricks.v1+cell": {
     "cellMetadata": {
      "byteLimit": 2048000,
      "rowLimit": 10000
     },
     "inputWidgets": {},
     "nuid": "c3431e18-7ffb-4d0c-89ee-85ecd424c5e2",
     "showTitle": false,
     "title": ""
    }
   },
   "source": [
    "#### Treat categorical features\n",
    "\n",
    "- One-hot encoding can be computationally expensive and can lead to a high-dimensional feature space, especially for variables with many categories. So, we'll do it only with the categories below.\n",
    "\n",
    "- I used CatBoostEncounter for the other columns. I then fitted the encoder on the training data and transformed the training and test data using the trained encoder."
   ]
  },
  {
   "cell_type": "code",
   "execution_count": 0,
   "metadata": {
    "application/vnd.databricks.v1+cell": {
     "cellMetadata": {
      "byteLimit": 2048000,
      "rowLimit": 10000
     },
     "inputWidgets": {},
     "nuid": "3992b5ce-c461-4f22-890c-016f2baddfb5",
     "showTitle": false,
     "title": ""
    }
   },
   "outputs": [],
   "source": [
    "model_inputs = [\n",
    "    \"scheduled_destination_city_code\",\n",
    "    \"scheduled_airline_code\",\n",
    "    \"type_of_flight\",\n",
    "    \"high_season\",\n",
    "    \"delay_15\",\n",
    "    \"period_day\",\n",
    "    \"count_flights_same_datetime\",\n",
    "]"
   ]
  },
  {
   "cell_type": "code",
   "execution_count": 0,
   "metadata": {
    "application/vnd.databricks.v1+cell": {
     "cellMetadata": {
      "byteLimit": 2048000,
      "rowLimit": 10000
     },
     "inputWidgets": {},
     "nuid": "b9db4854-f103-4e49-9620-a9cee3f3563f",
     "showTitle": false,
     "title": ""
    }
   },
   "outputs": [],
   "source": [
    "df = df.reset_index(drop=True)"
   ]
  },
  {
   "cell_type": "code",
   "execution_count": 0,
   "metadata": {
    "application/vnd.databricks.v1+cell": {
     "cellMetadata": {
      "byteLimit": 2048000,
      "rowLimit": 10000
     },
     "inputWidgets": {},
     "nuid": "99464cb4-4787-4578-b06f-4362fd269d8b",
     "showTitle": false,
     "title": ""
    }
   },
   "outputs": [],
   "source": [
    "encoded_df = pd.get_dummies(\n",
    "    df[model_inputs],\n",
    "    columns=[\"type_of_flight\", \"period_day\"],\n",
    "    prefix=[\"type_of_flight\", \"period_day\"],\n",
    "    drop_first=[True, False],\n",
    ")"
   ]
  },
  {
   "cell_type": "markdown",
   "metadata": {
    "application/vnd.databricks.v1+cell": {
     "cellMetadata": {
      "byteLimit": 2048000,
      "rowLimit": 10000
     },
     "inputWidgets": {},
     "nuid": "e904bafa-c385-4b63-8a4e-7982c41a6636",
     "showTitle": false,
     "title": ""
    }
   },
   "source": [
    "#### Train test split"
   ]
  },
  {
   "cell_type": "code",
   "execution_count": 0,
   "metadata": {
    "application/vnd.databricks.v1+cell": {
     "cellMetadata": {
      "byteLimit": 2048000,
      "rowLimit": 10000
     },
     "inputWidgets": {},
     "nuid": "8a206bf9-9742-4121-825c-86c65cceed1a",
     "showTitle": false,
     "title": ""
    }
   },
   "outputs": [],
   "source": [
    "X, y = train_test_split(\n",
    "    encoded_df,\n",
    "    stratify=encoded_df[\"delay_15\"],\n",
    "    test_size=0.20,\n",
    "    random_state=42,\n",
    ")"
   ]
  },
  {
   "cell_type": "code",
   "execution_count": 0,
   "metadata": {
    "application/vnd.databricks.v1+cell": {
     "cellMetadata": {
      "byteLimit": 2048000,
      "rowLimit": 10000
     },
     "inputWidgets": {},
     "nuid": "651c571a-ef00-41c2-b85a-2ea194a11a15",
     "showTitle": false,
     "title": ""
    }
   },
   "outputs": [],
   "source": [
    "assert set(list(X.index)).intersection(set(y.index)) == set()"
   ]
  },
  {
   "cell_type": "code",
   "execution_count": 0,
   "metadata": {
    "application/vnd.databricks.v1+cell": {
     "cellMetadata": {
      "byteLimit": 2048000,
      "rowLimit": 10000
     },
     "inputWidgets": {},
     "nuid": "2a504c85-0e13-4ad8-9819-f28dc61a2bf8",
     "showTitle": false,
     "title": ""
    }
   },
   "outputs": [],
   "source": [
    "assert X[\"delay_15\"].value_counts(normalize=True)[0] < 0.82"
   ]
  },
  {
   "cell_type": "code",
   "execution_count": 0,
   "metadata": {
    "application/vnd.databricks.v1+cell": {
     "cellMetadata": {
      "byteLimit": 2048000,
      "rowLimit": 10000
     },
     "inputWidgets": {},
     "nuid": "0064f419-7de5-4180-a8c9-6ad56253eb0e",
     "showTitle": false,
     "title": ""
    }
   },
   "outputs": [],
   "source": [
    "assert y[\"delay_15\"].value_counts(normalize=True)[0] < 0.82"
   ]
  },
  {
   "cell_type": "code",
   "execution_count": 0,
   "metadata": {
    "application/vnd.databricks.v1+cell": {
     "cellMetadata": {
      "byteLimit": 2048000,
      "rowLimit": 10000
     },
     "inputWidgets": {},
     "nuid": "395a7b42-bbc3-452e-965c-114dc4e4e890",
     "showTitle": false,
     "title": ""
    }
   },
   "outputs": [],
   "source": [
    "train_x = X.drop(\"delay_15\", axis=1)\n",
    "train_y = X[\"delay_15\"]\n",
    "\n",
    "test_x = y.drop(\"delay_15\", axis=1)\n",
    "test_y = y[\"delay_15\"]"
   ]
  },
  {
   "cell_type": "markdown",
   "metadata": {
    "application/vnd.databricks.v1+cell": {
     "cellMetadata": {
      "byteLimit": 2048000,
      "rowLimit": 10000
     },
     "inputWidgets": {},
     "nuid": "1a6f1395-2260-4ff3-adf2-2bcfd215c54b",
     "showTitle": false,
     "title": ""
    }
   },
   "source": [
    "#### Enconding with categorical encoder"
   ]
  },
  {
   "cell_type": "code",
   "execution_count": 0,
   "metadata": {
    "application/vnd.databricks.v1+cell": {
     "cellMetadata": {
      "byteLimit": 2048000,
      "rowLimit": 10000
     },
     "inputWidgets": {},
     "nuid": "4ef21083-7b0a-44c3-ba30-a1af483415ce",
     "showTitle": false,
     "title": ""
    }
   },
   "outputs": [],
   "source": [
    "# create a categorical encoder and fit it to the training data\n",
    "encoder = ce.CatBoostEncoder(\n",
    "    cols=[\"scheduled_destination_city_code\", \"scheduled_airline_code\"], random_state=42\n",
    ")\n",
    "X_train_encoded_scenario_1 = encoder.fit_transform(train_x, train_y)"
   ]
  },
  {
   "cell_type": "code",
   "execution_count": 0,
   "metadata": {
    "application/vnd.databricks.v1+cell": {
     "cellMetadata": {
      "byteLimit": 2048000,
      "rowLimit": 10000
     },
     "inputWidgets": {},
     "nuid": "044dff76-aecd-4a75-a9e8-92b07dc20a7c",
     "showTitle": false,
     "title": ""
    }
   },
   "outputs": [],
   "source": [
    "base_parameters_lgbm_class = {\n",
    "    \"objective\": \"binary\",\n",
    "    \"boosting_type\": \"dart\",\n",
    "    \"metric\": \"binary_logloss\",\n",
    "    \"device_type\": \"cpu\",\n",
    "    \"num_threads\": 4,\n",
    "    \"enable_bundle\": True,\n",
    "    \"verbose\": -1,\n",
    "    \"random_seed\": 0,\n",
    "    \"is_unbalance\": True,\n",
    "    \"extra_trees\": True,\n",
    "}\n",
    "\n",
    "threshold = 0.5"
   ]
  },
  {
   "cell_type": "code",
   "execution_count": 0,
   "metadata": {
    "application/vnd.databricks.v1+cell": {
     "cellMetadata": {
      "byteLimit": 2048000,
      "rowLimit": 10000
     },
     "inputWidgets": {},
     "nuid": "1971dd8c-caf2-49c9-bcda-ab4168f9c52e",
     "showTitle": false,
     "title": ""
    }
   },
   "outputs": [],
   "source": [
    "# transform the testing data using the trained encoder\n",
    "X_test_encoded_scenario_1 = encoder.transform(test_x)"
   ]
  },
  {
   "cell_type": "markdown",
   "metadata": {
    "application/vnd.databricks.v1+cell": {
     "cellMetadata": {
      "byteLimit": 2048000,
      "rowLimit": 10000
     },
     "inputWidgets": {},
     "nuid": "63dabaa5-a344-4b03-a233-2be36b1ad266",
     "showTitle": false,
     "title": ""
    }
   },
   "source": [
    "#### First experimental training"
   ]
  },
  {
   "cell_type": "code",
   "execution_count": 0,
   "metadata": {
    "application/vnd.databricks.v1+cell": {
     "cellMetadata": {
      "byteLimit": 2048000,
      "rowLimit": 10000
     },
     "inputWidgets": {},
     "nuid": "7415f4a1-783e-4e1b-b41a-e90acc06a21b",
     "showTitle": false,
     "title": ""
    }
   },
   "outputs": [],
   "source": [
    "train_set = lgbm.Dataset(X_train_encoded_scenario_1, label=train_y)"
   ]
  },
  {
   "cell_type": "code",
   "execution_count": 0,
   "metadata": {
    "application/vnd.databricks.v1+cell": {
     "cellMetadata": {
      "byteLimit": 2048000,
      "rowLimit": 10000
     },
     "inputWidgets": {},
     "nuid": "9b108b62-a3d8-439c-a624-ba49a140ae8b",
     "showTitle": false,
     "title": ""
    }
   },
   "outputs": [],
   "source": [
    "model = lgbm.train(base_parameters_lgbm_class, train_set)"
   ]
  },
  {
   "cell_type": "code",
   "execution_count": 0,
   "metadata": {
    "application/vnd.databricks.v1+cell": {
     "cellMetadata": {
      "byteLimit": 2048000,
      "rowLimit": 10000
     },
     "inputWidgets": {},
     "nuid": "7f9115a0-ead7-41dd-b7fb-acba1e468b73",
     "showTitle": false,
     "title": ""
    }
   },
   "outputs": [],
   "source": [
    "y_pred_train = model.predict(\n",
    "    X_train_encoded_scenario_1,\n",
    "    num_iteration=model.best_iteration,\n",
    ")\n",
    "\n",
    "y_pred_test = model.predict(\n",
    "    X_test_encoded_scenario_1,\n",
    "    num_iteration=model.best_iteration,\n",
    ")"
   ]
  },
  {
   "cell_type": "code",
   "execution_count": 0,
   "metadata": {
    "application/vnd.databricks.v1+cell": {
     "cellMetadata": {
      "byteLimit": 2048000,
      "rowLimit": 10000
     },
     "inputWidgets": {},
     "nuid": "08a38b3b-35b5-4833-a492-e929cbc3a8f0",
     "showTitle": false,
     "title": ""
    }
   },
   "outputs": [],
   "source": [
    "# Convert to binary\n",
    "y_pred_train = continuous_to_binary(y_pred_train, threshold)\n",
    "y_pred_test = continuous_to_binary(y_pred_test, threshold)\n",
    "\n",
    "current_score_test_recall = recall_score(y_pred_test, test_y, zero_division=0)\n",
    "current_score_train_recall = recall_score(y_pred_train, train_y, zero_division=0)\n",
    "\n",
    "\n",
    "current_score_test_precision = precision_score(y_pred_test, test_y, zero_division=0)\n",
    "current_score_train_precision = precision_score(y_pred_train, train_y, zero_division=0)\n",
    "\n",
    "\n",
    "current_score_test_f1_score = f1_score(y_pred_test, test_y, zero_division=0)\n",
    "current_score_train_f1_score = f1_score(y_pred_train, train_y, zero_division=0)"
   ]
  },
  {
   "cell_type": "code",
   "execution_count": 0,
   "metadata": {
    "application/vnd.databricks.v1+cell": {
     "cellMetadata": {
      "byteLimit": 2048000,
      "rowLimit": 10000
     },
     "inputWidgets": {},
     "nuid": "46f2f368-1e86-4292-bb9d-8b0ac7bb4fe5",
     "showTitle": false,
     "title": ""
    }
   },
   "outputs": [],
   "source": [
    "current_score_test_recall, current_score_train_recall, current_score_test_precision, current_score_train_precision, current_score_test_f1_score, current_score_train_f1_score"
   ]
  },
  {
   "cell_type": "code",
   "execution_count": 0,
   "metadata": {
    "application/vnd.databricks.v1+cell": {
     "cellMetadata": {
      "byteLimit": 2048000,
      "rowLimit": 10000
     },
     "inputWidgets": {},
     "nuid": "61b5076e-ab2c-4ec2-b00c-367aec210229",
     "showTitle": false,
     "title": ""
    }
   },
   "outputs": [],
   "source": [
    "# Major mistakes in the minority class\n",
    "print(classification_report(train_y, y_pred_train))"
   ]
  },
  {
   "cell_type": "code",
   "execution_count": 0,
   "metadata": {
    "application/vnd.databricks.v1+cell": {
     "cellMetadata": {
      "byteLimit": 2048000,
      "rowLimit": 10000
     },
     "inputWidgets": {},
     "nuid": "25fdfecc-4744-44b4-9262-e09e39dceb25",
     "showTitle": false,
     "title": ""
    }
   },
   "outputs": [],
   "source": [
    "# Confusion Matrix - Train set\n",
    "cm = confusion_matrix(train_y, y_pred_train)\n",
    "fig = plt.gcf()\n",
    "fig.tight_layout()\n",
    "sns.heatmap(cm, annot=True, fmt=\"d\")"
   ]
  },
  {
   "cell_type": "code",
   "execution_count": 0,
   "metadata": {
    "application/vnd.databricks.v1+cell": {
     "cellMetadata": {
      "byteLimit": 2048000,
      "rowLimit": 10000
     },
     "inputWidgets": {},
     "nuid": "285636a1-4eca-4888-9280-ada64a411976",
     "showTitle": false,
     "title": ""
    }
   },
   "outputs": [],
   "source": [
    "# Confusion Matrix - Test set\n",
    "cm = confusion_matrix(test_y, y_pred_test)\n",
    "fig = plt.gcf()\n",
    "fig.tight_layout()\n",
    "sns.heatmap(cm, annot=True, fmt=\"d\")"
   ]
  },
  {
   "cell_type": "markdown",
   "metadata": {
    "application/vnd.databricks.v1+cell": {
     "cellMetadata": {
      "byteLimit": 2048000,
      "rowLimit": 10000
     },
     "inputWidgets": {},
     "nuid": "6875f1e2-a256-460a-9632-886c9ab91976",
     "showTitle": false,
     "title": ""
    }
   },
   "source": [
    "#### Fining tunning"
   ]
  },
  {
   "cell_type": "code",
   "execution_count": 0,
   "metadata": {
    "application/vnd.databricks.v1+cell": {
     "cellMetadata": {
      "byteLimit": 2048000,
      "rowLimit": 10000
     },
     "inputWidgets": {},
     "nuid": "a83c73a2-8202-4a09-bbbe-9f1a21e158b7",
     "showTitle": false,
     "title": ""
    }
   },
   "outputs": [],
   "source": [
    "base_params = {\n",
    "    \"objective\": \"binary\",\n",
    "    \"boosting_type\": \"dart\",\n",
    "    \"metric\": \"binary_logloss\",\n",
    "    \"device_type\": \"cpu\",\n",
    "    \"num_threads\": 4,\n",
    "    \"enable_bundle\": True,\n",
    "    \"verbose\": -1,\n",
    "    \"random_seed\": 0,\n",
    "    \"is_unbalance\": True,\n",
    "    \"extra_trees\": True,\n",
    "}\n",
    "\n",
    "parameters_dict = {\n",
    "    \"learning_rate\": {\"min\": 0.01, \"max\": 0.3, \"type\": \"float\"},\n",
    "    \"num_leaves\": {\"min\": 500, \"max\": 3500, \"step\": 10, \"type\": \"int\"},\n",
    "    \"max_depth\": {\"min\": 3, \"max\": 20, \"step\": 1, \"type\": \"int\"},\n",
    "    \"min_data_in_leaf\": {\"min\": 10, \"max\": 300, \"step\": 5, \"type\": \"int\"},\n",
    "    \"feature_fraction\": {\"min\": 0.5, \"max\": 1, \"type\": \"float\"},\n",
    "    \"bagging_fraction\": {\"min\": 0.1, \"max\": 1, \"type\": \"float\"},\n",
    "    \"num_iterations\": {\"min\": 100, \"max\": 300, \"step\": 10, \"type\": \"int\"},\n",
    "    \"lambda_l1\": {\"min\": 1, \"max\": 10, \"step\": 1, \"type\": \"int\"},\n",
    "    \"lambda_l2\": {\"min\": 1, \"max\": 10, \"step\": 1, \"type\": \"int\"},\n",
    "}\n",
    "\n",
    "\n",
    "WEIGHT_FOR_METRIC_OPTUNA = 1.32\n",
    "OPTIMIZE_THRESHOLD_OPTUNA = True\n",
    "N_TRIALS = 50"
   ]
  },
  {
   "cell_type": "code",
   "execution_count": 0,
   "metadata": {
    "application/vnd.databricks.v1+cell": {
     "cellMetadata": {
      "byteLimit": 2048000,
      "rowLimit": 10000
     },
     "inputWidgets": {},
     "nuid": "543e65a0-fb9d-421a-b679-ddaea5009ab6",
     "showTitle": false,
     "title": ""
    }
   },
   "outputs": [],
   "source": [
    "study = lgbm_class_hyperparameter_tuning_pipeline(\n",
    "    X_train_encoded_scenario_1,\n",
    "    train_y,\n",
    "    base_params,\n",
    "    parameters_dict,\n",
    "    WEIGHT_FOR_METRIC_OPTUNA,\n",
    "    OPTIMIZE_THRESHOLD_OPTUNA,\n",
    "    N_TRIALS,\n",
    ")"
   ]
  },
  {
   "cell_type": "markdown",
   "metadata": {
    "application/vnd.databricks.v1+cell": {
     "cellMetadata": {
      "byteLimit": 2048000,
      "rowLimit": 10000
     },
     "inputWidgets": {},
     "nuid": "952c0419-a6eb-4092-af47-240da8af529b",
     "showTitle": false,
     "title": ""
    }
   },
   "source": [
    "#### Training with cross validation and applying fine tunning"
   ]
  },
  {
   "cell_type": "code",
   "execution_count": 0,
   "metadata": {
    "application/vnd.databricks.v1+cell": {
     "cellMetadata": {
      "byteLimit": 2048000,
      "rowLimit": 10000
     },
     "inputWidgets": {},
     "nuid": "0d105654-aa75-453b-9bf8-b3dd6112af81",
     "showTitle": false,
     "title": ""
    }
   },
   "outputs": [],
   "source": [
    "parameters = study.best_params\n",
    "parameters.update(base_parameters_lgbm_class)\n",
    "threshold = study.best_params[\"threshold\"]"
   ]
  },
  {
   "cell_type": "code",
   "execution_count": 0,
   "metadata": {
    "application/vnd.databricks.v1+cell": {
     "cellMetadata": {
      "byteLimit": 2048000,
      "rowLimit": 10000
     },
     "inputWidgets": {},
     "nuid": "3c3a10cd-b9b4-4a2d-932f-aee3a16dd877",
     "showTitle": false,
     "title": ""
    }
   },
   "outputs": [],
   "source": [
    "parameters"
   ]
  },
  {
   "cell_type": "code",
   "execution_count": 0,
   "metadata": {
    "application/vnd.databricks.v1+cell": {
     "cellMetadata": {
      "byteLimit": 2048000,
      "rowLimit": 10000
     },
     "inputWidgets": {},
     "nuid": "7322c47a-b958-4925-9dfb-50e45213ed37",
     "showTitle": false,
     "title": ""
    }
   },
   "outputs": [],
   "source": [
    "if \"threshold\" in parameters.keys():\n",
    "    del parameters[\"threshold\"]\n",
    "    threshold = study.best_params[\"threshold\"]\n",
    "else:\n",
    "    threshold = 0.5\n",
    "\n",
    "scores_rs_train = []\n",
    "scores_rs_test = []\n",
    "\n",
    "scores_pr_train = []\n",
    "scores_pr_test = []\n",
    "\n",
    "# define stratified k-fold cross-validation\n",
    "n_splits = 5\n",
    "kf = StratifiedKFold(n_splits=n_splits, shuffle=True, random_state=42)\n",
    "\n",
    "#  the data just to shuffle it\n",
    "# Cross Validation\n",
    "for train_index, test_index in kf.split(X_train_encoded_scenario_1, train_y):\n",
    "\n",
    "    X_train, X_test = (\n",
    "        X_train_encoded_scenario_1.iloc[train_index],\n",
    "        X_train_encoded_scenario_1.iloc[test_index],\n",
    "    )\n",
    "    y_train, y_test = train_y.iloc[train_index], train_y.iloc[test_index]\n",
    "\n",
    "    train_set = lgbm.Dataset(\n",
    "        X_train,\n",
    "        label=y_train,\n",
    "    )\n",
    "\n",
    "    dval = lgbm.Dataset(\n",
    "        X_test,\n",
    "        y_test,\n",
    "        reference=train_set,\n",
    "    )\n",
    "\n",
    "    model = lgbm.train(parameters, train_set, valid_sets=dval)\n",
    "\n",
    "    y_pred_train = model.predict(\n",
    "        X_train,\n",
    "        num_iteration=model.best_iteration,\n",
    "    )\n",
    "\n",
    "    y_pred_test = model.predict(\n",
    "        X_test,\n",
    "        num_iteration=model.best_iteration,\n",
    "    )\n",
    "\n",
    "    # Convert to binary\n",
    "    y_pred_train = continuous_to_binary(y_pred_train, threshold)\n",
    "    y_pred_test = continuous_to_binary(y_pred_test, threshold)\n",
    "\n",
    "    current_score_train_rs = recall_score(y_train, y_pred_train, zero_division=0)\n",
    "    current_score_test_rs = recall_score(y_test, y_pred_test, zero_division=0)\n",
    "\n",
    "    scores_rs_train += [current_score_train_rs]\n",
    "    scores_rs_test += [current_score_test_rs]\n",
    "\n",
    "    current_score_train_pr = precision_score(y_train, y_pred_train, zero_division=0)\n",
    "    current_score_test_pr = precision_score(y_test, y_pred_test, zero_division=0)\n",
    "\n",
    "    scores_pr_train += [current_score_train_pr]\n",
    "    scores_pr_test += [current_score_test_pr]\n",
    "\n",
    "\n",
    "scores_rs_train_mean = np.mean(scores_rs_train)\n",
    "scores_rs_test_mean = np.mean(scores_rs_test)\n",
    "scores_rs_train_std = np.std(scores_rs_train)\n",
    "scores_rs_test_std = np.std(scores_rs_test)\n",
    "\n",
    "scores_pr_train_mean = np.mean(scores_pr_train)\n",
    "scores_pr_test_mean = np.mean(scores_pr_test)\n",
    "scores_pr_train_std = np.std(scores_pr_train)\n",
    "scores_pr_test_std = np.std(scores_pr_test)"
   ]
  },
  {
   "cell_type": "code",
   "execution_count": 0,
   "metadata": {
    "application/vnd.databricks.v1+cell": {
     "cellMetadata": {
      "byteLimit": 2048000,
      "rowLimit": 10000
     },
     "inputWidgets": {},
     "nuid": "f11086fd-e6cb-47af-a3e8-2699718aff7c",
     "showTitle": false,
     "title": ""
    }
   },
   "outputs": [],
   "source": [
    "scores_rs_train_mean, scores_pr_train_mean, scores_rs_test_mean, scores_pr_test_mean"
   ]
  },
  {
   "cell_type": "code",
   "execution_count": 0,
   "metadata": {
    "application/vnd.databricks.v1+cell": {
     "cellMetadata": {
      "byteLimit": 2048000,
      "rowLimit": 10000
     },
     "inputWidgets": {},
     "nuid": "9da0c9c4-3cb8-4050-a2d0-4716279c788e",
     "showTitle": false,
     "title": ""
    }
   },
   "outputs": [],
   "source": [
    "scores_rs_train_std, scores_pr_train_std, scores_rs_test_std, scores_pr_test_std,"
   ]
  },
  {
   "cell_type": "markdown",
   "metadata": {
    "application/vnd.databricks.v1+cell": {
     "cellMetadata": {
      "byteLimit": 2048000,
      "rowLimit": 10000
     },
     "inputWidgets": {},
     "nuid": "464af983-d00b-4e4b-bd30-79ddc5615198",
     "showTitle": false,
     "title": ""
    }
   },
   "source": [
    "#### Training final model"
   ]
  },
  {
   "cell_type": "code",
   "execution_count": 0,
   "metadata": {
    "application/vnd.databricks.v1+cell": {
     "cellMetadata": {
      "byteLimit": 2048000,
      "rowLimit": 10000
     },
     "inputWidgets": {},
     "nuid": "0906fd77-c1f7-4016-aca4-f645030e1237",
     "showTitle": false,
     "title": ""
    }
   },
   "outputs": [],
   "source": [
    "# Train model\n",
    "train_set = lgbm.Dataset(X_train_encoded_scenario_1, label=train_y)\n",
    "\n",
    "dval = lgbm.Dataset(X_test_encoded_scenario_1, test_y, reference=train_set)\n",
    "\n",
    "# Save train/validation plot\n",
    "evals_results = {}  # to record eval results for plotting\n",
    "\n",
    "lgbm_model_scenario_1 = lgbm.train(\n",
    "    params=parameters,\n",
    "    train_set=train_set,\n",
    "    valid_sets=[train_set, dval],\n",
    "    valid_names=[\"Train\", \"Valid\"],\n",
    "    callbacks=[lgbm.record_evaluation(evals_results)],\n",
    ")\n",
    "\n",
    "model_train_plot = lgbm.plot_metric(evals_results)"
   ]
  },
  {
   "cell_type": "code",
   "execution_count": 0,
   "metadata": {
    "application/vnd.databricks.v1+cell": {
     "cellMetadata": {
      "byteLimit": 2048000,
      "rowLimit": 10000
     },
     "inputWidgets": {},
     "nuid": "d6a6af23-f978-4ee3-a4d4-19bf8b77f2b5",
     "showTitle": false,
     "title": ""
    }
   },
   "outputs": [],
   "source": [
    "y_pred_train = lgbm_model_scenario_1.predict(\n",
    "    X_train_encoded_scenario_1\n",
    ")\n",
    "\n",
    "y_pred_test = lgbm_model_scenario_1.predict(\n",
    "    X_test_encoded_scenario_1\n",
    ")\n",
    "\n",
    "# Convert to binary\n",
    "y_pred_train = continuous_to_binary(y_pred_train, threshold)\n",
    "y_pred_test = continuous_to_binary(y_pred_test, threshold)\n",
    "\n",
    "current_score_train_rs = recall_score(train_y, y_pred_train, zero_division=0)\n",
    "current_score_test_rs = recall_score(test_y, y_pred_test, zero_division=0)\n",
    "\n",
    "scores_rs_train += [current_score_train_rs]\n",
    "scores_rs_test += [current_score_test_rs]\n",
    "\n",
    "current_score_train_pr = precision_score(train_y, y_pred_train, zero_division=0)\n",
    "current_score_test_pr = precision_score(test_y, y_pred_test, zero_division=0)"
   ]
  },
  {
   "cell_type": "code",
   "execution_count": 0,
   "metadata": {
    "application/vnd.databricks.v1+cell": {
     "cellMetadata": {
      "byteLimit": 2048000,
      "rowLimit": 10000
     },
     "inputWidgets": {},
     "nuid": "33376850-50b2-40d3-9667-e04bf5fda0dc",
     "showTitle": false,
     "title": ""
    }
   },
   "outputs": [],
   "source": [
    "current_score_test_recall,current_score_train_recall,current_score_test_precision,current_score_train_precision,current_score_test_f1_score,current_score_train_f1_score"
   ]
  },
  {
   "cell_type": "code",
   "execution_count": 0,
   "metadata": {
    "application/vnd.databricks.v1+cell": {
     "cellMetadata": {
      "byteLimit": 2048000,
      "rowLimit": 10000
     },
     "inputWidgets": {},
     "nuid": "cfa33bf4-567b-4a76-8d6c-157acf99cc7e",
     "showTitle": false,
     "title": ""
    }
   },
   "outputs": [],
   "source": [
    "# Confusion Matrix - Train set\n",
    "cm = confusion_matrix(train_y, y_pred_train)\n",
    "fig = plt.gcf()\n",
    "fig.tight_layout()\n",
    "sns.heatmap(cm, annot=True, fmt=\"d\")"
   ]
  },
  {
   "cell_type": "code",
   "execution_count": 0,
   "metadata": {
    "application/vnd.databricks.v1+cell": {
     "cellMetadata": {
      "byteLimit": 2048000,
      "rowLimit": 10000
     },
     "inputWidgets": {},
     "nuid": "b84ca157-68b7-468b-a743-110e6a6d097d",
     "showTitle": false,
     "title": ""
    }
   },
   "outputs": [],
   "source": [
    "# Confusion Matrix - Test set\n",
    "cm = confusion_matrix(test_y, y_pred_test)\n",
    "fig = plt.gcf()\n",
    "fig.tight_layout()\n",
    "sns.heatmap(cm, annot=True, fmt=\"d\")"
   ]
  },
  {
   "cell_type": "code",
   "execution_count": 0,
   "metadata": {
    "application/vnd.databricks.v1+cell": {
     "cellMetadata": {
      "byteLimit": 2048000,
      "rowLimit": 10000
     },
     "inputWidgets": {},
     "nuid": "c8331c5e-1631-4be5-8f33-f3e0318bd3bc",
     "showTitle": false,
     "title": ""
    }
   },
   "outputs": [],
   "source": [
    "# No overfitting is observed\n",
    "# 65% of flight delays would be predicted correctly.\n",
    "print(classification_report(test_y, y_pred_test))"
   ]
  },
  {
   "cell_type": "code",
   "execution_count": 0,
   "metadata": {
    "application/vnd.databricks.v1+cell": {
     "cellMetadata": {
      "byteLimit": 2048000,
      "rowLimit": 10000
     },
     "inputWidgets": {},
     "nuid": "12462b27-c6e5-4628-a190-0d4f0a218010",
     "showTitle": false,
     "title": ""
    }
   },
   "outputs": [],
   "source": [
    "print(classification_report(train_y, y_pred_train))"
   ]
  },
  {
   "cell_type": "markdown",
   "metadata": {
    "application/vnd.databricks.v1+cell": {
     "cellMetadata": {
      "byteLimit": 2048000,
      "rowLimit": 10000
     },
     "inputWidgets": {},
     "nuid": "2657a5a2-f15b-44b1-aa53-e79238708302",
     "showTitle": false,
     "title": ""
    }
   },
   "source": [
    "#### Test with catboost"
   ]
  },
  {
   "cell_type": "code",
   "execution_count": 0,
   "metadata": {
    "application/vnd.databricks.v1+cell": {
     "cellMetadata": {
      "byteLimit": 2048000,
      "rowLimit": 10000
     },
     "inputWidgets": {},
     "nuid": "8f56a654-69fb-4d0d-974e-b68296001f5c",
     "showTitle": false,
     "title": ""
    }
   },
   "outputs": [],
   "source": [
    "X_cat, y_cat = train_test_split(\n",
    "    df[model_inputs],\n",
    "    stratify=df[\"delay_15\"],\n",
    "    test_size=0.20,\n",
    "    random_state=42,\n",
    ")"
   ]
  },
  {
   "cell_type": "code",
   "execution_count": 0,
   "metadata": {
    "application/vnd.databricks.v1+cell": {
     "cellMetadata": {
      "byteLimit": 2048000,
      "rowLimit": 10000
     },
     "inputWidgets": {},
     "nuid": "dc7af64b-219f-41f1-b7eb-dabfa4e2bbb1",
     "showTitle": false,
     "title": ""
    }
   },
   "outputs": [],
   "source": [
    "params = {\n",
    "    \"iterations\": 1000,\n",
    "    \"learning_rate\": 0.05,\n",
    "    \"depth\": 6,\n",
    "    \"l2_leaf_reg\": 3,\n",
    "    \"border_count\": 64,\n",
    "    \"thread_count\": 4,\n",
    "    \"random_seed\": 42,\n",
    "    \"eval_metric\": \"Recall\",\n",
    "    \"verbose\": 50,\n",
    "    \"class_weights\": [1, 5],  # set higher weight for minority class\n",
    "}"
   ]
  },
  {
   "cell_type": "code",
   "execution_count": 0,
   "metadata": {
    "application/vnd.databricks.v1+cell": {
     "cellMetadata": {
      "byteLimit": 2048000,
      "rowLimit": 10000
     },
     "inputWidgets": {},
     "nuid": "832f5abb-0c3f-4c54-a0cf-b1941057abde",
     "showTitle": false,
     "title": ""
    }
   },
   "outputs": [],
   "source": [
    "assert set(list(X_cat.index)).intersection(set(y_cat.index)) == set()"
   ]
  },
  {
   "cell_type": "code",
   "execution_count": 0,
   "metadata": {
    "application/vnd.databricks.v1+cell": {
     "cellMetadata": {
      "byteLimit": 2048000,
      "rowLimit": 10000
     },
     "inputWidgets": {},
     "nuid": "cecc0802-0eb1-417a-bf1b-3429d2e24f13",
     "showTitle": false,
     "title": ""
    }
   },
   "outputs": [],
   "source": [
    "assert X_cat[\"delay_15\"].value_counts(normalize=True)[0] < 0.82"
   ]
  },
  {
   "cell_type": "code",
   "execution_count": 0,
   "metadata": {
    "application/vnd.databricks.v1+cell": {
     "cellMetadata": {
      "byteLimit": 2048000,
      "rowLimit": 10000
     },
     "inputWidgets": {},
     "nuid": "8c796e1a-6c3b-4457-af32-53081ee03824",
     "showTitle": false,
     "title": ""
    }
   },
   "outputs": [],
   "source": [
    "assert y_cat[\"delay_15\"].value_counts(normalize=True)[0] < 0.82"
   ]
  },
  {
   "cell_type": "code",
   "execution_count": 0,
   "metadata": {
    "application/vnd.databricks.v1+cell": {
     "cellMetadata": {
      "byteLimit": 2048000,
      "rowLimit": 10000
     },
     "inputWidgets": {},
     "nuid": "1653f3f3-280d-404d-9fad-8e0900e6da03",
     "showTitle": false,
     "title": ""
    }
   },
   "outputs": [],
   "source": [
    "train_x_cat = X_cat.drop(\"delay_15\", axis=1)\n",
    "train_y_cat = X_cat[\"delay_15\"]\n",
    "\n",
    "test_x_cat = y_cat.drop(\"delay_15\", axis=1)\n",
    "test_y_cat = y_cat[\"delay_15\"]"
   ]
  },
  {
   "cell_type": "code",
   "execution_count": 0,
   "metadata": {
    "application/vnd.databricks.v1+cell": {
     "cellMetadata": {
      "byteLimit": 2048000,
      "rowLimit": 10000
     },
     "inputWidgets": {},
     "nuid": "f148b955-ded6-4bec-84bc-22d4240fc5de",
     "showTitle": false,
     "title": ""
    }
   },
   "outputs": [],
   "source": [
    "categorical_features_indices = np.where(train_x_cat.dtypes != np.float)[0]\n",
    "\n",
    "train_pool = Pool(\n",
    "    data=train_x_cat, label=train_y_cat, cat_features=categorical_features_indices\n",
    ")\n",
    "\n",
    "test_pool = Pool(data=test_x_cat, label=test_y_cat, cat_features=categorical_features_indices)"
   ]
  },
  {
   "cell_type": "code",
   "execution_count": 0,
   "metadata": {
    "application/vnd.databricks.v1+cell": {
     "cellMetadata": {
      "byteLimit": 2048000,
      "rowLimit": 10000
     },
     "inputWidgets": {},
     "nuid": "4b8c4bdf-2bc9-4a54-9618-db486b52329b",
     "showTitle": false,
     "title": ""
    }
   },
   "outputs": [],
   "source": [
    "cat_model = CatBoostClassifier(**params)\n",
    "cat_model.fit(train_pool, eval_set=test_pool, use_best_model=True, plot=True)"
   ]
  },
  {
   "cell_type": "code",
   "execution_count": 0,
   "metadata": {
    "application/vnd.databricks.v1+cell": {
     "cellMetadata": {
      "byteLimit": 2048000,
      "rowLimit": 10000
     },
     "inputWidgets": {},
     "nuid": "1e4514f6-ce74-4806-bd6d-f7e19ec7d43b",
     "showTitle": false,
     "title": ""
    }
   },
   "outputs": [],
   "source": [
    "y_pred_test_cat = cat_model.predict(test_x_cat)\n",
    "y_pred_train_cat = cat_model.predict(train_x_cat)"
   ]
  },
  {
   "cell_type": "code",
   "execution_count": 0,
   "metadata": {
    "application/vnd.databricks.v1+cell": {
     "cellMetadata": {
      "byteLimit": 2048000,
      "rowLimit": 10000
     },
     "inputWidgets": {},
     "nuid": "ca3150df-bb96-4c10-9413-c12572330468",
     "showTitle": false,
     "title": ""
    }
   },
   "outputs": [],
   "source": [
    "current_score_train_rs = recall_score(train_y_cat, y_pred_train_cat, zero_division=0)\n",
    "current_score_test_rs = recall_score(test_y_cat, y_pred_test_cat, zero_division=0)\n",
    "\n",
    "current_score_train_pr = precision_score(train_y_cat, y_pred_train_cat, zero_division=0)\n",
    "current_score_test_pr = precision_score(test_y_cat, y_pred_test_cat, zero_division=0)"
   ]
  },
  {
   "cell_type": "code",
   "execution_count": 0,
   "metadata": {
    "application/vnd.databricks.v1+cell": {
     "cellMetadata": {
      "byteLimit": 2048000,
      "rowLimit": 10000
     },
     "inputWidgets": {},
     "nuid": "899d86cb-dee2-4a19-912f-777bbaf49c91",
     "showTitle": false,
     "title": ""
    }
   },
   "outputs": [],
   "source": [
    "current_score_train_rs, current_score_test_rs, current_score_train_pr, current_score_test_pr"
   ]
  },
  {
   "cell_type": "code",
   "execution_count": 0,
   "metadata": {
    "application/vnd.databricks.v1+cell": {
     "cellMetadata": {
      "byteLimit": 2048000,
      "rowLimit": 10000
     },
     "inputWidgets": {},
     "nuid": "fd6ea403-1cdd-45c3-bdce-66a820a6f53d",
     "showTitle": false,
     "title": ""
    }
   },
   "outputs": [],
   "source": [
    "print(classification_report(train_y_cat, y_pred_train_cat))"
   ]
  },
  {
   "cell_type": "code",
   "execution_count": 0,
   "metadata": {
    "application/vnd.databricks.v1+cell": {
     "cellMetadata": {
      "byteLimit": 2048000,
      "rowLimit": 10000
     },
     "inputWidgets": {},
     "nuid": "db1598f3-44ab-4839-afd1-cb56fdf025da",
     "showTitle": false,
     "title": ""
    }
   },
   "outputs": [],
   "source": [
    "# This model showed a subtle improvement and potential for exploitation.\n",
    "print(classification_report(test_y_cat, y_pred_test_cat))"
   ]
  },
  {
   "cell_type": "code",
   "execution_count": 0,
   "metadata": {
    "application/vnd.databricks.v1+cell": {
     "cellMetadata": {
      "byteLimit": 2048000,
      "rowLimit": 10000
     },
     "inputWidgets": {},
     "nuid": "718046fa-7cf9-4e3b-9983-859301c01de7",
     "showTitle": false,
     "title": ""
    }
   },
   "outputs": [],
   "source": [
    "# Confusion Matrix - Test set\n",
    "cm = confusion_matrix(test_y_cat, y_pred_test_cat)\n",
    "fig = plt.gcf()\n",
    "fig.tight_layout()\n",
    "sns.heatmap(cm, annot=True, fmt=\"d\")"
   ]
  },
  {
   "cell_type": "code",
   "execution_count": 0,
   "metadata": {
    "application/vnd.databricks.v1+cell": {
     "cellMetadata": {
      "byteLimit": 2048000,
      "rowLimit": 10000
     },
     "inputWidgets": {},
     "nuid": "89bbfe0a-908f-4c5a-bdcf-65d795eb540f",
     "showTitle": false,
     "title": ""
    }
   },
   "outputs": [],
   "source": [
    "# Confusion Matrix - Train set\n",
    "cm = confusion_matrix(train_y_cat, y_pred_train_cat)\n",
    "fig = plt.gcf()\n",
    "fig.tight_layout()\n",
    "sns.heatmap(cm, annot=True, fmt=\"d\")"
   ]
  },
  {
   "cell_type": "markdown",
   "metadata": {
    "application/vnd.databricks.v1+cell": {
     "cellMetadata": {
      "byteLimit": 2048000,
      "rowLimit": 10000
     },
     "inputWidgets": {},
     "nuid": "4e5157e6-e381-4fcc-8fbe-7557253b8bb1",
     "showTitle": false,
     "title": ""
    }
   },
   "source": [
    "### Scenario 2\n",
    "\n",
    "Assumption: Operational data should be used for training because we will have this information at the time of training."
   ]
  },
  {
   "cell_type": "markdown",
   "metadata": {
    "application/vnd.databricks.v1+cell": {
     "cellMetadata": {
      "byteLimit": 2048000,
      "rowLimit": 10000
     },
     "inputWidgets": {},
     "nuid": "4641149c-b711-4604-be03-385ef79f4196",
     "showTitle": false,
     "title": ""
    }
   },
   "source": [
    "#### Treat categorical features\n",
    "\n",
    "- One-hot encoding can be computationally expensive and can lead to a high-dimensional feature space, especially for variables with many categories. So, we'll do it only with the categories below.\n",
    "\n",
    "- I used CatBoostEncounter for the other columns. I then fitted the encoder on the training data and transformed the training and test data using the trained encoder."
   ]
  },
  {
   "cell_type": "code",
   "execution_count": 0,
   "metadata": {
    "application/vnd.databricks.v1+cell": {
     "cellMetadata": {
      "byteLimit": 2048000,
      "rowLimit": 10000
     },
     "inputWidgets": {},
     "nuid": "fdf1107b-0ae6-4ed5-a365-ef381306cb18",
     "showTitle": false,
     "title": ""
    }
   },
   "outputs": [],
   "source": [
    "model_inputs = [\n",
    "    \"scheduled_destination_city_code\",\n",
    "    \"scheduled_airline_code\",\n",
    "    \"type_of_flight\",\n",
    "    \"high_season\",\n",
    "    \"delay_15\",\n",
    "    \"period_day\",\n",
    "    \"count_flights_same_datetime\",\n",
    "    \"operation_destination_city_code\",\n",
    "    \"operated_airline_code\",\n",
    "    \"day_operation\",\n",
    "    \"month_operation\",\n",
    "    \"year_operation\",\n",
    "    \"day_of_the_week_operation\",\n",
    "    \"airline_that_operates\",\n",
    "]"
   ]
  },
  {
   "cell_type": "code",
   "execution_count": 0,
   "metadata": {
    "application/vnd.databricks.v1+cell": {
     "cellMetadata": {
      "byteLimit": 2048000,
      "rowLimit": 10000
     },
     "inputWidgets": {},
     "nuid": "d40a6783-8d93-4fb4-abfd-2ce843cf0f55",
     "showTitle": false,
     "title": ""
    }
   },
   "outputs": [],
   "source": [
    "df = df.reset_index(drop=True)"
   ]
  },
  {
   "cell_type": "code",
   "execution_count": 0,
   "metadata": {
    "application/vnd.databricks.v1+cell": {
     "cellMetadata": {
      "byteLimit": 2048000,
      "rowLimit": 10000
     },
     "inputWidgets": {},
     "nuid": "82acb4fb-067a-49e8-ae97-04df8342a0a4",
     "showTitle": false,
     "title": ""
    }
   },
   "outputs": [],
   "source": [
    "encoded_df = pd.get_dummies(\n",
    "    df[model_inputs],\n",
    "    columns=[\"type_of_flight\", \"period_day\"],\n",
    "    prefix=[\"type_of_flight\", \"period_day\"],\n",
    "    drop_first=[True, False],\n",
    ")"
   ]
  },
  {
   "cell_type": "markdown",
   "metadata": {
    "application/vnd.databricks.v1+cell": {
     "cellMetadata": {
      "byteLimit": 2048000,
      "rowLimit": 10000
     },
     "inputWidgets": {},
     "nuid": "a470ff17-bc38-49f4-bc58-842b7eb20319",
     "showTitle": false,
     "title": ""
    }
   },
   "source": [
    "#### Train test split"
   ]
  },
  {
   "cell_type": "code",
   "execution_count": 0,
   "metadata": {
    "application/vnd.databricks.v1+cell": {
     "cellMetadata": {
      "byteLimit": 2048000,
      "rowLimit": 10000
     },
     "inputWidgets": {},
     "nuid": "6bcbf5ef-5d52-42df-8c56-36d365f4e82a",
     "showTitle": false,
     "title": ""
    }
   },
   "outputs": [],
   "source": [
    "X, y = train_test_split(\n",
    "    encoded_df,\n",
    "    stratify=encoded_df[\"delay_15\"],\n",
    "    test_size=0.20,\n",
    "    random_state=42,\n",
    ")"
   ]
  },
  {
   "cell_type": "code",
   "execution_count": 0,
   "metadata": {
    "application/vnd.databricks.v1+cell": {
     "cellMetadata": {
      "byteLimit": 2048000,
      "rowLimit": 10000
     },
     "inputWidgets": {},
     "nuid": "a632f17e-c757-4d87-ab23-ba41d69d1cc1",
     "showTitle": false,
     "title": ""
    }
   },
   "outputs": [],
   "source": [
    "assert set(list(X.index)).intersection(set(y.index)) == set()"
   ]
  },
  {
   "cell_type": "code",
   "execution_count": 0,
   "metadata": {
    "application/vnd.databricks.v1+cell": {
     "cellMetadata": {
      "byteLimit": 2048000,
      "rowLimit": 10000
     },
     "inputWidgets": {},
     "nuid": "59a1485e-2b7e-42f5-9937-39a1c1240790",
     "showTitle": false,
     "title": ""
    }
   },
   "outputs": [],
   "source": [
    "assert X[\"delay_15\"].value_counts(normalize=True)[0] < 0.82"
   ]
  },
  {
   "cell_type": "code",
   "execution_count": 0,
   "metadata": {
    "application/vnd.databricks.v1+cell": {
     "cellMetadata": {
      "byteLimit": 2048000,
      "rowLimit": 10000
     },
     "inputWidgets": {},
     "nuid": "09c3418b-92ac-4dc6-a29a-7284a832b5af",
     "showTitle": false,
     "title": ""
    }
   },
   "outputs": [],
   "source": [
    "assert y[\"delay_15\"].value_counts(normalize=True)[0] < 0.82"
   ]
  },
  {
   "cell_type": "code",
   "execution_count": 0,
   "metadata": {
    "application/vnd.databricks.v1+cell": {
     "cellMetadata": {
      "byteLimit": 2048000,
      "rowLimit": 10000
     },
     "inputWidgets": {},
     "nuid": "90e3a0a1-80e0-4940-bb8e-509b40bc99a5",
     "showTitle": false,
     "title": ""
    }
   },
   "outputs": [],
   "source": [
    "train_x = X.drop(\"delay_15\", axis=1)\n",
    "train_y = X[\"delay_15\"]\n",
    "\n",
    "test_x = y.drop(\"delay_15\", axis=1)\n",
    "test_y = y[\"delay_15\"]"
   ]
  },
  {
   "cell_type": "markdown",
   "metadata": {
    "application/vnd.databricks.v1+cell": {
     "cellMetadata": {
      "byteLimit": 2048000,
      "rowLimit": 10000
     },
     "inputWidgets": {},
     "nuid": "a43c758b-0360-4803-82a7-4b2586343109",
     "showTitle": false,
     "title": ""
    }
   },
   "source": [
    "#### Enconding with categorical encoder"
   ]
  },
  {
   "cell_type": "code",
   "execution_count": 0,
   "metadata": {
    "application/vnd.databricks.v1+cell": {
     "cellMetadata": {
      "byteLimit": 2048000,
      "rowLimit": 10000
     },
     "inputWidgets": {},
     "nuid": "b78676c9-a813-4ec6-bbba-afff61129627",
     "showTitle": false,
     "title": ""
    }
   },
   "outputs": [],
   "source": [
    "# create a categorical encoder and fit it to the training data\n",
    "encoder = ce.CatBoostEncoder(\n",
    "    cols=[\n",
    "        \"scheduled_destination_city_code\",\n",
    "        \"scheduled_airline_code\",\n",
    "        \"operation_destination_city_code\",\n",
    "        \"operated_airline_code\",\n",
    "        \"day_of_the_week_operation\",\n",
    "        \"airline_that_operates\",\n",
    "    ],\n",
    "    random_state=42,\n",
    ")\n",
    "X_train_encoded_scenario_2 = encoder.fit_transform(train_x, train_y)"
   ]
  },
  {
   "cell_type": "code",
   "execution_count": 0,
   "metadata": {
    "application/vnd.databricks.v1+cell": {
     "cellMetadata": {
      "byteLimit": 2048000,
      "rowLimit": 10000
     },
     "inputWidgets": {},
     "nuid": "24677d32-39b5-4042-878b-c4878b9289b7",
     "showTitle": false,
     "title": ""
    }
   },
   "outputs": [],
   "source": [
    "base_parameters_lgbm_class = {\n",
    "    \"objective\": \"binary\",\n",
    "    \"boosting_type\": \"dart\",\n",
    "    \"metric\": \"binary_logloss\",\n",
    "    \"device_type\": \"cpu\",\n",
    "    \"num_threads\": 4,\n",
    "    \"enable_bundle\": True,\n",
    "    \"verbose\": -1,\n",
    "    \"random_seed\": 0,\n",
    "    \"is_unbalance\": True,\n",
    "    \"extra_trees\": True,\n",
    "}\n",
    "\n",
    "threshold = 0.5"
   ]
  },
  {
   "cell_type": "code",
   "execution_count": 0,
   "metadata": {
    "application/vnd.databricks.v1+cell": {
     "cellMetadata": {
      "byteLimit": 2048000,
      "rowLimit": 10000
     },
     "inputWidgets": {},
     "nuid": "a0b1604f-4588-4fc3-ad52-49e39467dc51",
     "showTitle": false,
     "title": ""
    }
   },
   "outputs": [],
   "source": [
    "# transform the testing data using the trained encoder\n",
    "X_test_encoded_scenario_2 = encoder.transform(test_x)"
   ]
  },
  {
   "cell_type": "markdown",
   "metadata": {
    "application/vnd.databricks.v1+cell": {
     "cellMetadata": {
      "byteLimit": 2048000,
      "rowLimit": 10000
     },
     "inputWidgets": {},
     "nuid": "08ae1506-a78c-45d7-99e5-b15c6c4bcb79",
     "showTitle": false,
     "title": ""
    }
   },
   "source": [
    "#### First train"
   ]
  },
  {
   "cell_type": "code",
   "execution_count": 0,
   "metadata": {
    "application/vnd.databricks.v1+cell": {
     "cellMetadata": {
      "byteLimit": 2048000,
      "rowLimit": 10000
     },
     "inputWidgets": {},
     "nuid": "8c2a1504-192e-49a3-b1b2-1cdc8239ba58",
     "showTitle": false,
     "title": ""
    }
   },
   "outputs": [],
   "source": [
    "train_set = lgbm.Dataset(X_train_encoded_scenario_2, label=train_y)"
   ]
  },
  {
   "cell_type": "code",
   "execution_count": 0,
   "metadata": {
    "application/vnd.databricks.v1+cell": {
     "cellMetadata": {
      "byteLimit": 2048000,
      "rowLimit": 10000
     },
     "inputWidgets": {},
     "nuid": "632e37d8-7138-45c3-be3f-b581670ebc9f",
     "showTitle": false,
     "title": ""
    }
   },
   "outputs": [],
   "source": [
    "model = lgbm.train(base_parameters_lgbm_class, train_set)"
   ]
  },
  {
   "cell_type": "code",
   "execution_count": 0,
   "metadata": {
    "application/vnd.databricks.v1+cell": {
     "cellMetadata": {
      "byteLimit": 2048000,
      "rowLimit": 10000
     },
     "inputWidgets": {},
     "nuid": "3ca6d7b1-5866-4d1f-b236-b99040290ad6",
     "showTitle": false,
     "title": ""
    }
   },
   "outputs": [],
   "source": [
    "y_pred_train = model.predict(\n",
    "    X_train_encoded_scenario_2,\n",
    "    num_iteration=model.best_iteration,\n",
    ")\n",
    "\n",
    "y_pred_test = model.predict(\n",
    "    X_test_encoded_scenario_2,\n",
    "    num_iteration=model.best_iteration,\n",
    ")"
   ]
  },
  {
   "cell_type": "code",
   "execution_count": 0,
   "metadata": {
    "application/vnd.databricks.v1+cell": {
     "cellMetadata": {
      "byteLimit": 2048000,
      "rowLimit": 10000
     },
     "inputWidgets": {},
     "nuid": "e59ae83b-c0a5-420a-9473-f3adb91d6f15",
     "showTitle": false,
     "title": ""
    }
   },
   "outputs": [],
   "source": [
    "# Convert to binary\n",
    "y_pred_train = continuous_to_binary(y_pred_train, threshold)\n",
    "y_pred_test = continuous_to_binary(y_pred_test, threshold)\n",
    "\n",
    "current_score_test_recall = recall_score(y_pred_test, test_y, zero_division=0)\n",
    "current_score_train_recall = recall_score(y_pred_train, train_y, zero_division=0)\n",
    "\n",
    "\n",
    "current_score_test_precision = precision_score(y_pred_test, test_y, zero_division=0)\n",
    "current_score_train_precision = precision_score(y_pred_train, train_y, zero_division=0)\n",
    "\n",
    "\n",
    "current_score_test_f1_score = f1_score(y_pred_test, test_y, zero_division=0)\n",
    "current_score_train_f1_score = f1_score(y_pred_train, train_y, zero_division=0)"
   ]
  },
  {
   "cell_type": "code",
   "execution_count": 0,
   "metadata": {
    "application/vnd.databricks.v1+cell": {
     "cellMetadata": {
      "byteLimit": 2048000,
      "rowLimit": 10000
     },
     "inputWidgets": {},
     "nuid": "5687d25a-d33b-4c81-8fcb-a610e29c1973",
     "showTitle": false,
     "title": ""
    }
   },
   "outputs": [],
   "source": [
    "current_score_test_recall, current_score_train_recall, current_score_test_precision, current_score_train_precision, current_score_test_f1_score, current_score_train_f1_score"
   ]
  },
  {
   "cell_type": "code",
   "execution_count": 0,
   "metadata": {
    "application/vnd.databricks.v1+cell": {
     "cellMetadata": {
      "byteLimit": 2048000,
      "rowLimit": 10000
     },
     "inputWidgets": {},
     "nuid": "3694e2af-12f4-46e4-90dd-6d87574a3a2d",
     "showTitle": false,
     "title": ""
    }
   },
   "outputs": [],
   "source": [
    "print(classification_report(train_y, y_pred_train))"
   ]
  },
  {
   "cell_type": "code",
   "execution_count": 0,
   "metadata": {
    "application/vnd.databricks.v1+cell": {
     "cellMetadata": {
      "byteLimit": 2048000,
      "rowLimit": 10000
     },
     "inputWidgets": {},
     "nuid": "2f463b15-1897-469a-b728-8b47e23d3a36",
     "showTitle": false,
     "title": ""
    }
   },
   "outputs": [],
   "source": [
    "# Confusion Matrix - Train set\n",
    "cm = confusion_matrix(train_y, y_pred_train)\n",
    "fig = plt.gcf()\n",
    "fig.tight_layout()\n",
    "sns.heatmap(cm, annot=True, fmt=\"d\")"
   ]
  },
  {
   "cell_type": "markdown",
   "metadata": {
    "application/vnd.databricks.v1+cell": {
     "cellMetadata": {
      "byteLimit": 2048000,
      "rowLimit": 10000
     },
     "inputWidgets": {},
     "nuid": "e20e7d45-14a3-44d6-93de-60e5985de99e",
     "showTitle": false,
     "title": ""
    }
   },
   "source": [
    "#### Fining tunning"
   ]
  },
  {
   "cell_type": "code",
   "execution_count": 0,
   "metadata": {
    "application/vnd.databricks.v1+cell": {
     "cellMetadata": {
      "byteLimit": 2048000,
      "rowLimit": 10000
     },
     "inputWidgets": {},
     "nuid": "533fc93f-0e36-4274-a1fb-943b44c85631",
     "showTitle": false,
     "title": ""
    }
   },
   "outputs": [],
   "source": [
    "base_params = {\n",
    "    \"objective\": \"binary\",\n",
    "    \"boosting_type\": \"dart\",\n",
    "    \"metric\": \"binary_logloss\",\n",
    "    \"device_type\": \"cpu\",\n",
    "    \"num_threads\": 4,\n",
    "    \"enable_bundle\": True,\n",
    "    \"verbose\": -1,\n",
    "    \"random_seed\": 0,\n",
    "    \"is_unbalance\": True,\n",
    "    \"extra_trees\": True,\n",
    "}\n",
    "\n",
    "parameters_dict = {\n",
    "    \"learning_rate\": {\"min\": 0.01, \"max\": 0.3, \"type\": \"float\"},\n",
    "    \"num_leaves\": {\"min\": 500, \"max\": 3500, \"step\": 10, \"type\": \"int\"},\n",
    "    \"max_depth\": {\"min\": 3, \"max\": 20, \"step\": 1, \"type\": \"int\"},\n",
    "    \"min_data_in_leaf\": {\"min\": 10, \"max\": 300, \"step\": 5, \"type\": \"int\"},\n",
    "    \"feature_fraction\": {\"min\": 0.5, \"max\": 1, \"type\": \"float\"},\n",
    "    \"bagging_fraction\": {\"min\": 0.1, \"max\": 1, \"type\": \"float\"},\n",
    "    \"num_iterations\": {\"min\": 100, \"max\": 300, \"step\": 10, \"type\": \"int\"},\n",
    "    \"lambda_l1\": {\"min\": 1, \"max\": 10, \"step\": 1, \"type\": \"int\"},\n",
    "    \"lambda_l2\": {\"min\": 1, \"max\": 10, \"step\": 1, \"type\": \"int\"},\n",
    "}\n",
    "\n",
    "\n",
    "WEIGHT_FOR_METRIC_OPTUNA = 1.3\n",
    "OPTIMIZE_THRESHOLD_OPTUNA = True\n",
    "N_TRIALS = 50"
   ]
  },
  {
   "cell_type": "code",
   "execution_count": 0,
   "metadata": {
    "application/vnd.databricks.v1+cell": {
     "cellMetadata": {
      "byteLimit": 2048000,
      "rowLimit": 10000
     },
     "inputWidgets": {},
     "nuid": "3e27c4df-75e6-42a2-b575-c4772bb569f4",
     "showTitle": false,
     "title": ""
    }
   },
   "outputs": [],
   "source": [
    "study = lgbm_class_hyperparameter_tuning_pipeline(\n",
    "    X_train_encoded_scenario_2,\n",
    "    train_y,\n",
    "    base_params,\n",
    "    parameters_dict,\n",
    "    WEIGHT_FOR_METRIC_OPTUNA,\n",
    "    OPTIMIZE_THRESHOLD_OPTUNA,\n",
    "    N_TRIALS,\n",
    ")"
   ]
  },
  {
   "cell_type": "code",
   "execution_count": 0,
   "metadata": {
    "application/vnd.databricks.v1+cell": {
     "cellMetadata": {
      "byteLimit": 2048000,
      "rowLimit": 10000
     },
     "inputWidgets": {},
     "nuid": "b27befeb-836b-4ee9-9ad2-28e66ff59ca5",
     "showTitle": false,
     "title": ""
    }
   },
   "outputs": [],
   "source": [
    "study.best_params"
   ]
  },
  {
   "cell_type": "markdown",
   "metadata": {
    "application/vnd.databricks.v1+cell": {
     "cellMetadata": {
      "byteLimit": 2048000,
      "rowLimit": 10000
     },
     "inputWidgets": {},
     "nuid": "9ad497e3-3c55-4f57-bf85-16001da3a5b4",
     "showTitle": false,
     "title": ""
    }
   },
   "source": [
    "#### Training with cross validation and applying fine tunning"
   ]
  },
  {
   "cell_type": "code",
   "execution_count": 0,
   "metadata": {
    "application/vnd.databricks.v1+cell": {
     "cellMetadata": {
      "byteLimit": 2048000,
      "rowLimit": 10000
     },
     "inputWidgets": {},
     "nuid": "d90f6ccc-3968-41dc-b714-2cf4dc19ebd9",
     "showTitle": false,
     "title": ""
    }
   },
   "outputs": [],
   "source": [
    "parameters = study.best_params\n",
    "parameters.update(base_parameters_lgbm_class)\n",
    "threshold = study.best_params[\"threshold\"]"
   ]
  },
  {
   "cell_type": "code",
   "execution_count": 0,
   "metadata": {
    "application/vnd.databricks.v1+cell": {
     "cellMetadata": {
      "byteLimit": 2048000,
      "rowLimit": 10000
     },
     "inputWidgets": {},
     "nuid": "e1f22616-b75e-4479-8b24-fdfb5420ceae",
     "showTitle": false,
     "title": ""
    }
   },
   "outputs": [],
   "source": [
    "if \"threshold\" in parameters.keys():\n",
    "    del parameters[\"threshold\"]\n",
    "    threshold = study.best_params[\"threshold\"]\n",
    "else:\n",
    "    threshold = 0.5\n",
    "\n",
    "scores_rs_train = []\n",
    "scores_rs_test = []\n",
    "\n",
    "scores_pr_train = []\n",
    "scores_pr_test = []\n",
    "\n",
    "# define stratified k-fold cross-validation\n",
    "n_splits = 5\n",
    "kf = StratifiedKFold(n_splits=n_splits, shuffle=True, random_state=42)\n",
    "\n",
    "\n",
    "#  the data just to shuffle it\n",
    "# Cross Validation\n",
    "for train_index, test_index in kf.split(X_train_encoded_scenario_2, train_y):\n",
    "\n",
    "    X_train, X_test = (\n",
    "        X_train_encoded_scenario_2.iloc[train_index],\n",
    "        X_train_encoded_scenario_2.iloc[test_index],\n",
    "    )\n",
    "    y_train, y_test = train_y.iloc[train_index], train_y.iloc[test_index]\n",
    "\n",
    "    train_set = lgbm.Dataset(\n",
    "        X_train,\n",
    "        label=y_train,\n",
    "    )\n",
    "\n",
    "    dval = lgbm.Dataset(\n",
    "        X_test,\n",
    "        y_test,\n",
    "        reference=train_set,\n",
    "    )\n",
    "\n",
    "    model = lgbm.train(parameters, train_set, valid_sets=dval)\n",
    "\n",
    "    y_pred_train = model.predict(\n",
    "        X_train,\n",
    "        num_iteration=model.best_iteration,\n",
    "    )\n",
    "\n",
    "    y_pred_test = model.predict(\n",
    "        X_test,\n",
    "        num_iteration=model.best_iteration,\n",
    "    )\n",
    "\n",
    "    # Convert to binary\n",
    "    y_pred_train = continuous_to_binary(y_pred_train, threshold)\n",
    "    y_pred_test = continuous_to_binary(y_pred_test, threshold)\n",
    "\n",
    "    current_score_train_rs = recall_score(y_train, y_pred_train, zero_division=0)\n",
    "    current_score_test_rs = recall_score(y_test, y_pred_test, zero_division=0)\n",
    "\n",
    "    scores_rs_train += [current_score_train_rs]\n",
    "    scores_rs_test += [current_score_test_rs]\n",
    "\n",
    "    current_score_train_pr = precision_score(y_train, y_pred_train, zero_division=0)\n",
    "    current_score_test_pr = precision_score(y_test, y_pred_test, zero_division=0)\n",
    "\n",
    "    scores_pr_train += [current_score_train_pr]\n",
    "    scores_pr_test += [current_score_test_pr]\n",
    "\n",
    "\n",
    "scores_rs_train_mean = np.mean(scores_rs_train)\n",
    "scores_rs_test_mean = np.mean(scores_rs_test)\n",
    "scores_rs_train_std = np.std(scores_rs_train)\n",
    "scores_rs_test_std = np.std(scores_rs_test)\n",
    "\n",
    "scores_pr_train_mean = np.mean(scores_pr_train)\n",
    "scores_pr_test_mean = np.mean(scores_pr_test)\n",
    "scores_pr_train_std = np.std(scores_pr_train)\n",
    "scores_pr_test_std = np.std(scores_pr_test)"
   ]
  },
  {
   "cell_type": "code",
   "execution_count": 0,
   "metadata": {
    "application/vnd.databricks.v1+cell": {
     "cellMetadata": {
      "byteLimit": 2048000,
      "rowLimit": 10000
     },
     "inputWidgets": {},
     "nuid": "59af3549-c745-42c2-8b01-69eb3d12000c",
     "showTitle": false,
     "title": ""
    }
   },
   "outputs": [],
   "source": [
    "scores_rs_train_mean, scores_pr_train_mean, scores_rs_test_mean, scores_pr_test_mean"
   ]
  },
  {
   "cell_type": "code",
   "execution_count": 0,
   "metadata": {
    "application/vnd.databricks.v1+cell": {
     "cellMetadata": {
      "byteLimit": 2048000,
      "rowLimit": 10000
     },
     "inputWidgets": {},
     "nuid": "44739b5a-dc51-4382-9781-136dbf46917b",
     "showTitle": false,
     "title": ""
    }
   },
   "outputs": [],
   "source": [
    "scores_rs_train_std, scores_pr_train_std, scores_rs_test_std, scores_pr_test_std,"
   ]
  },
  {
   "cell_type": "markdown",
   "metadata": {
    "application/vnd.databricks.v1+cell": {
     "cellMetadata": {
      "byteLimit": 2048000,
      "rowLimit": 10000
     },
     "inputWidgets": {},
     "nuid": "ca6ac0a4-e479-43e3-8ae7-57e4c5dc0965",
     "showTitle": false,
     "title": ""
    }
   },
   "source": [
    "#### Training final model"
   ]
  },
  {
   "cell_type": "code",
   "execution_count": 0,
   "metadata": {
    "application/vnd.databricks.v1+cell": {
     "cellMetadata": {
      "byteLimit": 2048000,
      "rowLimit": 10000
     },
     "inputWidgets": {},
     "nuid": "38f66b03-697d-4db4-afa0-7863e3016f1d",
     "showTitle": false,
     "title": ""
    }
   },
   "outputs": [],
   "source": [
    "# Train model\n",
    "train_set = lgbm.Dataset(X_train_encoded_scenario_2, label=train_y)\n",
    "\n",
    "dval = lgbm.Dataset(X_test_encoded_scenario_2, test_y, reference=train_set)\n",
    "\n",
    "# Save train/validation plot\n",
    "evals_results = {}  # to record eval results for plotting\n",
    "\n",
    "lgbm_model_scenario_2 = lgbm.train(\n",
    "    params=parameters,\n",
    "    train_set=train_set,\n",
    "    valid_sets=[train_set, dval],\n",
    "    valid_names=[\"Train\", \"Valid\"],\n",
    "    callbacks=[lgbm.record_evaluation(evals_results)],\n",
    ")\n",
    "\n",
    "model_train_plot = lgbm.plot_metric(evals_results)"
   ]
  },
  {
   "cell_type": "code",
   "execution_count": 0,
   "metadata": {
    "application/vnd.databricks.v1+cell": {
     "cellMetadata": {
      "byteLimit": 2048000,
      "rowLimit": 10000
     },
     "inputWidgets": {},
     "nuid": "9382fbfe-7e2c-4669-8a83-cf7211c6b965",
     "showTitle": false,
     "title": ""
    }
   },
   "outputs": [],
   "source": [
    "y_pred_train = lgbm_model_scenario_2.predict(\n",
    "    X_train_encoded_scenario_2,\n",
    ")\n",
    "\n",
    "y_pred_test = lgbm_model_scenario_2.predict(\n",
    "    X_test_encoded_scenario_2,\n",
    ")\n",
    "\n",
    "# Convert to binary\n",
    "y_pred_train = continuous_to_binary(y_pred_train, threshold)\n",
    "y_pred_test = continuous_to_binary(y_pred_test, threshold)\n",
    "\n",
    "current_score_train_rs = recall_score(train_y, y_pred_train, zero_division=0)\n",
    "current_score_test_rs = recall_score(test_y, y_pred_test, zero_division=0)\n",
    "\n",
    "scores_rs_train += [current_score_train_rs]\n",
    "scores_rs_test += [current_score_test_rs]\n",
    "\n",
    "current_score_train_pr = precision_score(train_y, y_pred_train, zero_division=0)\n",
    "current_score_test_pr = precision_score(test_y, y_pred_test, zero_division=0)"
   ]
  },
  {
   "cell_type": "code",
   "execution_count": 0,
   "metadata": {
    "application/vnd.databricks.v1+cell": {
     "cellMetadata": {
      "byteLimit": 2048000,
      "rowLimit": 10000
     },
     "inputWidgets": {},
     "nuid": "c0d1bd45-6f4f-4eda-bfe5-f85a424cfcdf",
     "showTitle": false,
     "title": ""
    }
   },
   "outputs": [],
   "source": [
    "current_score_test_recall, current_score_train_recall, current_score_test_precision, current_score_train_precision, current_score_test_f1_score, current_score_train_f1_score"
   ]
  },
  {
   "cell_type": "code",
   "execution_count": 0,
   "metadata": {
    "application/vnd.databricks.v1+cell": {
     "cellMetadata": {
      "byteLimit": 2048000,
      "rowLimit": 10000
     },
     "inputWidgets": {},
     "nuid": "74bde5a8-b619-425e-bbad-b5faf7b11039",
     "showTitle": false,
     "title": ""
    }
   },
   "outputs": [],
   "source": [
    "print(classification_report(train_y, y_pred_train))"
   ]
  },
  {
   "cell_type": "code",
   "execution_count": 0,
   "metadata": {
    "application/vnd.databricks.v1+cell": {
     "cellMetadata": {
      "byteLimit": 2048000,
      "rowLimit": 10000
     },
     "inputWidgets": {},
     "nuid": "05b454ab-d200-4c30-b27f-7ea4cfce44f3",
     "showTitle": false,
     "title": ""
    }
   },
   "outputs": [],
   "source": [
    "print(classification_report(test_y, y_pred_test))"
   ]
  },
  {
   "cell_type": "code",
   "execution_count": 0,
   "metadata": {
    "application/vnd.databricks.v1+cell": {
     "cellMetadata": {
      "byteLimit": 2048000,
      "rowLimit": 10000
     },
     "inputWidgets": {},
     "nuid": "447e9fa9-e113-4737-84d9-f9977e1da4ba",
     "showTitle": false,
     "title": ""
    }
   },
   "outputs": [],
   "source": [
    "# Confusion Matrix - Train set\n",
    "cm = confusion_matrix(train_y, y_pred_train)\n",
    "fig = plt.gcf()\n",
    "fig.tight_layout()\n",
    "sns.heatmap(cm, annot=True, fmt=\"d\")"
   ]
  },
  {
   "cell_type": "code",
   "execution_count": 0,
   "metadata": {
    "application/vnd.databricks.v1+cell": {
     "cellMetadata": {
      "byteLimit": 2048000,
      "rowLimit": 10000
     },
     "inputWidgets": {},
     "nuid": "fea0e090-c05c-46dc-a79f-29b85aa89959",
     "showTitle": false,
     "title": ""
    }
   },
   "outputs": [],
   "source": [
    "# Confusion Matrix - Test set\n",
    "cm = confusion_matrix(test_y, y_pred_test)\n",
    "fig = plt.gcf()\n",
    "fig.tight_layout()\n",
    "sns.heatmap(cm, annot=True, fmt=\"d\")"
   ]
  },
  {
   "cell_type": "markdown",
   "metadata": {
    "application/vnd.databricks.v1+cell": {
     "cellMetadata": {
      "byteLimit": 2048000,
      "rowLimit": 10000
     },
     "inputWidgets": {},
     "nuid": "84ae916d-7a84-4924-9ec7-582bc4895d12",
     "showTitle": false,
     "title": ""
    }
   },
   "source": [
    "## 5. Evaluate model performance in the predictive task across each model that you trained. Define and justify what metrics you used to assess model performance. Pick the best trained model and evaluate the following: What variables were the most influential in the prediction task? How could you improve the Performance?"
   ]
  },
  {
   "cell_type": "markdown",
   "metadata": {
    "application/vnd.databricks.v1+cell": {
     "cellMetadata": {
      "byteLimit": 2048000,
      "rowLimit": 10000
     },
     "inputWidgets": {},
     "nuid": "7d49d93e-99c7-4adc-937c-1ad0cc6af902",
     "showTitle": false,
     "title": ""
    }
   },
   "source": [
    "1. **Define and justify what metrics you used to assess model performance:**\n",
    "\n",
    "- In general, recall rate is a useful metric for applications where omitting a positive sample is more costly than misclassifying a negative sample as positive.\n",
    "\n",
    "- Recall would be an important metric to optimize because it is more important to correctly identify all delayed flights (true positives), even if it means that some non-delayed flights are flagged as delayed (false positives) (**Very important to confirm with the specialists**)\n",
    "\n",
    "- It is important to consider the context of the problem and the potential consequences of false negatives and false positives when choosing a metric to optimize for.\n",
    "\n",
    "- A confusion matrix was also used, as four categories (TP, FP, TN, FN) allow evaluating the performance of the model in terms of its ability to correctly classify positive and negative samples.\n",
    "\n",
    "\n",
    "2. **How could you improve the Performance?**\n",
    "\n",
    "\n",
    "- Feature engineering: Feature engineering involves selecting and transforming the input features that the model uses to make predictions. Example: We could collect data on weather conditions predicted at the time of flight planning and use it to develop statistics and new features.\n",
    "\n",
    "- Hyperparameter tuning:  By tuning these hyperparameters, you can often improve the performance of the model. We could improve the objective function of parameter tuning to better understand the context of the problem. For example, if it is more expensive to have false negatives or false positives.\n",
    "\n",
    "- Use more complex models: More complex models, such as deep neural networks, can sometimes achieve higher accuracy than simpler models. However, complex models can also be more difficult to train and require more data. **CatBoost model showed potential** in its performance and can be explored in the future\n",
    "\n",
    "- Regularization: Regularization techniques can help prevent overfitting by penalizing models that are too complex.\n",
    "\n",
    "- Preprocessing: Preprocessing techniques such as scaling, normalization, and imputation can sometimes improve model performance by making the data more suitable for the model to learn from.\n",
    "\n",
    "- Test more categorical enconders: Choosing the correct categorical encoder can significantly improve model performance because it can help transform categorical features into a format that machine learning algorithms can better understand and make use of. By selecting the right categorical encoder, you can improve the quality of the input data provided to the model, which can in turn improve its accuracy and predictive power.\n",
    "\n",
    "- Explore and optimize the Castboost model and even develop other models like logistic regression or random forest."
   ]
  },
  {
   "cell_type": "markdown",
   "metadata": {
    "application/vnd.databricks.v1+cell": {
     "cellMetadata": {
      "byteLimit": 2048000,
      "rowLimit": 10000
     },
     "inputWidgets": {},
     "nuid": "68c85a87-1f22-4678-a3f1-710bd5f056f0",
     "showTitle": false,
     "title": ""
    }
   },
   "source": [
    "### Most influential in the prediction task - Scenario 1"
   ]
  },
  {
   "cell_type": "code",
   "execution_count": 0,
   "metadata": {
    "application/vnd.databricks.v1+cell": {
     "cellMetadata": {
      "byteLimit": 2048000,
      "rowLimit": 10000
     },
     "inputWidgets": {},
     "nuid": "b92f5b8c-f6c2-4b79-9055-a73fa1d80392",
     "showTitle": false,
     "title": ""
    }
   },
   "outputs": [],
   "source": [
    "explainer = shap.TreeExplainer(lgbm_model_scenario_1)\n",
    "shap_values = explainer.shap_values(X_test_encoded_scenario_1)"
   ]
  },
  {
   "cell_type": "code",
   "execution_count": 0,
   "metadata": {
    "application/vnd.databricks.v1+cell": {
     "cellMetadata": {
      "byteLimit": 2048000,
      "rowLimit": 10000
     },
     "inputWidgets": {},
     "nuid": "a5a77d76-2350-45fc-8810-089c5af03f7c",
     "showTitle": false,
     "title": ""
    }
   },
   "outputs": [],
   "source": [
    "# Features that showed more significance were features created and scheduled destination and airline.\n",
    "shap.summary_plot(shap_values[0], features=X_test_encoded_scenario_1, show = False)"
   ]
  },
  {
   "cell_type": "markdown",
   "metadata": {
    "application/vnd.databricks.v1+cell": {
     "cellMetadata": {
      "byteLimit": 2048000,
      "rowLimit": 10000
     },
     "inputWidgets": {},
     "nuid": "449c55f8-c33d-461a-b13d-21baca529562",
     "showTitle": false,
     "title": ""
    }
   },
   "source": [
    "Interpretation (globally):\n",
    "\n",
    "scheduled destination, airline and period_day_morning were most influential features in determining outcome"
   ]
  },
  {
   "cell_type": "code",
   "execution_count": 0,
   "metadata": {
    "application/vnd.databricks.v1+cell": {
     "cellMetadata": {
      "byteLimit": 2048000,
      "rowLimit": 10000
     },
     "inputWidgets": {},
     "nuid": "6daa92b2-7b3e-41c4-86b9-cafbe09e7cea",
     "showTitle": false,
     "title": ""
    }
   },
   "outputs": [],
   "source": [
    "shap.dependence_plot(\"scheduled_destination_city_code\", shap_values[1], X_test_encoded_scenario_1)"
   ]
  },
  {
   "cell_type": "code",
   "execution_count": 0,
   "metadata": {
    "application/vnd.databricks.v1+cell": {
     "cellMetadata": {
      "byteLimit": 2048000,
      "rowLimit": 10000
     },
     "inputWidgets": {},
     "nuid": "b5ee14f0-90d2-4027-96bc-69d9f87c7523",
     "showTitle": false,
     "title": ""
    }
   },
   "outputs": [],
   "source": [
    "shap.dependence_plot(\"scheduled_airline_code\", shap_values[1], X_test_encoded_scenario_1)"
   ]
  },
  {
   "cell_type": "code",
   "execution_count": 0,
   "metadata": {
    "application/vnd.databricks.v1+cell": {
     "cellMetadata": {
      "byteLimit": 2048000,
      "rowLimit": 10000
     },
     "inputWidgets": {},
     "nuid": "5393f628-688c-446d-8c6f-dc0bd5c0ae8a",
     "showTitle": false,
     "title": ""
    }
   },
   "outputs": [],
   "source": [
    "# morning had lower probability of delay (lower shap values)\n",
    "shap.dependence_plot(\"period_day_morning\", shap_values[1], X_test_encoded_scenario_1)"
   ]
  },
  {
   "cell_type": "code",
   "execution_count": 0,
   "metadata": {
    "application/vnd.databricks.v1+cell": {
     "cellMetadata": {
      "byteLimit": 2048000,
      "rowLimit": 10000
     },
     "inputWidgets": {},
     "nuid": "9b9a3dd5-7f7a-4060-9046-f4134cf4608d",
     "showTitle": false,
     "title": ""
    }
   },
   "outputs": [],
   "source": [
    "# National had lower probability of delay (lower shap values)\n",
    "shap.dependence_plot(\"type_of_flight_N\", shap_values[1], X_test_encoded_scenario_1)"
   ]
  },
  {
   "cell_type": "code",
   "execution_count": 0,
   "metadata": {
    "application/vnd.databricks.v1+cell": {
     "cellMetadata": {
      "byteLimit": 2048000,
      "rowLimit": 10000
     },
     "inputWidgets": {},
     "nuid": "99631c49-a2f2-4b71-a09e-acd317f2f9c4",
     "showTitle": false,
     "title": ""
    }
   },
   "outputs": [],
   "source": [
    "# high_season had higher probability of delay (higher shap values)\n",
    "shap.dependence_plot(\"high_season\", shap_values[1], X_test_encoded_scenario_1)"
   ]
  },
  {
   "cell_type": "markdown",
   "metadata": {
    "application/vnd.databricks.v1+cell": {
     "cellMetadata": {
      "byteLimit": 2048000,
      "rowLimit": 10000
     },
     "inputWidgets": {},
     "nuid": "b413d1f9-f754-401a-a925-78aaa346bade",
     "showTitle": false,
     "title": ""
    }
   },
   "source": [
    "### Most influential in the prediction task - Scenario 2"
   ]
  },
  {
   "cell_type": "code",
   "execution_count": 0,
   "metadata": {
    "application/vnd.databricks.v1+cell": {
     "cellMetadata": {
      "byteLimit": 2048000,
      "rowLimit": 10000
     },
     "inputWidgets": {},
     "nuid": "9fae3fe8-16d9-49d4-9282-a65e5bd63179",
     "showTitle": false,
     "title": ""
    }
   },
   "outputs": [],
   "source": [
    "explainer = shap.TreeExplainer(lgbm_model_scenario_2)\n",
    "shap_values = explainer.shap_values(X_test_encoded_scenario_2)"
   ]
  },
  {
   "cell_type": "code",
   "execution_count": 0,
   "metadata": {
    "application/vnd.databricks.v1+cell": {
     "cellMetadata": {
      "byteLimit": 2048000,
      "rowLimit": 10000
     },
     "inputWidgets": {},
     "nuid": "7a9f6943-8e73-4c07-9165-789a28b3f758",
     "showTitle": false,
     "title": ""
    }
   },
   "outputs": [],
   "source": [
    "# Features that showed more significance were features created and scheduled destination and airline.\n",
    "shap.summary_plot(shap_values[0], features=X_test_encoded_scenario_2, show = False)"
   ]
  },
  {
   "cell_type": "markdown",
   "metadata": {
    "application/vnd.databricks.v1+cell": {
     "cellMetadata": {
      "byteLimit": 2048000,
      "rowLimit": 10000
     },
     "inputWidgets": {},
     "nuid": "20864e6c-6100-4cbc-850a-844bb58ccb59",
     "showTitle": false,
     "title": ""
    }
   },
   "source": [
    "Interpretation (globally):\n",
    "\n",
    "month_operation, day_of_the_week_operation and type_of_flight_N were most influential features in determining outcome"
   ]
  },
  {
   "cell_type": "code",
   "execution_count": 0,
   "metadata": {
    "application/vnd.databricks.v1+cell": {
     "cellMetadata": {
      "byteLimit": 2048000,
      "rowLimit": 10000
     },
     "inputWidgets": {},
     "nuid": "6bb75ae2-26df-4fc8-8fb0-aa27e39f9929",
     "showTitle": false,
     "title": ""
    }
   },
   "outputs": [],
   "source": [
    "# Months from the middle of the year onwards are more likely to be delayed (higher shap values)\n",
    "shap.dependence_plot(\"month_operation\", shap_values[1], X_test_encoded_scenario_2)"
   ]
  },
  {
   "cell_type": "code",
   "execution_count": 0,
   "metadata": {
    "application/vnd.databricks.v1+cell": {
     "cellMetadata": {
      "byteLimit": 2048000,
      "rowLimit": 10000
     },
     "inputWidgets": {},
     "nuid": "a33a6ff3-529d-48cb-8867-0f738cd7c145",
     "showTitle": false,
     "title": ""
    }
   },
   "outputs": [],
   "source": [
    "# morning had lower probability of delay (lower shap values)\n",
    "shap.dependence_plot(\"period_day_morning\", shap_values[1], X_test_encoded_scenario_2)"
   ]
  },
  {
   "cell_type": "code",
   "execution_count": 0,
   "metadata": {
    "application/vnd.databricks.v1+cell": {
     "cellMetadata": {
      "byteLimit": 2048000,
      "rowLimit": 10000
     },
     "inputWidgets": {},
     "nuid": "13097cad-8bcb-48e8-bcca-eddf1d6599fc",
     "showTitle": false,
     "title": ""
    }
   },
   "outputs": [],
   "source": [
    "# National had lower probability of delay (lower shap values)\n",
    "shap.dependence_plot(\"type_of_flight_N\", shap_values[1], X_test_encoded_scenario_2)"
   ]
  },
  {
   "cell_type": "code",
   "execution_count": 0,
   "metadata": {
    "application/vnd.databricks.v1+cell": {
     "cellMetadata": {
      "byteLimit": 2048000,
      "rowLimit": 10000
     },
     "inputWidgets": {},
     "nuid": "8d532b66-98fd-4c8a-89b8-9c921f35ac69",
     "showTitle": false,
     "title": ""
    }
   },
   "outputs": [],
   "source": [
    "# high_season had higher probability of delay (higher shap values)\n",
    "shap.dependence_plot(\"high_season\", shap_values[1], X_test_encoded_scenario_2)"
   ]
  },
  {
   "cell_type": "code",
   "execution_count": 0,
   "metadata": {
    "application/vnd.databricks.v1+cell": {
     "cellMetadata": {
      "byteLimit": 2048000,
      "rowLimit": 10000
     },
     "inputWidgets": {},
     "nuid": "bf0e76af-e3d0-4bd2-a15b-4d3694425b2a",
     "showTitle": false,
     "title": ""
    }
   },
   "outputs": [],
   "source": [
    "shap.dependence_plot(\"day_operation\", shap_values[1], X_test_encoded_scenario_2)"
   ]
  },
  {
   "cell_type": "code",
   "execution_count": 0,
   "metadata": {
    "application/vnd.databricks.v1+cell": {
     "cellMetadata": {
      "byteLimit": 2048000,
      "rowLimit": 10000
     },
     "inputWidgets": {},
     "nuid": "b7923065-4b19-44df-9efe-41aea8c58f2c",
     "showTitle": false,
     "title": ""
    }
   },
   "outputs": [],
   "source": []
  }
 ],
 "metadata": {
  "application/vnd.databricks.v1+notebook": {
   "dashboards": [],
   "language": "python",
   "notebookMetadata": {
    "pythonIndentUnit": 4
   },
   "notebookName": "solution",
   "notebookOrigID": 4404862964862572,
   "widgets": {}
  }
 },
 "nbformat": 4,
 "nbformat_minor": 0
}
