{
 "cells": [
  {
   "cell_type": "markdown",
   "metadata": {
    "application/vnd.databricks.v1+cell": {
     "cellMetadata": {
      "byteLimit": 2048000,
      "rowLimit": 10000
     },
     "inputWidgets": {},
     "nuid": "83577e73-a2f7-424b-9b79-139d0fa4da9f",
     "showTitle": false,
     "title": ""
    }
   },
   "source": [
    "# Import libs"
   ]
  },
  {
   "cell_type": "code",
   "execution_count": 0,
   "metadata": {
    "application/vnd.databricks.v1+cell": {
     "cellMetadata": {
      "byteLimit": 2048000,
      "rowLimit": 10000
     },
     "inputWidgets": {},
     "nuid": "14fcad28-faad-43c3-92ad-3ef04784a3f9",
     "showTitle": false,
     "title": ""
    }
   },
   "outputs": [],
   "source": [
    "!pip install association_metrics\n",
    "!pip install pingouin\n",
    "!pip install category_encoders"
   ]
  },
  {
   "cell_type": "code",
   "execution_count": 0,
   "metadata": {
    "application/vnd.databricks.v1+cell": {
     "cellMetadata": {
      "byteLimit": 2048000,
      "rowLimit": 10000
     },
     "inputWidgets": {},
     "nuid": "8c5804c2-f5c2-432c-8eee-7c74b596968f",
     "showTitle": false,
     "title": ""
    }
   },
   "outputs": [],
   "source": [
    "import sys\n",
    "import warnings\n",
    "import pandas as pd\n",
    "import numpy as np\n",
    "\n",
    "import plotly.graph_objects as go\n",
    "import matplotlib.pyplot as plt\n",
    "from matplotlib.ticker import PercentFormatter\n",
    "import seaborn as sns\n",
    "%matplotlib inline\n",
    "\n",
    "import association_metrics as am\n",
    "import pingouin as pg\n",
    "\n",
    "from scipy import stats\n",
    "import datetime\n",
    "\n",
    "from sklearn.model_selection import train_test_split\n",
    "from sklearn.metrics import mean_absolute_error, precision_score, recall_score, classification_report\n",
    "import lightgbm as lgbm\n",
    "from sklearn.preprocessing import OneHotEncoder\n",
    "import category_encoders as ce"
   ]
  },
  {
   "cell_type": "code",
   "execution_count": 0,
   "metadata": {
    "application/vnd.databricks.v1+cell": {
     "cellMetadata": {
      "byteLimit": 2048000,
      "rowLimit": 10000
     },
     "inputWidgets": {},
     "nuid": "47c82f37-224f-43ef-a64b-8574da6189dd",
     "showTitle": false,
     "title": ""
    }
   },
   "outputs": [],
   "source": [
    "# warnings.filterwarnings(\"ignore\")"
   ]
  },
  {
   "cell_type": "code",
   "execution_count": 0,
   "metadata": {
    "application/vnd.databricks.v1+cell": {
     "cellMetadata": {
      "byteLimit": 2048000,
      "rowLimit": 10000
     },
     "inputWidgets": {},
     "nuid": "b8a573bd-00a7-4631-8f88-b6c044788b18",
     "showTitle": false,
     "title": ""
    }
   },
   "outputs": [],
   "source": [
    "path = \"data/dataset_SCL.csv\""
   ]
  },
  {
   "cell_type": "markdown",
   "metadata": {
    "application/vnd.databricks.v1+cell": {
     "cellMetadata": {
      "byteLimit": 2048000,
      "rowLimit": 10000
     },
     "inputWidgets": {},
     "nuid": "2092a332-945e-48f8-9a75-d7c0afc34ecd",
     "showTitle": false,
     "title": ""
    }
   },
   "source": [
    "# Challenges\n",
    "\n",
    "- Below you will find the analyzes and answers to questions one to five"
   ]
  },
  {
   "cell_type": "markdown",
   "metadata": {
    "application/vnd.databricks.v1+cell": {
     "cellMetadata": {
      "byteLimit": 2048000,
      "rowLimit": 10000
     },
     "inputWidgets": {},
     "nuid": "738d97f8-35eb-4963-aad0-75b4b608e341",
     "showTitle": false,
     "title": ""
    }
   },
   "source": [
    "## 1 and 2"
   ]
  },
  {
   "cell_type": "code",
   "execution_count": 0,
   "metadata": {
    "application/vnd.databricks.v1+cell": {
     "cellMetadata": {
      "byteLimit": 2048000,
      "rowLimit": 10000
     },
     "inputWidgets": {},
     "nuid": "1e543645-18a1-43e7-b94b-422a4e12a419",
     "showTitle": false,
     "title": ""
    }
   },
   "outputs": [],
   "source": [
    "df = pd.read_csv(path)"
   ]
  },
  {
   "cell_type": "code",
   "execution_count": 0,
   "metadata": {
    "application/vnd.databricks.v1+cell": {
     "cellMetadata": {
      "byteLimit": 2048000,
      "rowLimit": 10000
     },
     "inputWidgets": {},
     "nuid": "db95af3d-da18-4183-bed3-7c3a96ff5a1c",
     "showTitle": false,
     "title": ""
    }
   },
   "outputs": [],
   "source": [
    "dict_columns = {\n",
    "    \"Fecha-I\": \"scheduled_date_and_time\",\n",
    "    \"Vlo-I\": \"scheduled_flight_number\",\n",
    "    \"Ori-I\": \"scheduled_origin_city_code\",\n",
    "    \"Des-I\": \"scheduled_destination_city_code\",\n",
    "    \"Emp-I\": \"scheduled_airline_code\",\n",
    "    \"Fecha-O\": \"operation_date_and_time\",\n",
    "    \"Vlo-O\": \"operation_number\",\n",
    "    \"Ori-O\": \"operation_origin_city_code\",\n",
    "    \"Des-O\": \"operation_destination_city_code\",\n",
    "    \"Emp-O\": \"operated_airline_code\",\n",
    "    \"DIA\": \"day_operation\",\n",
    "    \"MES\": \"month_operation\",\n",
    "    \"AÑO\": \"year_operation\",\n",
    "    \"DIANOM\": \"day_of_the_week_operation\",\n",
    "    \"TIPOVUELO\": \"type_of_flight\",\n",
    "    \"OPERA\": \"airline_that_operates\",\n",
    "    \"SIGLAORI\": \"origin_city_name\",\n",
    "    \"SIGLADES\": \"destination_city_name\",\n",
    "}"
   ]
  },
  {
   "cell_type": "code",
   "execution_count": 0,
   "metadata": {
    "application/vnd.databricks.v1+cell": {
     "cellMetadata": {
      "byteLimit": 2048000,
      "rowLimit": 10000
     },
     "inputWidgets": {},
     "nuid": "f3fdfe70-7602-4b2a-9559-4d3f711a495d",
     "showTitle": false,
     "title": ""
    }
   },
   "outputs": [],
   "source": [
    "df = df.rename(columns=dict_columns).reset_index(drop=True)"
   ]
  },
  {
   "cell_type": "code",
   "execution_count": 0,
   "metadata": {
    "application/vnd.databricks.v1+cell": {
     "cellMetadata": {
      "byteLimit": 2048000,
      "rowLimit": 10000
     },
     "inputWidgets": {},
     "nuid": "98947eb7-0d25-4a0f-a030-b3f74109410b",
     "showTitle": false,
     "title": ""
    }
   },
   "outputs": [],
   "source": [
    "df.head()"
   ]
  },
  {
   "cell_type": "code",
   "execution_count": 0,
   "metadata": {
    "application/vnd.databricks.v1+cell": {
     "cellMetadata": {
      "byteLimit": 2048000,
      "rowLimit": 10000
     },
     "inputWidgets": {},
     "nuid": "72aeb0fd-9784-4748-ab91-8768ac77f96e",
     "showTitle": false,
     "title": ""
    }
   },
   "outputs": [],
   "source": [
    "for column in df.columns:\n",
    "    print(f\"Column {column} has {df[column].nunique()} unique values.\")"
   ]
  },
  {
   "cell_type": "markdown",
   "metadata": {
    "application/vnd.databricks.v1+cell": {
     "cellMetadata": {
      "byteLimit": 2048000,
      "rowLimit": 10000
     },
     "inputWidgets": {},
     "nuid": "0a690310-542f-4dbe-b496-5431a8266992",
     "showTitle": false,
     "title": ""
    }
   },
   "source": [
    "### Null data"
   ]
  },
  {
   "cell_type": "code",
   "execution_count": 0,
   "metadata": {
    "application/vnd.databricks.v1+cell": {
     "cellMetadata": {
      "byteLimit": 2048000,
      "rowLimit": 10000
     },
     "inputWidgets": {},
     "nuid": "b0774c01-a189-4e5d-bf17-a6f1d3329ecb",
     "showTitle": false,
     "title": ""
    }
   },
   "outputs": [],
   "source": [
    "# Just one value missing\n",
    "df.info()"
   ]
  },
  {
   "cell_type": "code",
   "execution_count": 0,
   "metadata": {
    "application/vnd.databricks.v1+cell": {
     "cellMetadata": {
      "byteLimit": 2048000,
      "rowLimit": 10000
     },
     "inputWidgets": {},
     "nuid": "b052a38a-3f5c-466c-8585-df825281244e",
     "showTitle": false,
     "title": ""
    }
   },
   "outputs": [],
   "source": [
    "df.query(\"operation_number.isna()\", engine=\"python\")"
   ]
  },
  {
   "cell_type": "markdown",
   "metadata": {
    "application/vnd.databricks.v1+cell": {
     "cellMetadata": {
      "byteLimit": 2048000,
      "rowLimit": 10000
     },
     "inputWidgets": {},
     "nuid": "70cdd855-95e2-495a-bff5-478792c2a637",
     "showTitle": false,
     "title": ""
    }
   },
   "source": [
    "#### Understanding correlation between flight operation data for filling null data in operation_number\n",
    "\n",
    "-Note: It is important to review and validate these methods for filling in the missing values with experts from the business community."
   ]
  },
  {
   "cell_type": "code",
   "execution_count": 0,
   "metadata": {
    "application/vnd.databricks.v1+cell": {
     "cellMetadata": {
      "byteLimit": 2048000,
      "rowLimit": 10000
     },
     "inputWidgets": {},
     "nuid": "8fa1408b-7661-4b0c-8d94-5e9f1c1706ea",
     "showTitle": false,
     "title": ""
    }
   },
   "outputs": [],
   "source": [
    "operational_columns = [\n",
    "    \"operation_number\",\n",
    "    \"operation_destination_city_code\",\n",
    "    \"operated_airline_code\",\n",
    "    \"month_operation\",\n",
    "    \"day_operation\",\n",
    "    \"day_of_the_week_operation\",\n",
    "    \"destination_city_name\",\n",
    "    \"airline_that_operates\",\n",
    "]"
   ]
  },
  {
   "cell_type": "code",
   "execution_count": 0,
   "metadata": {
    "application/vnd.databricks.v1+cell": {
     "cellMetadata": {
      "byteLimit": 2048000,
      "rowLimit": 10000
     },
     "inputWidgets": {},
     "nuid": "94e60fa1-daba-4203-9bd4-fb241e4a3314",
     "showTitle": false,
     "title": ""
    }
   },
   "outputs": [],
   "source": [
    "df_aux = df[operational_columns].dropna()"
   ]
  },
  {
   "cell_type": "code",
   "execution_count": 0,
   "metadata": {
    "application/vnd.databricks.v1+cell": {
     "cellMetadata": {
      "byteLimit": 2048000,
      "rowLimit": 10000
     },
     "inputWidgets": {},
     "nuid": "05953c61-b81c-49ce-bcca-6f7b8150266f",
     "showTitle": false,
     "title": ""
    }
   },
   "outputs": [],
   "source": [
    "# Initialize a CramersV object: understanding categorical x categorial corr (nominal)\n",
    "df_aux = df_aux.apply(lambda x: x.astype(\"category\") if x.dtype == \"O\" else x)\n",
    "\n",
    "cramers_v = am.CramersV(df_aux)\n",
    "cfit = cramers_v.fit().round(2)"
   ]
  },
  {
   "cell_type": "code",
   "execution_count": 0,
   "metadata": {
    "application/vnd.databricks.v1+cell": {
     "cellMetadata": {
      "byteLimit": 2048000,
      "rowLimit": 10000
     },
     "inputWidgets": {},
     "nuid": "819c91bd-8680-407b-b973-74b18dafcf80",
     "showTitle": false,
     "title": ""
    }
   },
   "outputs": [],
   "source": [
    "# Plotting heatmap results\n",
    "fig, ax = plt.subplots(figsize=(10, 6))\n",
    "cax = ax.imshow(cfit.values, interpolation=\"nearest\", cmap=\"Blues\", vmin=0, vmax=1)\n",
    "ax.set_xticks(ticks=range(len(cfit.columns)))\n",
    "ax.set_xticklabels(labels=cfit.columns)\n",
    "ax.set_label(cfit.columns)\n",
    "ax.set_yticks(ticks=range(len(cfit.columns)))\n",
    "ax.set_yticklabels(cfit.columns)\n",
    "ax.tick_params(axis=\"x\", labelsize=10, labelrotation=90)\n",
    "ax.tick_params(axis=\"y\", labelsize=12, labelrotation=0)\n",
    "fig.colorbar(cax).ax.tick_params(labelsize=12)\n",
    "for (x, y), t in np.ndenumerate(cfit):\n",
    "    ax.annotate(\"{:.2f}\".format(t), xy=(x, y), va=\"center\", ha=\"center\").set(\n",
    "        color=\"black\", size=12\n",
    "    )"
   ]
  },
  {
   "cell_type": "markdown",
   "metadata": {
    "application/vnd.databricks.v1+cell": {
     "cellMetadata": {
      "byteLimit": 2048000,
      "rowLimit": 10000
     },
     "inputWidgets": {},
     "nuid": "8e49b624-43ca-4e2a-86a5-1b43fa311b49",
     "showTitle": false,
     "title": ""
    }
   },
   "source": [
    "* destination_city_name represents the same information as operation_destination_city_code"
   ]
  },
  {
   "cell_type": "code",
   "execution_count": 0,
   "metadata": {
    "application/vnd.databricks.v1+cell": {
     "cellMetadata": {
      "byteLimit": 2048000,
      "rowLimit": 10000
     },
     "inputWidgets": {},
     "nuid": "e4f58a4d-0007-4663-aaa9-c876e9e9d0bb",
     "showTitle": false,
     "title": ""
    }
   },
   "outputs": [],
   "source": [
    "compare_values = np.all(\n",
    "    pd.factorize(df[\"destination_city_name\"])[0]\n",
    "    == pd.factorize(df[\"operation_destination_city_code\"])[0]\n",
    ")\n",
    "compare_values"
   ]
  },
  {
   "cell_type": "code",
   "execution_count": 0,
   "metadata": {
    "application/vnd.databricks.v1+cell": {
     "cellMetadata": {
      "byteLimit": 2048000,
      "rowLimit": 10000
     },
     "inputWidgets": {},
     "nuid": "44c42a86-9353-4f13-8b0a-36858cbc9391",
     "showTitle": false,
     "title": ""
    }
   },
   "outputs": [],
   "source": [
    "df = df.drop(\"destination_city_name\", axis=1)"
   ]
  },
  {
   "cell_type": "code",
   "execution_count": 0,
   "metadata": {
    "application/vnd.databricks.v1+cell": {
     "cellMetadata": {
      "byteLimit": 2048000,
      "rowLimit": 10000
     },
     "inputWidgets": {},
     "nuid": "e7716074-6615-465c-a289-b23d12d627c2",
     "showTitle": false,
     "title": ""
    }
   },
   "outputs": [],
   "source": [
    "f = lambda x: x.median() if np.issubdtype(x.dtype, np.number) else x.mode().iloc[0]"
   ]
  },
  {
   "cell_type": "code",
   "execution_count": 0,
   "metadata": {
    "application/vnd.databricks.v1+cell": {
     "cellMetadata": {
      "byteLimit": 2048000,
      "rowLimit": 10000
     },
     "inputWidgets": {},
     "nuid": "29753e78-c72d-479f-9e98-1ac2eb486a1d",
     "showTitle": false,
     "title": ""
    }
   },
   "outputs": [],
   "source": [
    "# Filling in only the nulls from the above data by grouping the columns correlated with operation_number.\n",
    "df = df.fillna(\n",
    "    df.groupby(\n",
    "        [\n",
    "            \"operation_destination_city_code\",\n",
    "            \"airline_that_operates\",\n",
    "            \"operated_airline_code\",\n",
    "        ]\n",
    "    ).transform(f)\n",
    ")"
   ]
  },
  {
   "cell_type": "code",
   "execution_count": 0,
   "metadata": {
    "application/vnd.databricks.v1+cell": {
     "cellMetadata": {
      "byteLimit": 2048000,
      "rowLimit": 10000
     },
     "inputWidgets": {},
     "nuid": "5ad20ddc-9289-43d7-b2de-b952b4b07e35",
     "showTitle": false,
     "title": ""
    }
   },
   "outputs": [],
   "source": [
    "df.iloc[6068]"
   ]
  },
  {
   "cell_type": "markdown",
   "metadata": {
    "application/vnd.databricks.v1+cell": {
     "cellMetadata": {
      "byteLimit": 2048000,
      "rowLimit": 10000
     },
     "inputWidgets": {},
     "nuid": "54198a08-7b50-42ed-8393-d92a50bc6dd8",
     "showTitle": false,
     "title": ""
    }
   },
   "source": [
    "### Data Visualization and Outliers Understanding"
   ]
  },
  {
   "cell_type": "markdown",
   "metadata": {
    "application/vnd.databricks.v1+cell": {
     "cellMetadata": {
      "byteLimit": 2048000,
      "rowLimit": 10000
     },
     "inputWidgets": {},
     "nuid": "87c9cdcd-1d1c-4722-823d-c64cae05e4f3",
     "showTitle": false,
     "title": ""
    }
   },
   "source": [
    "#### Understanding the months and days of the week when the scheduled target city was reached"
   ]
  },
  {
   "cell_type": "code",
   "execution_count": 0,
   "metadata": {
    "application/vnd.databricks.v1+cell": {
     "cellMetadata": {
      "byteLimit": 2048000,
      "rowLimit": 10000
     },
     "inputWidgets": {},
     "nuid": "9124aae2-0449-4952-bd14-93ebf3f7b5cb",
     "showTitle": false,
     "title": ""
    }
   },
   "outputs": [],
   "source": [
    "df.query(\"scheduled_destination_city_code == operation_destination_city_code\").shape[\n",
    "    0\n",
    "] / df.shape[0]"
   ]
  },
  {
   "cell_type": "code",
   "execution_count": 0,
   "metadata": {
    "application/vnd.databricks.v1+cell": {
     "cellMetadata": {
      "byteLimit": 2048000,
      "rowLimit": 10000
     },
     "inputWidgets": {},
     "nuid": "8edc8196-66d8-496e-9bdb-7148e9f0715f",
     "showTitle": false,
     "title": ""
    }
   },
   "outputs": [],
   "source": [
    "# Closes to uniform data\n",
    "sns.catplot(\n",
    "    y=\"month_operation\",\n",
    "    x=\"scheduled_destination_city_code\",\n",
    "    data=df.query(\"scheduled_destination_city_code == operation_destination_city_code\"),\n",
    "    order=df.query(\n",
    "        \"scheduled_destination_city_code == operation_destination_city_code\"\n",
    "    )[\"scheduled_destination_city_code\"]\n",
    "    .value_counts()\n",
    "    .iloc[:5]\n",
    "    .index,\n",
    "    height=5,\n",
    "    aspect=3,\n",
    "    legend=True,\n",
    "    jitter=\"0.25\",\n",
    "    hue=\"type_of_flight\",\n",
    "    kind=\"violin\"\n",
    ")"
   ]
  },
  {
   "cell_type": "code",
   "execution_count": 0,
   "metadata": {
    "application/vnd.databricks.v1+cell": {
     "cellMetadata": {
      "byteLimit": 2048000,
      "rowLimit": 10000
     },
     "inputWidgets": {},
     "nuid": "d2a45683-71b7-4459-ab61-f298d8848e10",
     "showTitle": false,
     "title": ""
    }
   },
   "outputs": [],
   "source": [
    "# Closes to uniform data\n",
    "sns.catplot(\n",
    "    y=\"day_operation\",\n",
    "    x=\"scheduled_destination_city_code\",\n",
    "    data=df.query(\"scheduled_destination_city_code == operation_destination_city_code\"),\n",
    "    order=df.query(\"scheduled_destination_city_code == operation_destination_city_code\")[\"scheduled_destination_city_code\"].value_counts().iloc[:5].index,\n",
    "    height=5,\n",
    "    aspect=3,\n",
    "    legend=True,\n",
    "    jitter = '0.25',\n",
    "    hue=\"type_of_flight\",\n",
    "    kind=\"violin\"\n",
    ")\n"
   ]
  },
  {
   "cell_type": "markdown",
   "metadata": {
    "application/vnd.databricks.v1+cell": {
     "cellMetadata": {
      "byteLimit": 2048000,
      "rowLimit": 10000
     },
     "inputWidgets": {},
     "nuid": "1e514435-a07f-4bb4-8566-5027f8ceb717",
     "showTitle": false,
     "title": ""
    }
   },
   "source": [
    "#### Distribution: most frequent destinations\n",
    "\n",
    "- It seems that it follows a bimodal distribution (for the most operated destinations) and the operation actually went to the programmed destination\n",
    "\n",
    "- Peaks in January and December"
   ]
  },
  {
   "cell_type": "code",
   "execution_count": 0,
   "metadata": {
    "application/vnd.databricks.v1+cell": {
     "cellMetadata": {
      "byteLimit": 2048000,
      "rowLimit": 10000
     },
     "inputWidgets": {},
     "nuid": "bd166a2e-ae57-4a92-90f6-d9840817ff87",
     "showTitle": false,
     "title": ""
    }
   },
   "outputs": [],
   "source": [
    "x = df.query(\n",
    "    \"scheduled_destination_city_code == operation_destination_city_code and scheduled_destination_city_code=='SPJC'\"\n",
    ")[\"month_operation\"]\n",
    "y = df.query(\n",
    "    \"scheduled_destination_city_code == operation_destination_city_code and scheduled_destination_city_code=='SCFA'\"\n",
    ")[\"month_operation\"]\n",
    "z = df.query(\n",
    "    \"scheduled_destination_city_code == operation_destination_city_code and scheduled_destination_city_code=='SCTE'\"\n",
    ")[\"month_operation\"]\n",
    "w = df.query(\n",
    "    \"scheduled_destination_city_code == operation_destination_city_code and scheduled_destination_city_code=='SCIE'\"\n",
    ")[\"month_operation\"]"
   ]
  },
  {
   "cell_type": "code",
   "execution_count": 0,
   "metadata": {
    "application/vnd.databricks.v1+cell": {
     "cellMetadata": {
      "byteLimit": 2048000,
      "rowLimit": 10000
     },
     "inputWidgets": {},
     "nuid": "298b07d8-9c62-4cb5-850b-4fc919098e79",
     "showTitle": false,
     "title": ""
    }
   },
   "outputs": [],
   "source": [
    "plt.hist(x, alpha=0.5, label=\"SPJC\")\n",
    "plt.hist(y, alpha=0.5, label=\"SCFA\")\n",
    "plt.hist(z, alpha=0.5, label=\"SCTE\")\n",
    "plt.hist(w, alpha=0.5, label=\"SCIE\")\n",
    "plt.legend(loc=\"upper right\")\n",
    "plt.show()"
   ]
  },
  {
   "cell_type": "markdown",
   "metadata": {
    "application/vnd.databricks.v1+cell": {
     "cellMetadata": {
      "byteLimit": 2048000,
      "rowLimit": 10000
     },
     "inputWidgets": {},
     "nuid": "ab93f7dc-af35-4ca6-8b34-eb8da835d36e",
     "showTitle": false,
     "title": ""
    }
   },
   "source": [
    "#### Pareto: most operated days of the week"
   ]
  },
  {
   "cell_type": "code",
   "execution_count": 0,
   "metadata": {
    "application/vnd.databricks.v1+cell": {
     "cellMetadata": {
      "byteLimit": 2048000,
      "rowLimit": 10000
     },
     "inputWidgets": {},
     "nuid": "3cda5c8f-bdfc-4bc3-a423-09f767200fed",
     "showTitle": false,
     "title": ""
    }
   },
   "outputs": [],
   "source": [
    "pareto_df = pd.DataFrame(\n",
    "    df[\"day_of_the_week_operation\"].value_counts().sort_values(ascending=False)\n",
    ")\n",
    "\n",
    "pareto_df[\"cum_perc\"] = (\n",
    "    pareto_df[\"day_of_the_week_operation\"].cumsum()\n",
    "    / pareto_df[\"day_of_the_week_operation\"].sum()\n",
    "    * 100\n",
    ")"
   ]
  },
  {
   "cell_type": "code",
   "execution_count": 0,
   "metadata": {
    "application/vnd.databricks.v1+cell": {
     "cellMetadata": {
      "byteLimit": 2048000,
      "rowLimit": 10000
     },
     "inputWidgets": {},
     "nuid": "6fc0ed75-00bd-425d-baff-9adf634971f3",
     "showTitle": false,
     "title": ""
    }
   },
   "outputs": [],
   "source": [
    "fig, ax = plt.subplots()\n",
    "ax.bar(pareto_df.index, pareto_df[\"day_of_the_week_operation\"], color=\"pink\")\n",
    "\n",
    "ax2 = ax.twinx()\n",
    "ax2.plot(pareto_df.index, pareto_df[\"cum_perc\"], color=\"purple\", marker=\"D\", ms=4)\n",
    "ax2.yaxis.set_major_formatter(PercentFormatter())\n",
    "\n",
    "ax.tick_params(axis=\"y\", colors=\"purple\")\n",
    "ax.tick_params(axis=\"x\", colors=\"purple\", rotation=45)\n",
    "ax2.tick_params(axis=\"y\", colors=\"purple\")\n",
    "plt.show()"
   ]
  },
  {
   "cell_type": "markdown",
   "metadata": {
    "application/vnd.databricks.v1+cell": {
     "cellMetadata": {
      "byteLimit": 2048000,
      "rowLimit": 10000
     },
     "inputWidgets": {},
     "nuid": "0852b92b-fa9d-49bd-a1ea-6bfd3e27e7d4",
     "showTitle": false,
     "title": ""
    }
   },
   "source": [
    "#### Understanding the months of operation when the scheduled destination city was not reached\n",
    "\n",
    "Operation different from scheduled city"
   ]
  },
  {
   "cell_type": "code",
   "execution_count": 0,
   "metadata": {
    "application/vnd.databricks.v1+cell": {
     "cellMetadata": {
      "byteLimit": 2048000,
      "rowLimit": 10000
     },
     "inputWidgets": {},
     "nuid": "a3ca0a16-3c61-44fd-9585-f323adf095b3",
     "showTitle": false,
     "title": ""
    }
   },
   "outputs": [],
   "source": [
    "df.query(\"scheduled_destination_city_code != operation_destination_city_code\").shape[\n",
    "    0\n",
    "] / df.shape[0]"
   ]
  },
  {
   "cell_type": "code",
   "execution_count": 0,
   "metadata": {
    "application/vnd.databricks.v1+cell": {
     "cellMetadata": {
      "byteLimit": 2048000,
      "rowLimit": 10000
     },
     "inputWidgets": {},
     "nuid": "bbb68018-dc40-4bb7-9d06-6f30cf13a6ad",
     "showTitle": false,
     "title": ""
    }
   },
   "outputs": [],
   "source": [
    "# SCIE close to normal\n",
    "# More problems with international flights\n",
    "sns.catplot(\n",
    "    y=\"month_operation\",\n",
    "    x=\"scheduled_destination_city_code\",\n",
    "    data=df.query(\"scheduled_destination_city_code != operation_destination_city_code\"),\n",
    "    order=df.query(\n",
    "        \"scheduled_destination_city_code != operation_destination_city_code\"\n",
    "    )[\"scheduled_destination_city_code\"]\n",
    "    .value_counts()\n",
    "    .iloc[:5]\n",
    "    .index,\n",
    "    height=5,\n",
    "    aspect=3,\n",
    "    legend=True,\n",
    "    jitter=\"0.25\",\n",
    "    hue=\"type_of_flight\",\n",
    "    kind=\"violin\",\n",
    ").ax.set_ylim(0, 13)"
   ]
  },
  {
   "cell_type": "markdown",
   "metadata": {
    "application/vnd.databricks.v1+cell": {
     "cellMetadata": {
      "byteLimit": 2048000,
      "rowLimit": 10000
     },
     "inputWidgets": {},
     "nuid": "bfb74a20-c585-4a3f-b05e-f72b9ab97be4",
     "showTitle": false,
     "title": ""
    }
   },
   "source": [
    "#### Pareto: days of the week that occur most change of destination"
   ]
  },
  {
   "cell_type": "code",
   "execution_count": 0,
   "metadata": {
    "application/vnd.databricks.v1+cell": {
     "cellMetadata": {
      "byteLimit": 2048000,
      "rowLimit": 10000
     },
     "inputWidgets": {},
     "nuid": "a4475dff-6145-4e3f-b9c0-cea9ce5d4f03",
     "showTitle": false,
     "title": ""
    }
   },
   "outputs": [],
   "source": [
    "pareto_df = pd.DataFrame(\n",
    "    df.query(\"scheduled_destination_city_code != operation_destination_city_code\")[\n",
    "        \"day_of_the_week_operation\"\n",
    "    ]\n",
    "    .value_counts()\n",
    "    .sort_values(ascending=False)\n",
    ")\n",
    "\n",
    "pareto_df[\"cum_perc\"] = (\n",
    "    pareto_df[\"day_of_the_week_operation\"].cumsum()\n",
    "    / pareto_df[\"day_of_the_week_operation\"].sum()\n",
    "    * 100\n",
    ")"
   ]
  },
  {
   "cell_type": "code",
   "execution_count": 0,
   "metadata": {
    "application/vnd.databricks.v1+cell": {
     "cellMetadata": {
      "byteLimit": 2048000,
      "rowLimit": 10000
     },
     "inputWidgets": {},
     "nuid": "59270b74-6d07-486a-8a21-49f22b88971a",
     "showTitle": false,
     "title": ""
    }
   },
   "outputs": [],
   "source": [
    "# display Pareto chart\n",
    "fig, ax = plt.subplots()\n",
    "ax.bar(pareto_df.index, pareto_df[\"day_of_the_week_operation\"], color=\"pink\")\n",
    "\n",
    "ax2 = ax.twinx()\n",
    "ax2.plot(pareto_df.index, pareto_df[\"cum_perc\"], color=\"purple\", marker=\"D\", ms=4)\n",
    "ax2.yaxis.set_major_formatter(PercentFormatter())\n",
    "\n",
    "ax.tick_params(axis=\"y\", colors=\"pink\")\n",
    "ax2.tick_params(axis=\"y\", colors=\"purple\")\n",
    "plt.show()"
   ]
  },
  {
   "cell_type": "markdown",
   "metadata": {
    "application/vnd.databricks.v1+cell": {
     "cellMetadata": {
      "byteLimit": 2048000,
      "rowLimit": 10000
     },
     "inputWidgets": {},
     "nuid": "0bb950ce-5622-4c89-9e7e-ce5cffc094d6",
     "showTitle": false,
     "title": ""
    }
   },
   "source": [
    "#### Pareto: months that occur most change of destination\n",
    "\n",
    "- Not all destination changes occur in months with more flights (see distribution: most frequent destinations). For example, there are few such events in January\n",
    "- It seems that it is concentrated in the months of high season (Dec, Jul and March)"
   ]
  },
  {
   "cell_type": "code",
   "execution_count": 0,
   "metadata": {
    "application/vnd.databricks.v1+cell": {
     "cellMetadata": {
      "byteLimit": 2048000,
      "rowLimit": 10000
     },
     "inputWidgets": {},
     "nuid": "3885ea69-a6cd-4fb3-9eff-9aefd39dc3bd",
     "showTitle": false,
     "title": ""
    }
   },
   "outputs": [],
   "source": [
    "pareto_df = pd.DataFrame(\n",
    "    df.query(\"scheduled_destination_city_code != operation_destination_city_code\")[\n",
    "        \"month_operation\"\n",
    "    ]\n",
    "    .map(\n",
    "        {\n",
    "            1: \"Jan\",\n",
    "            2: \"Fev\",\n",
    "            3: \"Mar\",\n",
    "            4: \"Abr\",\n",
    "            5: \"Mai\",\n",
    "            6: \"Jun\",\n",
    "            7: \"Jul\",\n",
    "            8: \"Ago\",\n",
    "            9: \"Set\",\n",
    "            10: \"Out\",\n",
    "            11: \"Nov\",\n",
    "            12: \"Dez\",\n",
    "        }\n",
    "    )\n",
    "    .value_counts()\n",
    "    .sort_values(ascending=False)\n",
    ")\n",
    "\n",
    "pareto_df[\"cum_perc\"] = (\n",
    "    pareto_df[\"month_operation\"].cumsum() / pareto_df[\"month_operation\"].sum() * 100\n",
    ")"
   ]
  },
  {
   "cell_type": "code",
   "execution_count": 0,
   "metadata": {
    "application/vnd.databricks.v1+cell": {
     "cellMetadata": {
      "byteLimit": 2048000,
      "rowLimit": 10000
     },
     "inputWidgets": {},
     "nuid": "5de71468-c5aa-4e4f-ad90-605dc1b0429c",
     "showTitle": false,
     "title": ""
    }
   },
   "outputs": [],
   "source": [
    "# display Pareto chart\n",
    "fig, ax = plt.subplots()\n",
    "ax.bar(pareto_df.index, pareto_df[\"month_operation\"], color=\"pink\")\n",
    "\n",
    "ax2 = ax.twinx()\n",
    "ax2.plot(pareto_df.index, pareto_df[\"cum_perc\"], color=\"purple\", marker=\"D\", ms=4)\n",
    "ax2.yaxis.set_major_formatter(PercentFormatter())\n",
    "\n",
    "ax.tick_params(axis=\"y\", colors=\"pink\")\n",
    "ax2.tick_params(axis=\"y\", colors=\"purple\")\n",
    "plt.show()"
   ]
  },
  {
   "cell_type": "markdown",
   "metadata": {
    "application/vnd.databricks.v1+cell": {
     "cellMetadata": {
      "byteLimit": 2048000,
      "rowLimit": 10000
     },
     "inputWidgets": {},
     "nuid": "c1189ff8-8531-4e72-8b2e-9eb720c61656",
     "showTitle": false,
     "title": ""
    }
   },
   "source": [
    "#### Understanding days of the week when the scheduled airline company was and was not reached"
   ]
  },
  {
   "cell_type": "code",
   "execution_count": 0,
   "metadata": {
    "application/vnd.databricks.v1+cell": {
     "cellMetadata": {
      "byteLimit": 2048000,
      "rowLimit": 10000
     },
     "inputWidgets": {},
     "nuid": "995cad71-8df1-4920-b487-92617a1a5697",
     "showTitle": false,
     "title": ""
    }
   },
   "outputs": [],
   "source": [
    "df.query(\"scheduled_airline_code != operated_airline_code\").shape[\n",
    "    0\n",
    "] / df.shape[0]"
   ]
  },
  {
   "cell_type": "code",
   "execution_count": 0,
   "metadata": {
    "application/vnd.databricks.v1+cell": {
     "cellMetadata": {
      "byteLimit": 2048000,
      "rowLimit": 10000
     },
     "inputWidgets": {},
     "nuid": "656823fe-ac27-42f7-a421-3694251f80a1",
     "showTitle": false,
     "title": ""
    }
   },
   "outputs": [],
   "source": [
    "sns.catplot(\n",
    "    y=\"day_operation\",\n",
    "    x=\"scheduled_airline_code\",\n",
    "    data=df.query(\"scheduled_airline_code == operated_airline_code\"),\n",
    "    order=df.query(\"scheduled_airline_code == operated_airline_code\")[\n",
    "        \"scheduled_airline_code\"\n",
    "    ]\n",
    "    .value_counts()\n",
    "    .iloc[:5]\n",
    "    .index,\n",
    "    height=5,\n",
    "    aspect=3,\n",
    "    legend=True,\n",
    "    jitter=\"0.25\",\n",
    "    hue=\"type_of_flight\",\n",
    "  kind=\"violin\"\n",
    ")"
   ]
  },
  {
   "cell_type": "code",
   "execution_count": 0,
   "metadata": {
    "application/vnd.databricks.v1+cell": {
     "cellMetadata": {
      "byteLimit": 2048000,
      "rowLimit": 10000
     },
     "inputWidgets": {},
     "nuid": "7f0527c6-1492-4aac-9e44-95c0ca036c5c",
     "showTitle": false,
     "title": ""
    }
   },
   "outputs": [],
   "source": [
    "# Companies that changed programming the most\n",
    "sns.catplot(\n",
    "    y=\"day_operation\",\n",
    "    x=\"scheduled_airline_code\",\n",
    "    data=df.query(\"scheduled_airline_code != operated_airline_code\"),\n",
    "    order=df.query(\"scheduled_airline_code != operated_airline_code\")[\n",
    "        \"scheduled_airline_code\"\n",
    "    ]\n",
    "    .value_counts()\n",
    "    .iloc[:5]\n",
    "    .index,\n",
    "    height=5,\n",
    "    aspect=3,\n",
    "    legend=True,\n",
    "    jitter=\"0.25\",\n",
    "    hue=\"type_of_flight\",\n",
    "  kind=\"violin\"\n",
    ")"
   ]
  },
  {
   "cell_type": "code",
   "execution_count": 0,
   "metadata": {
    "application/vnd.databricks.v1+cell": {
     "cellMetadata": {
      "byteLimit": 2048000,
      "rowLimit": 10000
     },
     "inputWidgets": {},
     "nuid": "4a77e5dc-7ba9-4e87-ad61-87b502366ba8",
     "showTitle": false,
     "title": ""
    }
   },
   "outputs": [],
   "source": [
    "sns.catplot(\n",
    "    y=\"day_operation\",\n",
    "    x=\"operated_airline_code\",\n",
    "    data=df.query(\"scheduled_airline_code != operated_airline_code\"),\n",
    "    order=df.query(\"scheduled_airline_code != operated_airline_code\")[\n",
    "        \"operated_airline_code\"\n",
    "    ]\n",
    "    .value_counts()\n",
    "    .iloc[:5]\n",
    "    .index,\n",
    "    height=5,\n",
    "    aspect=3,\n",
    "    legend=True,\n",
    "    jitter=\"0.25\",\n",
    "    hue=\"type_of_flight\",\n",
    ")"
   ]
  },
  {
   "cell_type": "markdown",
   "metadata": {
    "application/vnd.databricks.v1+cell": {
     "cellMetadata": {
      "byteLimit": 2048000,
      "rowLimit": 10000
     },
     "inputWidgets": {},
     "nuid": "dfd9b823-0f7b-4e93-86a4-2f4fae92642e",
     "showTitle": false,
     "title": ""
    }
   },
   "source": [
    "### Patterns understanding"
   ]
  },
  {
   "cell_type": "code",
   "execution_count": 0,
   "metadata": {
    "application/vnd.databricks.v1+cell": {
     "cellMetadata": {
      "byteLimit": 2048000,
      "rowLimit": 10000
     },
     "inputWidgets": {},
     "nuid": "82974b9a-2ca9-4f9a-ac89-e2a3c5b8af32",
     "showTitle": false,
     "title": ""
    }
   },
   "outputs": [],
   "source": [
    "df[\"operation_date_and_time\"] = pd.to_datetime(df[\"operation_date_and_time\"])\n",
    "df[\"scheduled_date_and_time\"] = pd.to_datetime(df[\"scheduled_date_and_time\"])"
   ]
  },
  {
   "cell_type": "code",
   "execution_count": 0,
   "metadata": {
    "application/vnd.databricks.v1+cell": {
     "cellMetadata": {
      "byteLimit": 2048000,
      "rowLimit": 10000
     },
     "inputWidgets": {},
     "nuid": "ee19a203-5c3e-44a9-a7ed-2ea26b7a91d8",
     "showTitle": false,
     "title": ""
    }
   },
   "outputs": [],
   "source": [
    "# Everything seems right in these date columns\n",
    "sum(df[\"operation_date_and_time\"].dt.day.eq(df[\"day_operation\"])), sum(\n",
    "    df[\"operation_date_and_time\"].dt.month.eq(df[\"month_operation\"])\n",
    "), sum(df[\"operation_date_and_time\"].dt.year.eq(df[\"year_operation\"]))"
   ]
  },
  {
   "cell_type": "code",
   "execution_count": 0,
   "metadata": {
    "application/vnd.databricks.v1+cell": {
     "cellMetadata": {
      "byteLimit": 2048000,
      "rowLimit": 10000
     },
     "inputWidgets": {},
     "nuid": "091f7f7a-f058-4951-91c2-ecf9f2de4d9d",
     "showTitle": false,
     "title": ""
    }
   },
   "outputs": [],
   "source": [
    "compare_values = np.all(\n",
    "    pd.factorize(df[\"scheduled_airline_code\"])[0]\n",
    "    == pd.factorize(df[\"operated_airline_code\"])[0]\n",
    ")\n",
    "compare_values"
   ]
  },
  {
   "cell_type": "code",
   "execution_count": 0,
   "metadata": {
    "application/vnd.databricks.v1+cell": {
     "cellMetadata": {
      "byteLimit": 2048000,
      "rowLimit": 10000
     },
     "inputWidgets": {},
     "nuid": "9d1f895c-f741-4614-b41c-b8448cb26af9",
     "showTitle": false,
     "title": ""
    }
   },
   "outputs": [],
   "source": [
    "compare_values = np.all(\n",
    "    pd.factorize(df[\"scheduled_destination_city_code\"])[0]\n",
    "    == pd.factorize(df[\"operation_destination_city_code\"])[0]\n",
    ")\n",
    "compare_values"
   ]
  },
  {
   "cell_type": "code",
   "execution_count": 0,
   "metadata": {
    "application/vnd.databricks.v1+cell": {
     "cellMetadata": {
      "byteLimit": 2048000,
      "rowLimit": 10000
     },
     "inputWidgets": {},
     "nuid": "7bbd916e-c177-42bd-8879-ac198ccd5531",
     "showTitle": false,
     "title": ""
    }
   },
   "outputs": [],
   "source": [
    "compare_values = np.all(\n",
    "    pd.factorize(df[\"scheduled_flight_number\"])[0]\n",
    "    == pd.factorize(df[\"operation_number\"])[0]\n",
    ")\n",
    "compare_values"
   ]
  },
  {
   "cell_type": "code",
   "execution_count": 0,
   "metadata": {
    "application/vnd.databricks.v1+cell": {
     "cellMetadata": {
      "byteLimit": 2048000,
      "rowLimit": 10000
     },
     "inputWidgets": {},
     "nuid": "9df622ca-2f8d-40bc-9f62-630ce2efdac1",
     "showTitle": false,
     "title": ""
    }
   },
   "outputs": [],
   "source": [
    "df = df.drop(\n",
    "    [\n",
    "        \"scheduled_origin_city_code\",\n",
    "        \"operation_origin_city_code\",\n",
    "        \"origin_city_name\",\n",
    "    ],\n",
    "    axis=1,\n",
    ")"
   ]
  },
  {
   "cell_type": "markdown",
   "metadata": {
    "application/vnd.databricks.v1+cell": {
     "cellMetadata": {
      "byteLimit": 2048000,
      "rowLimit": 10000
     },
     "inputWidgets": {},
     "nuid": "e8eb12e8-c52a-48b6-9d09-b49563d906b1",
     "showTitle": false,
     "title": ""
    }
   },
   "source": [
    "d\n",
    "\n",
    "Comments:\n",
    "\n",
    "- Comparing scheduled x operated\n",
    "\n",
    "- Not all flights planned for a certain city were destined for it.\n",
    "\n",
    "- scheduled_destination_city_code and operation_destination_city_code differents can mean outliers or just routing change \n",
    "\n",
    "- scheduled_origin_city_code, operation_origin_city_code, name_city_of_origin are the same, becauses consists in origin city name: SCL"
   ]
  },
  {
   "cell_type": "markdown",
   "metadata": {
    "application/vnd.databricks.v1+cell": {
     "cellMetadata": {
      "byteLimit": 2048000,
      "rowLimit": 10000
     },
     "inputWidgets": {},
     "nuid": "2200939c-57e2-447d-bf40-b7e3afe04315",
     "showTitle": false,
     "title": ""
    }
   },
   "source": [
    "### Generate the following additional columns\n",
    "\n",
    "- high_season : 1 if Date-I is between Dec-15 and Mar-3, or Jul-15 and Jul-31, or Sep-11 and Sep-30, 0 otherwise.\n",
    "\n",
    "- min_diff : difference in minutes between Date-O and Date-I .\n",
    "\n",
    "- delay_15 : 1 if min_diff > 15, 0 if not.\n",
    "\n",
    "- period_day : morning (between 5:00 and 11:59), afternoon (between 12:00 and 18:59) and night (between 19:00 and 4:59), basedonDate-I ."
   ]
  },
  {
   "cell_type": "markdown",
   "metadata": {
    "application/vnd.databricks.v1+cell": {
     "cellMetadata": {
      "byteLimit": 2048000,
      "rowLimit": 10000
     },
     "inputWidgets": {},
     "nuid": "7d197b19-eecf-4118-bd06-36a2aa74d9f9",
     "showTitle": false,
     "title": ""
    }
   },
   "source": [
    "#### high_season"
   ]
  },
  {
   "cell_type": "code",
   "execution_count": 0,
   "metadata": {
    "application/vnd.databricks.v1+cell": {
     "cellMetadata": {
      "byteLimit": 2048000,
      "rowLimit": 10000
     },
     "inputWidgets": {},
     "nuid": "402b8876-1a68-43c9-94b4-cd60737e1a93",
     "showTitle": false,
     "title": ""
    }
   },
   "outputs": [],
   "source": [
    "mask = (\n",
    "    (df[\"scheduled_date_and_time\"] >= \"2017-12-15 00:00:00\")\n",
    "    | (df[\"scheduled_date_and_time\"] < \"2017-03-04 00:00:00\")\n",
    "    | (\n",
    "        (df[\"scheduled_date_and_time\"] >= \"2017-07-15 00:00:00\")\n",
    "        & (df[\"scheduled_date_and_time\"] < \"2017-08-01 00:00:00\")\n",
    "    )\n",
    "    | (\n",
    "        (df[\"scheduled_date_and_time\"] >= \"2017-09-11 00:00:00\")\n",
    "        & (df[\"scheduled_date_and_time\"] < \"2017-10-01 00:00:00\")\n",
    "    )\n",
    ")"
   ]
  },
  {
   "cell_type": "code",
   "execution_count": 0,
   "metadata": {
    "application/vnd.databricks.v1+cell": {
     "cellMetadata": {
      "byteLimit": 2048000,
      "rowLimit": 10000
     },
     "inputWidgets": {},
     "nuid": "9e20c193-acf6-487b-81af-0f920876f896",
     "showTitle": false,
     "title": ""
    }
   },
   "outputs": [],
   "source": [
    "df[\"high_season\"] = np.where(mask, 1, 0)"
   ]
  },
  {
   "cell_type": "markdown",
   "metadata": {
    "application/vnd.databricks.v1+cell": {
     "cellMetadata": {
      "byteLimit": 2048000,
      "rowLimit": 10000
     },
     "inputWidgets": {},
     "nuid": "b6ff1820-8e05-4669-a7cb-e92f33fbec84",
     "showTitle": false,
     "title": ""
    }
   },
   "source": [
    "#### min_diff"
   ]
  },
  {
   "cell_type": "code",
   "execution_count": 0,
   "metadata": {
    "application/vnd.databricks.v1+cell": {
     "cellMetadata": {
      "byteLimit": 2048000,
      "rowLimit": 10000
     },
     "inputWidgets": {},
     "nuid": "98e184ab-d488-4da7-9642-1d48149ce002",
     "showTitle": false,
     "title": ""
    }
   },
   "outputs": [],
   "source": [
    "df[\"min_diff\"] = (\n",
    "    pd.to_datetime(df[\"operation_date_and_time\"])\n",
    "    - pd.to_datetime(df[\"scheduled_date_and_time\"])\n",
    ").dt.total_seconds() / 60"
   ]
  },
  {
   "cell_type": "markdown",
   "metadata": {
    "application/vnd.databricks.v1+cell": {
     "cellMetadata": {
      "byteLimit": 2048000,
      "rowLimit": 10000
     },
     "inputWidgets": {},
     "nuid": "1454b553-d9b5-400a-99da-bf269e1e5b88",
     "showTitle": false,
     "title": ""
    }
   },
   "source": [
    "#### delay_15"
   ]
  },
  {
   "cell_type": "code",
   "execution_count": 0,
   "metadata": {
    "application/vnd.databricks.v1+cell": {
     "cellMetadata": {
      "byteLimit": 2048000,
      "rowLimit": 10000
     },
     "inputWidgets": {},
     "nuid": "458dcd5a-a950-44c0-9b9b-dbcbf0825bd0",
     "showTitle": false,
     "title": ""
    }
   },
   "outputs": [],
   "source": [
    "df[\"delay_15\"] = np.where(df[\"min_diff\"] > 15, 1, 0)"
   ]
  },
  {
   "cell_type": "markdown",
   "metadata": {
    "application/vnd.databricks.v1+cell": {
     "cellMetadata": {
      "byteLimit": 2048000,
      "rowLimit": 10000
     },
     "inputWidgets": {},
     "nuid": "412500a3-3039-4fe4-abc0-d74d1cf93733",
     "showTitle": false,
     "title": ""
    }
   },
   "source": [
    "#### period_day"
   ]
  },
  {
   "cell_type": "code",
   "execution_count": 0,
   "metadata": {
    "application/vnd.databricks.v1+cell": {
     "cellMetadata": {
      "byteLimit": 2048000,
      "rowLimit": 10000
     },
     "inputWidgets": {},
     "nuid": "73024bef-3131-4224-9815-ecb7479b5451",
     "showTitle": false,
     "title": ""
    }
   },
   "outputs": [],
   "source": [
    "morning = (df[\"scheduled_date_and_time\"].dt.time >= datetime.time(5, 0)) & (\n",
    "    df[\"scheduled_date_and_time\"].dt.time <= datetime.time(11, 59)\n",
    ")\n",
    "\n",
    "afternoon = (df[\"scheduled_date_and_time\"].dt.time >= datetime.time(12, 0)) & (\n",
    "    df[\"scheduled_date_and_time\"].dt.time <= datetime.time(18, 59)\n",
    ")\n",
    "\n",
    "night = (df[\"scheduled_date_and_time\"].dt.time >= datetime.time(19, 0)) | (\n",
    "    df[\"scheduled_date_and_time\"].dt.time >= datetime.time(0, 0)\n",
    ") & (df[\"scheduled_date_and_time\"].dt.time <= datetime.time(4, 59))\n",
    "\n",
    "conditions = [morning, afternoon, night]"
   ]
  },
  {
   "cell_type": "code",
   "execution_count": 0,
   "metadata": {
    "application/vnd.databricks.v1+cell": {
     "cellMetadata": {
      "byteLimit": 2048000,
      "rowLimit": 10000
     },
     "inputWidgets": {},
     "nuid": "3c30d22b-f586-4e7b-ba81-f50601650e92",
     "showTitle": false,
     "title": ""
    }
   },
   "outputs": [],
   "source": [
    "df[\"period_day\"] = np.select(\n",
    "    conditions, [\"morning\", \"afternoon\", \"night\"], default=None\n",
    ")"
   ]
  },
  {
   "cell_type": "markdown",
   "metadata": {
    "application/vnd.databricks.v1+cell": {
     "cellMetadata": {
      "byteLimit": 2048000,
      "rowLimit": 10000
     },
     "inputWidgets": {},
     "nuid": "5dabeef3-3514-413e-98f1-951e73f2502a",
     "showTitle": false,
     "title": ""
    }
   },
   "source": [
    "#### count_flights_same_datetime\n",
    "\n",
    "Flights operated by the same airline code and planned for the same day"
   ]
  },
  {
   "cell_type": "code",
   "execution_count": 0,
   "metadata": {
    "application/vnd.databricks.v1+cell": {
     "cellMetadata": {
      "byteLimit": 2048000,
      "rowLimit": 10000
     },
     "inputWidgets": {},
     "nuid": "23aca2b0-9469-41f0-9ab0-5a2436ba24b0",
     "showTitle": false,
     "title": ""
    }
   },
   "outputs": [],
   "source": [
    "aux = (\n",
    "    df\n",
    "    .groupby([\"scheduled_date_and_time\", \"scheduled_airline_code\"])\n",
    "    .count()\n",
    "    .reset_index()[\n",
    "        [\"scheduled_date_and_time\", \"scheduled_airline_code\", \"scheduled_flight_number\"]\n",
    "    ]\n",
    "    .rename(columns={\"scheduled_flight_number\": \"count_flights_same_datetime\"})\n",
    ")"
   ]
  },
  {
   "cell_type": "code",
   "execution_count": 0,
   "metadata": {
    "application/vnd.databricks.v1+cell": {
     "cellMetadata": {
      "byteLimit": 2048000,
      "rowLimit": 10000
     },
     "inputWidgets": {},
     "nuid": "642dda4c-f3b0-4061-9761-6c3b4f8dc700",
     "showTitle": false,
     "title": ""
    }
   },
   "outputs": [],
   "source": [
    "df_merged = df.merge(\n",
    "    aux,\n",
    "    on=[\"scheduled_date_and_time\", \"scheduled_airline_code\"],\n",
    "    how=\"outer\",\n",
    "    validate=\"m:1\",\n",
    ")"
   ]
  },
  {
   "cell_type": "code",
   "execution_count": 0,
   "metadata": {
    "application/vnd.databricks.v1+cell": {
     "cellMetadata": {
      "byteLimit": 2048000,
      "rowLimit": 10000
     },
     "inputWidgets": {},
     "nuid": "964efe61-670e-4273-972c-d28b4bcf0e68",
     "showTitle": false,
     "title": ""
    }
   },
   "outputs": [],
   "source": [
    "assert df_merged.shape[0] == df.shape[0]"
   ]
  },
  {
   "cell_type": "code",
   "execution_count": 0,
   "metadata": {
    "application/vnd.databricks.v1+cell": {
     "cellMetadata": {
      "byteLimit": 2048000,
      "rowLimit": 10000
     },
     "inputWidgets": {},
     "nuid": "4e830f34-863e-4975-ae7d-58e9585277ca",
     "showTitle": false,
     "title": ""
    }
   },
   "outputs": [],
   "source": [
    "df[\"count_flights_same_datetime\"] = (\n",
    "    df_merged[\"count_flights_same_datetime\"].map({1: 0, 2: 1, 3: 2, 4:3}).fillna(0)\n",
    ")"
   ]
  },
  {
   "cell_type": "markdown",
   "metadata": {
    "application/vnd.databricks.v1+cell": {
     "cellMetadata": {
      "byteLimit": 2048000,
      "rowLimit": 10000
     },
     "inputWidgets": {},
     "nuid": "714f60f9-531b-45f2-826d-887c7ef9498f",
     "showTitle": false,
     "title": ""
    }
   },
   "source": [
    "#### scheduled_destination_city_airline"
   ]
  },
  {
   "cell_type": "code",
   "execution_count": 0,
   "metadata": {
    "application/vnd.databricks.v1+cell": {
     "cellMetadata": {
      "byteLimit": 2048000,
      "rowLimit": 10000
     },
     "inputWidgets": {},
     "nuid": "b1fb9860-df3a-4520-8a23-bdc97bec3e0b",
     "showTitle": false,
     "title": ""
    }
   },
   "outputs": [],
   "source": [
    "df[\"scheduled_destination_city_airline\"] = (\n",
    "    df[\"scheduled_destination_city_code\"] + \"_\" + df[\"scheduled_airline_code\"]\n",
    ")"
   ]
  },
  {
   "cell_type": "code",
   "execution_count": 0,
   "metadata": {
    "application/vnd.databricks.v1+cell": {
     "cellMetadata": {
      "byteLimit": 2048000,
      "rowLimit": 10000
     },
     "inputWidgets": {},
     "nuid": "22196ab8-0536-4bdc-9faa-658f7af3e6a3",
     "showTitle": false,
     "title": ""
    }
   },
   "outputs": [],
   "source": [
    "df[\"scheduled_destination_city_airline\"] .value_counts()"
   ]
  },
  {
   "cell_type": "markdown",
   "metadata": {
    "application/vnd.databricks.v1+cell": {
     "cellMetadata": {
      "byteLimit": 2048000,
      "rowLimit": 10000
     },
     "inputWidgets": {},
     "nuid": "1ad21b70-99f8-474c-82ca-d32a6da08df4",
     "showTitle": false,
     "title": ""
    }
   },
   "source": [
    "## 3. What is the behavior of the delay rate across destination, airline, month of the year, day of the week, season, type of flight? What variables would you expect to have the most influence in predicting delays?"
   ]
  },
  {
   "cell_type": "markdown",
   "metadata": {
    "application/vnd.databricks.v1+cell": {
     "cellMetadata": {
      "byteLimit": 2048000,
      "rowLimit": 10000
     },
     "inputWidgets": {},
     "nuid": "65983d02-4566-4514-88da-261b4a4197fb",
     "showTitle": false,
     "title": ""
    }
   },
   "source": [
    "#### Numerical features"
   ]
  },
  {
   "cell_type": "markdown",
   "metadata": {
    "application/vnd.databricks.v1+cell": {
     "cellMetadata": {
      "byteLimit": 2048000,
      "rowLimit": 10000
     },
     "inputWidgets": {},
     "nuid": "1ed5921c-9958-4ba5-bb5e-45b0623e80ca",
     "showTitle": false,
     "title": ""
    }
   },
   "source": [
    "- Null Hypothesis (H0): True correlation is equal to zero.\n",
    "\n",
    "- Alternative Hypothesis (H1): True correlation is not equal to zero."
   ]
  },
  {
   "cell_type": "code",
   "execution_count": 0,
   "metadata": {
    "application/vnd.databricks.v1+cell": {
     "cellMetadata": {
      "byteLimit": 2048000,
      "rowLimit": 10000
     },
     "inputWidgets": {},
     "nuid": "6d4a5e62-406d-44fc-8e41-004a0069d9c7",
     "showTitle": false,
     "title": ""
    }
   },
   "outputs": [],
   "source": [
    "# Perform a hypothesis testing: non-parametric method - Spearman rank-correlation.\n",
    "subj = ['delay_15']\n",
    "personality = list(set(df.columns) - set(\"delay_15\"))\n",
    "pg.pairwise_corr(df, columns=[subj, personality], method=\"spearman\").round(3).sort_values(by=\"p-unc\")"
   ]
  },
  {
   "cell_type": "markdown",
   "metadata": {
    "application/vnd.databricks.v1+cell": {
     "cellMetadata": {
      "byteLimit": 2048000,
      "rowLimit": 10000
     },
     "inputWidgets": {},
     "nuid": "ee68f939-e8ba-4dd3-9417-021709b2bf81",
     "showTitle": false,
     "title": ""
    }
   },
   "source": [
    "- The results show that the probability **first 5** rows pair-wise correlation values are lower than the conventional 5% (P<0.05), **thus here the alternative hypothesis is true**.\n",
    "- The features high_season, month_operation, count_flights_same_datetime are correlated with the target (delay_15). We can expect it to perform well in models."
   ]
  },
  {
   "cell_type": "code",
   "execution_count": 0,
   "metadata": {
    "application/vnd.databricks.v1+cell": {
     "cellMetadata": {
      "byteLimit": 2048000,
      "rowLimit": 10000
     },
     "inputWidgets": {},
     "nuid": "aef25f8a-c58b-4561-b0bc-390c4d5a4106",
     "showTitle": false,
     "title": ""
    }
   },
   "outputs": [],
   "source": [
    "fig, axs = plt.subplots(2, 2, figsize=(10,5))\n",
    "sns.scatterplot(data=df, x=\"high_season\", y=\"delay_15\", ax=axs[0, 0], hue=\"type_of_flight\")\n",
    "axs[0, 0].set_title(\"high_season\")\n",
    "sns.scatterplot(data=df, x=\"month_operation\", y=\"delay_15\", ax=axs[0, 1],  hue=\"type_of_flight\")\n",
    "axs[0, 1].set_title(\"month_operation\")\n",
    "sns.scatterplot(data=df, x=\"count_flights_same_datetime\", y=\"delay_15\", ax=axs[1, 0],  hue=\"type_of_flight\")\n",
    "sns.scatterplot(data=df, x=\"day_operation\", y=\"delay_15\", ax=axs[1, 1],  hue=\"type_of_flight\")\n",
    "\n",
    "for ax in axs.flat:\n",
    "    ax.set(ylabel=\"delay_15\")\n",
    "\n",
    "# Hide x labels and tick labels for top plots and y ticks for right plots.\n",
    "for ax in axs.flat:\n",
    "    ax.label_outer()"
   ]
  },
  {
   "cell_type": "code",
   "execution_count": 0,
   "metadata": {
    "application/vnd.databricks.v1+cell": {
     "cellMetadata": {
      "byteLimit": 2048000,
      "rowLimit": 10000
     },
     "inputWidgets": {},
     "nuid": "4f31351e-0f88-4bc8-8499-6dfed7a14054",
     "showTitle": false,
     "title": ""
    }
   },
   "outputs": [],
   "source": [
    "#18% of flights with delays of more than 15 minutes were operated by another airline\n",
    "df.query(\"scheduled_airline_code != operated_airline_code\")[\"delay_15\"].value_counts(normalize=True)"
   ]
  },
  {
   "cell_type": "code",
   "execution_count": 0,
   "metadata": {
    "application/vnd.databricks.v1+cell": {
     "cellMetadata": {
      "byteLimit": 2048000,
      "rowLimit": 10000
     },
     "inputWidgets": {},
     "nuid": "e4f45875-5910-4f0e-8404-f2cf6494edcb",
     "showTitle": false,
     "title": ""
    }
   },
   "outputs": [],
   "source": [
    "#28% of flights with delays of more than 15 minutes were rescheduled to another city\n",
    "df.query(\"scheduled_destination_city_code != operation_destination_city_code\")[\"delay_15\"].value_counts(normalize=True)"
   ]
  },
  {
   "cell_type": "markdown",
   "metadata": {
    "application/vnd.databricks.v1+cell": {
     "cellMetadata": {
      "byteLimit": 2048000,
      "rowLimit": 10000
     },
     "inputWidgets": {},
     "nuid": "437c5555-0dbd-4291-a5e8-dffcc8c78ff6",
     "showTitle": false,
     "title": ""
    }
   },
   "source": [
    "#### Destination\n",
    "\n",
    "- Of the major destinations, international and national flights appear to have two modes. Planned destinations were maintained."
   ]
  },
  {
   "cell_type": "code",
   "execution_count": 0,
   "metadata": {
    "application/vnd.databricks.v1+cell": {
     "cellMetadata": {
      "byteLimit": 2048000,
      "rowLimit": 10000
     },
     "inputWidgets": {},
     "nuid": "62c11932-7edd-49d1-8b9e-7f572f54ff74",
     "showTitle": false,
     "title": ""
    }
   },
   "outputs": [],
   "source": [
    "sns.catplot(\n",
    "    x=\"scheduled_destination_city_code\",\n",
    "    y=\"delay_15\",\n",
    "    data=df.query(\"scheduled_destination_city_code == operation_destination_city_code\"),\n",
    "    order=df[\"scheduled_destination_city_code\"].value_counts().iloc[:10].index,\n",
    "    height=5,\n",
    "    aspect=3,\n",
    "    legend=True,\n",
    "    hue=\"type_of_flight\",\n",
    "    kind=\"violin\",\n",
    ")"
   ]
  },
  {
   "cell_type": "code",
   "execution_count": 0,
   "metadata": {
    "application/vnd.databricks.v1+cell": {
     "cellMetadata": {
      "byteLimit": 2048000,
      "rowLimit": 10000
     },
     "inputWidgets": {},
     "nuid": "799514f5-4109-4537-a40a-2d3ea4219b75",
     "showTitle": false,
     "title": ""
    }
   },
   "outputs": [],
   "source": [
    "# More delays on international flights than domestic flights on some airlines, and vice versa\n",
    "sns.catplot(\n",
    "    x=\"scheduled_destination_city_code\",\n",
    "    y=\"delay_15\",\n",
    "    data=df.query(\"scheduled_destination_city_code != operation_destination_city_code\"),\n",
    "    order=df[\"scheduled_destination_city_code\"].value_counts().iloc[:10].index,\n",
    "    height=5,\n",
    "    aspect=3,\n",
    "    legend=True,\n",
    "    hue=\"type_of_flight\",\n",
    "    kind=\"violin\",\n",
    ")"
   ]
  },
  {
   "cell_type": "markdown",
   "metadata": {
    "application/vnd.databricks.v1+cell": {
     "cellMetadata": {
      "byteLimit": 2048000,
      "rowLimit": 10000
     },
     "inputWidgets": {},
     "nuid": "84640e93-9677-4a86-b001-1d275e578a90",
     "showTitle": false,
     "title": ""
    }
   },
   "source": [
    "#### Airline"
   ]
  },
  {
   "cell_type": "code",
   "execution_count": 0,
   "metadata": {
    "application/vnd.databricks.v1+cell": {
     "cellMetadata": {
      "byteLimit": 2048000,
      "rowLimit": 10000
     },
     "inputWidgets": {},
     "nuid": "0d88400c-bd7b-4a1e-b6da-95ec3dec61a9",
     "showTitle": false,
     "title": ""
    }
   },
   "outputs": [],
   "source": [
    "sns.catplot(\n",
    "    x=\"scheduled_airline_code\",\n",
    "    y=\"delay_15\",\n",
    "    data=df.query(\"scheduled_airline_code == operated_airline_code\"),\n",
    "    order=df[\"scheduled_airline_code\"].value_counts().iloc[:10].index,\n",
    "    height=5,\n",
    "    aspect=3,\n",
    "    legend=True,\n",
    "    hue=\"type_of_flight\",\n",
    "    kind=\"violin\",\n",
    ")"
   ]
  },
  {
   "cell_type": "code",
   "execution_count": 0,
   "metadata": {
    "application/vnd.databricks.v1+cell": {
     "cellMetadata": {
      "byteLimit": 2048000,
      "rowLimit": 10000
     },
     "inputWidgets": {},
     "nuid": "f26af0e3-f839-474f-b536-77a02173ab9d",
     "showTitle": false,
     "title": ""
    }
   },
   "outputs": [],
   "source": [
    "sns.catplot(\n",
    "    x=\"scheduled_airline_code\",\n",
    "    y=\"delay_15\",\n",
    "    data=df.query(\"scheduled_airline_code != operated_airline_code\"),\n",
    "    order=df[\"scheduled_airline_code\"].value_counts().iloc[:10].index,\n",
    "    height=5,\n",
    "    aspect=3,\n",
    "    legend=True,\n",
    "    hue=\"type_of_flight\",\n",
    "    kind=\"violin\",\n",
    ")"
   ]
  },
  {
   "cell_type": "markdown",
   "metadata": {
    "application/vnd.databricks.v1+cell": {
     "cellMetadata": {
      "byteLimit": 2048000,
      "rowLimit": 10000
     },
     "inputWidgets": {},
     "nuid": "f721d169-5cac-4617-bee3-4c8f01e1d672",
     "showTitle": false,
     "title": ""
    }
   },
   "source": [
    "#### Day of the week"
   ]
  },
  {
   "cell_type": "code",
   "execution_count": 0,
   "metadata": {
    "application/vnd.databricks.v1+cell": {
     "cellMetadata": {
      "byteLimit": 2048000,
      "rowLimit": 10000
     },
     "inputWidgets": {},
     "nuid": "9f91571b-bcab-40b2-aab6-42b437313975",
     "showTitle": false,
     "title": ""
    }
   },
   "outputs": [],
   "source": [
    "sns.catplot(\n",
    "    x=\"day_of_the_week_operation\",\n",
    "    y=\"delay_15\",\n",
    "    data=df,\n",
    "    height=5,\n",
    "    aspect=3,\n",
    "    legend=True,\n",
    "    hue=\"type_of_flight\",\n",
    "    kind=\"violin\",\n",
    ")"
   ]
  },
  {
   "cell_type": "code",
   "execution_count": 0,
   "metadata": {
    "application/vnd.databricks.v1+cell": {
     "cellMetadata": {
      "byteLimit": 2048000,
      "rowLimit": 10000
     },
     "inputWidgets": {},
     "nuid": "4f30fcf2-75d9-4e24-a868-01f2d7c8c46c",
     "showTitle": false,
     "title": ""
    }
   },
   "outputs": [],
   "source": [
    "sns.catplot(\n",
    "    x=\"period_day\",\n",
    "    y=\"delay_15\",\n",
    "    data=df,\n",
    "    height=5,\n",
    "    aspect=3,\n",
    "    legend=True,\n",
    "    hue=\"type_of_flight\",\n",
    "    kind=\"violin\",\n",
    ")"
   ]
  },
  {
   "cell_type": "code",
   "execution_count": 0,
   "metadata": {
    "application/vnd.databricks.v1+cell": {
     "cellMetadata": {
      "byteLimit": 2048000,
      "rowLimit": 10000
     },
     "inputWidgets": {},
     "nuid": "0ab3adf9-5771-4e6a-9a59-7bc0dbe5c997",
     "showTitle": false,
     "title": ""
    }
   },
   "outputs": [],
   "source": [
    "sns.scatterplot(data=df.query(\"period_day=='morning' and delay_15==1\"), x=\"period_day\", y=\"delay_15\",  hue=\"type_of_flight\")"
   ]
  },
  {
   "cell_type": "markdown",
   "metadata": {
    "application/vnd.databricks.v1+cell": {
     "cellMetadata": {
      "byteLimit": 2048000,
      "rowLimit": 10000
     },
     "inputWidgets": {},
     "nuid": "23d727b4-b2d3-4435-b676-319812cfacad",
     "showTitle": false,
     "title": ""
    }
   },
   "source": [
    "#### All categorical features x delay_15\n",
    "\n",
    "- ANOVA test: cannot be used because of your assumptions about the data\n",
    "- I chose the Spearman rank correlation coefficient because it is a non-parametric measure of rank correlation"
   ]
  },
  {
   "cell_type": "code",
   "execution_count": 0,
   "metadata": {
    "application/vnd.databricks.v1+cell": {
     "cellMetadata": {
      "byteLimit": 2048000,
      "rowLimit": 10000
     },
     "inputWidgets": {},
     "nuid": "af511261-2959-485f-89b0-5ca6f616b429",
     "showTitle": false,
     "title": ""
    }
   },
   "outputs": [],
   "source": [
    "df.columns"
   ]
  },
  {
   "cell_type": "code",
   "execution_count": 0,
   "metadata": {
    "application/vnd.databricks.v1+cell": {
     "cellMetadata": {
      "byteLimit": 2048000,
      "rowLimit": 10000
     },
     "inputWidgets": {},
     "nuid": "cb93633f-a900-4a67-b4d2-7528f19cddda",
     "showTitle": false,
     "title": ""
    }
   },
   "outputs": [],
   "source": [
    "features = [\n",
    "    \"airline_that_operates\",\n",
    "    \"day_of_the_week_operation\",\n",
    "    \"period_day\",\n",
    "    \"scheduled_destination_city_airline\"\n",
    "]"
   ]
  },
  {
   "cell_type": "code",
   "execution_count": 0,
   "metadata": {
    "application/vnd.databricks.v1+cell": {
     "cellMetadata": {
      "byteLimit": 2048000,
      "rowLimit": 10000
     },
     "inputWidgets": {},
     "nuid": "4580020b-2c31-42fe-a8a4-6980c9cb8e94",
     "showTitle": false,
     "title": ""
    }
   },
   "outputs": [],
   "source": [
    "# Pode ser que a feature combinada com outras traga bons resultados\n",
    "for f in features:\n",
    "    print(f\" Feature: {f}, Result: {stats.spearmanr(df['delay_15'], df[f])}\")"
   ]
  },
  {
   "cell_type": "markdown",
   "metadata": {
    "application/vnd.databricks.v1+cell": {
     "cellMetadata": {
      "byteLimit": 2048000,
      "rowLimit": 10000
     },
     "inputWidgets": {},
     "nuid": "6e40e9f6-9302-4992-98a3-1c9687c70ecd",
     "showTitle": false,
     "title": ""
    }
   },
   "source": [
    "## 4. Train one or several models (using the algorithm(s) of your choice) to estimate the likelihood of a flight delay. Feel free to generate additional variables and/or supplement with external variables:"
   ]
  },
  {
   "cell_type": "markdown",
   "metadata": {
    "application/vnd.databricks.v1+cell": {
     "cellMetadata": {
      "byteLimit": 2048000,
      "rowLimit": 10000
     },
     "inputWidgets": {},
     "nuid": "b229540c-779e-4fc0-a095-aef9fc875b50",
     "showTitle": false,
     "title": ""
    }
   },
   "source": [
    "### Scenario 1\n",
    "\n",
    "Operational data cannot be used in training because it can lead to target deviations, as we do not have this information at the time of prediction."
   ]
  },
  {
   "cell_type": "markdown",
   "metadata": {
    "application/vnd.databricks.v1+cell": {
     "cellMetadata": {
      "byteLimit": 2048000,
      "rowLimit": 10000
     },
     "inputWidgets": {},
     "nuid": "0b03c63d-cb92-42dd-bf5a-59842190a114",
     "showTitle": false,
     "title": ""
    }
   },
   "source": [
    "#### Treat categorical features"
   ]
  },
  {
   "cell_type": "code",
   "execution_count": 0,
   "metadata": {
    "application/vnd.databricks.v1+cell": {
     "cellMetadata": {
      "byteLimit": 2048000,
      "rowLimit": 10000
     },
     "inputWidgets": {},
     "nuid": "370963b7-f67f-4190-83c5-8ece05136bba",
     "showTitle": false,
     "title": ""
    }
   },
   "outputs": [],
   "source": [
    "df.columns"
   ]
  },
  {
   "cell_type": "code",
   "execution_count": 0,
   "metadata": {
    "application/vnd.databricks.v1+cell": {
     "cellMetadata": {
      "byteLimit": 2048000,
      "rowLimit": 10000
     },
     "inputWidgets": {},
     "nuid": "34862269-2d73-4607-b9f1-1e1bdb1d8e00",
     "showTitle": false,
     "title": ""
    }
   },
   "outputs": [],
   "source": [
    "model_inputs = [\n",
    "    \n",
    "        \"scheduled_destination_city_code\",\n",
    "        \"scheduled_airline_code\",\n",
    "        \"type_of_flight\",\n",
    "        \"high_season\",\n",
    "        \"delay_15\",\n",
    "        \"period_day\",\n",
    "        \"count_flights_same_datetime\",\n",
    "    \n",
    "]"
   ]
  },
  {
   "cell_type": "code",
   "execution_count": 0,
   "metadata": {
    "application/vnd.databricks.v1+cell": {
     "cellMetadata": {
      "byteLimit": 2048000,
      "rowLimit": 10000
     },
     "inputWidgets": {},
     "nuid": "ae4db94f-4def-44ff-9a68-58ac55cf6639",
     "showTitle": false,
     "title": ""
    }
   },
   "outputs": [],
   "source": [
    "df = df.reset_index(drop=True)"
   ]
  },
  {
   "cell_type": "markdown",
   "metadata": {
    "application/vnd.databricks.v1+cell": {
     "cellMetadata": {},
     "inputWidgets": {},
     "nuid": "a1e1963e-afe6-4ea2-961e-8de408cb451f",
     "showTitle": false,
     "title": ""
    }
   },
   "source": [
    "One-hot encoding can be computationally expensive and can lead to a high-dimensional feature space, especially for variables with many categories. So, we'll do it only with the categories below.\n",
    "\n",
    "I1ll use CatBoostEnconder for the other columns. We then fit the encoder on the training data and transform both the training and testing data using the trained encoder."
   ]
  },
  {
   "cell_type": "code",
   "execution_count": 0,
   "metadata": {
    "application/vnd.databricks.v1+cell": {
     "cellMetadata": {
      "byteLimit": 2048000,
      "rowLimit": 10000
     },
     "inputWidgets": {},
     "nuid": "fece51e1-1ff1-4814-af1f-0709b6617e93",
     "showTitle": false,
     "title": ""
    }
   },
   "outputs": [],
   "source": [
    "encoded_df = pd.get_dummies(\n",
    "    df[model_inputs],\n",
    "    columns=[\"type_of_flight\", \"period_day\"],\n",
    "    prefix=[\"type_of_flight\", \"period_day\"],\n",
    "    drop_first=[True, False],\n",
    ")"
   ]
  },
  {
   "cell_type": "markdown",
   "metadata": {
    "application/vnd.databricks.v1+cell": {
     "cellMetadata": {},
     "inputWidgets": {},
     "nuid": "7a9d6f29-e0a5-478f-8cb6-08b521fe996e",
     "showTitle": false,
     "title": ""
    }
   },
   "source": [
    "#### Train test split"
   ]
  },
  {
   "cell_type": "code",
   "execution_count": 0,
   "metadata": {
    "application/vnd.databricks.v1+cell": {
     "cellMetadata": {
      "byteLimit": 2048000,
      "rowLimit": 10000
     },
     "inputWidgets": {},
     "nuid": "9680595c-68c9-446c-8419-6e5ab5296e61",
     "showTitle": false,
     "title": ""
    }
   },
   "outputs": [],
   "source": [
    "X, y = train_test_split(\n",
    "    encoded_df,\n",
    "    stratify=encoded_df[\"delay_15\"],\n",
    "    test_size=0.20,\n",
    "    random_state=42,\n",
    ")"
   ]
  },
  {
   "cell_type": "code",
   "execution_count": 0,
   "metadata": {
    "application/vnd.databricks.v1+cell": {
     "cellMetadata": {
      "byteLimit": 2048000,
      "rowLimit": 10000
     },
     "inputWidgets": {},
     "nuid": "1229dece-32c3-4423-906c-695053c62234",
     "showTitle": false,
     "title": ""
    }
   },
   "outputs": [],
   "source": [
    "assert set(list(X.index)).intersection(set(y.index)) == set()"
   ]
  },
  {
   "cell_type": "code",
   "execution_count": 0,
   "metadata": {
    "application/vnd.databricks.v1+cell": {
     "cellMetadata": {
      "byteLimit": 2048000,
      "rowLimit": 10000
     },
     "inputWidgets": {},
     "nuid": "6e671d7c-c738-4f75-86ab-ccf0d9f28d0c",
     "showTitle": false,
     "title": ""
    }
   },
   "outputs": [],
   "source": [
    "assert X[\"delay_15\"].value_counts(normalize=True)[0] < 0.82"
   ]
  },
  {
   "cell_type": "code",
   "execution_count": 0,
   "metadata": {
    "application/vnd.databricks.v1+cell": {
     "cellMetadata": {
      "byteLimit": 2048000,
      "rowLimit": 10000
     },
     "inputWidgets": {},
     "nuid": "a3325468-52dc-48f7-9b6e-9396c37ef610",
     "showTitle": false,
     "title": ""
    }
   },
   "outputs": [],
   "source": [
    "assert y[\"delay_15\"].value_counts(normalize=True)[0] < 0.82"
   ]
  },
  {
   "cell_type": "code",
   "execution_count": 0,
   "metadata": {
    "application/vnd.databricks.v1+cell": {
     "cellMetadata": {
      "byteLimit": 2048000,
      "rowLimit": 10000
     },
     "inputWidgets": {},
     "nuid": "45ba375a-be93-455c-b964-82e9ef1356ab",
     "showTitle": false,
     "title": ""
    }
   },
   "outputs": [],
   "source": [
    "train_x = X.drop(\"delay_15\", axis=1)\n",
    "train_y = X[\"delay_15\"]\n",
    "\n",
    "test_x = y.drop(\"delay_15\", axis=1)\n",
    "test_y = y[\"delay_15\"]\n"
   ]
  },
  {
   "cell_type": "markdown",
   "metadata": {
    "application/vnd.databricks.v1+cell": {
     "cellMetadata": {},
     "inputWidgets": {},
     "nuid": "d72f6b26-cb13-4078-8394-75b0e8105bb3",
     "showTitle": false,
     "title": ""
    }
   },
   "source": [
    "#### Enconding with categorical encoder"
   ]
  },
  {
   "cell_type": "code",
   "execution_count": 0,
   "metadata": {
    "application/vnd.databricks.v1+cell": {
     "cellMetadata": {
      "byteLimit": 2048000,
      "rowLimit": 10000
     },
     "inputWidgets": {},
     "nuid": "dfddac27-f7f8-40bc-8300-31a6d7102c78",
     "showTitle": false,
     "title": ""
    }
   },
   "outputs": [],
   "source": [
    "# create a categorical encoder and fit it to the training data\n",
    "encoder = ce.CatBoostEncoder(cols=['scheduled_destination_city_code', 'scheduled_airline_code'], random_state=42)\n",
    "X_train_encoded = encoder.fit_transform(train_x, train_y)"
   ]
  },
  {
   "cell_type": "code",
   "execution_count": 0,
   "metadata": {
    "application/vnd.databricks.v1+cell": {
     "cellMetadata": {
      "byteLimit": 2048000,
      "rowLimit": 10000
     },
     "inputWidgets": {},
     "nuid": "594a7237-4501-4503-a597-353cef250b7f",
     "showTitle": false,
     "title": ""
    }
   },
   "outputs": [],
   "source": [
    "base_parameters_lgbm_class = {\n",
    "    \"objective\": \"binary\",\n",
    "    \"boosting_type\": \"dart\",\n",
    "    \"metric\": \"binary_logloss\",\n",
    "    \"device_type\": \"cpu\",\n",
    "    \"num_threads\": 4,\n",
    "    \"enable_bundle\": True,\n",
    "    \"verbose\": -1,\n",
    "    \"random_seed\": 0,\n",
    "    \"is_unbalance\": True,\n",
    "    \"extra_trees\": True,\n",
    "}"
   ]
  },
  {
   "cell_type": "code",
   "execution_count": 0,
   "metadata": {
    "application/vnd.databricks.v1+cell": {
     "cellMetadata": {
      "byteLimit": 2048000,
      "rowLimit": 10000
     },
     "inputWidgets": {},
     "nuid": "e5ad4913-c3df-4ef2-9559-c448ba4dc4d0",
     "showTitle": false,
     "title": ""
    }
   },
   "outputs": [],
   "source": [
    "# transform the testing data using the trained encoder\n",
    "X_test_encoded = encoder.transform(X_test)"
   ]
  },
  {
   "cell_type": "markdown",
   "metadata": {
    "application/vnd.databricks.v1+cell": {
     "cellMetadata": {},
     "inputWidgets": {},
     "nuid": "e57b0fc1-4c92-4008-9958-20c5583092dc",
     "showTitle": false,
     "title": ""
    }
   },
   "source": [
    "#### First train"
   ]
  },
  {
   "cell_type": "code",
   "execution_count": 0,
   "metadata": {
    "application/vnd.databricks.v1+cell": {
     "cellMetadata": {
      "byteLimit": 2048000,
      "rowLimit": 10000
     },
     "inputWidgets": {},
     "nuid": "9d4ac2dc-958f-4020-8e06-c0b668ebecc9",
     "showTitle": false,
     "title": ""
    }
   },
   "outputs": [],
   "source": [
    "train_set = lgbm.Dataset(\n",
    "    X_train_encoded,\n",
    "    label=train_y\n",
    ")"
   ]
  },
  {
   "cell_type": "code",
   "execution_count": 0,
   "metadata": {
    "application/vnd.databricks.v1+cell": {
     "cellMetadata": {
      "byteLimit": 2048000,
      "rowLimit": 10000
     },
     "inputWidgets": {},
     "nuid": "8de2bb3c-6bb1-43fe-b80d-3279d7db8f86",
     "showTitle": false,
     "title": ""
    }
   },
   "outputs": [],
   "source": [
    "model = lgbm.train(base_parameters_lgbm_class, train_set)"
   ]
  },
  {
   "cell_type": "code",
   "execution_count": 0,
   "metadata": {
    "application/vnd.databricks.v1+cell": {
     "cellMetadata": {
      "byteLimit": 2048000,
      "rowLimit": 10000
     },
     "inputWidgets": {},
     "nuid": "e8409ad4-e8b7-4638-baee-277b7ebc6a13",
     "showTitle": false,
     "title": ""
    }
   },
   "outputs": [],
   "source": [
    "y_pred_train = model.predict(\n",
    "    X_train_encoded,\n",
    "    num_iteration=model.best_iteration,\n",
    ")\n",
    "\n",
    "y_pred_test = model.predict(\n",
    "    X_test_encoded,\n",
    "    num_iteration=model.best_iteration,\n",
    ")"
   ]
  },
  {
   "cell_type": "code",
   "execution_count": 0,
   "metadata": {
    "application/vnd.databricks.v1+cell": {
     "cellMetadata": {
      "byteLimit": 2048000,
      "rowLimit": 10000
     },
     "inputWidgets": {},
     "nuid": "72028e4c-cb63-4a5a-b590-b4b3fc142ed0",
     "showTitle": false,
     "title": ""
    }
   },
   "outputs": [],
   "source": [
    "y_train[:10000]"
   ]
  },
  {
   "cell_type": "code",
   "execution_count": 0,
   "metadata": {
    "application/vnd.databricks.v1+cell": {
     "cellMetadata": {
      "byteLimit": 2048000,
      "rowLimit": 10000
     },
     "inputWidgets": {},
     "nuid": "4bc666ce-22cf-4919-994d-df88ad6bec83",
     "showTitle": false,
     "title": ""
    }
   },
   "outputs": [],
   "source": [
    "y_pred_train[:10000]"
   ]
  },
  {
   "cell_type": "code",
   "execution_count": 0,
   "metadata": {
    "application/vnd.databricks.v1+cell": {
     "cellMetadata": {
      "byteLimit": 2048000,
      "rowLimit": 10000
     },
     "inputWidgets": {},
     "nuid": "03862bde-301d-4751-aa24-dc76d39401cb",
     "showTitle": false,
     "title": ""
    }
   },
   "outputs": [],
   "source": [
    "# Convert to binary\n",
    "y_pred_train = continuous_to_binary(y_pred_train, 0.5)\n",
    "y_pred_test = continuous_to_binary(y_pred_test, 0.5)\n",
    "\n",
    "current_score_test_recall = recall_score(\n",
    "   y_pred_test, y_test, zero_division=0\n",
    ")\n",
    "current_score_train_recall = recall_score(\n",
    "    y_pred_train, y_train, zero_division=0\n",
    ")\n",
    "\n",
    "\n",
    "current_score_test_precision = precision_score(\n",
    "   y_pred_test, y_test, zero_division=0\n",
    ")\n",
    "current_score_train_precision = precision_score(\n",
    "    y_pred_train, y_train, zero_division=0\n",
    ")\n"
   ]
  },
  {
   "cell_type": "code",
   "execution_count": 0,
   "metadata": {
    "application/vnd.databricks.v1+cell": {
     "cellMetadata": {
      "byteLimit": 2048000,
      "rowLimit": 10000
     },
     "inputWidgets": {},
     "nuid": "d129b8af-25f7-449d-be5a-47351338d3f0",
     "showTitle": false,
     "title": ""
    }
   },
   "outputs": [],
   "source": [
    "current_score_test_recall, current_score_train_recall, current_score_test_precision, current_score_train_precision"
   ]
  },
  {
   "cell_type": "code",
   "execution_count": 0,
   "metadata": {
    "application/vnd.databricks.v1+cell": {
     "cellMetadata": {
      "byteLimit": 2048000,
      "rowLimit": 10000
     },
     "inputWidgets": {},
     "nuid": "d68804ef-8878-43cb-8660-52937045937c",
     "showTitle": false,
     "title": ""
    }
   },
   "outputs": [],
   "source": [
    "print(classification_report(y_train, y_pred_train))"
   ]
  },
  {
   "cell_type": "code",
   "execution_count": 0,
   "metadata": {
    "application/vnd.databricks.v1+cell": {
     "cellMetadata": {
      "byteLimit": 2048000,
      "rowLimit": 10000
     },
     "inputWidgets": {},
     "nuid": "8159350e-cc53-463f-aefc-e1eb9472a75f",
     "showTitle": false,
     "title": ""
    }
   },
   "outputs": [],
   "source": [
    "def continuous_to_binary(y_array: np.array, threshold: float = None) -> list:\n",
    "    \"\"\"Convert an np.array with continuous values to boolean according to the threshold specified. The threshold is defined according to the **define_best_threshold** method.\n",
    "\n",
    "    Args:\n",
    "        y_array (np.array): np.array with continuous values\n",
    "        \n",
    "        threshold (str): default threshold\n",
    "\n",
    "    Returns:\n",
    "        list: list of boolean values\n",
    "    \"\"\"\n",
    "\n",
    "    if threshold is None:\n",
    "        threshold = 0.5\n",
    "    y_array = [1 if i > threshold else 0 for i in y_array]\n",
    "\n",
    "    return y_array\n"
   ]
  },
  {
   "cell_type": "markdown",
   "metadata": {
    "application/vnd.databricks.v1+cell": {
     "cellMetadata": {},
     "inputWidgets": {},
     "nuid": "46f5f19e-f35f-4365-8bb4-35f69ef46a03",
     "showTitle": false,
     "title": ""
    }
   },
   "source": [
    "#### Training with cross validation and applying fine tunning"
   ]
  },
  {
   "cell_type": "code",
   "execution_count": 0,
   "metadata": {
    "application/vnd.databricks.v1+cell": {
     "cellMetadata": {},
     "inputWidgets": {},
     "nuid": "60f9df72-06ee-4658-97b7-915c607df780",
     "showTitle": false,
     "title": ""
    }
   },
   "outputs": [],
   "source": [
    "# Remove columns that cant be part of train set because can cause dataleakege\n",
    "#train_columns"
   ]
  },
  {
   "cell_type": "markdown",
   "metadata": {
    "application/vnd.databricks.v1+cell": {
     "cellMetadata": {},
     "inputWidgets": {},
     "nuid": "3e743c94-5845-47a6-94d4-ca9161886034",
     "showTitle": false,
     "title": ""
    }
   },
   "source": [
    "## 5. Evaluate model performance in the predictive task across each model that you trained. Define and justify what metrics you used to assess model performance. Pick the best trained model and evaluate the following: What variables were the most influential in the prediction task? How could you improve the Performance?"
   ]
  }
 ],
 "metadata": {
  "application/vnd.databricks.v1+notebook": {
   "dashboards": [],
   "language": "python",
   "notebookMetadata": {
    "pythonIndentUnit": 4
   },
   "notebookName": "solution",
   "notebookOrigID": 3770315870892593,
   "widgets": {}
  },
  "kernelspec": {
   "display_name": "base",
   "language": "python",
   "name": "python3"
  },
  "language_info": {
   "codemirror_mode": {
    "name": "ipython",
    "version": 3
   },
   "file_extension": ".py",
   "mimetype": "text/x-python",
   "name": "python",
   "nbconvert_exporter": "python",
   "pygments_lexer": "ipython3",
   "version": "3.8.8"
  },
  "orig_nbformat": 4,
  "vscode": {
   "interpreter": {
    "hash": "85a5cee4a5353712f2b6001a0ac95e17d922d3c5904035dc1b3f52e6ca59a4b1"
   }
  }
 },
 "nbformat": 4,
 "nbformat_minor": 0
}
